{
 "cells": [
  {
   "cell_type": "markdown",
   "metadata": {},
   "source": [
    "## Image Classification"
   ]
  },
  {
   "cell_type": "markdown",
   "metadata": {},
   "source": [
    "### Download dependencies"
   ]
  },
  {
   "cell_type": "code",
   "execution_count": 2,
   "metadata": {},
   "outputs": [
    {
     "name": "stdout",
     "output_type": "stream",
     "text": [
      "Collecting numpy\n",
      "  Using cached numpy-2.2.4-cp313-cp313-win_amd64.whl.metadata (60 kB)\n",
      "Using cached numpy-2.2.4-cp313-cp313-win_amd64.whl (12.6 MB)\n",
      "Installing collected packages: numpy\n",
      "Successfully installed numpy-2.2.4\n",
      "Note: you may need to restart the kernel to use updated packages.\n"
     ]
    }
   ],
   "source": [
    "# pip install numpy"
   ]
  },
  {
   "cell_type": "code",
   "execution_count": null,
   "metadata": {},
   "outputs": [],
   "source": [
    "# pip uninstall torch torchvision torchaudio -y"
   ]
  },
  {
   "cell_type": "code",
   "execution_count": null,
   "metadata": {},
   "outputs": [],
   "source": [
    "# pip install torch torchvision torchaudio --index-url https://download.pytorch.org/whl/rocm6.2.4"
   ]
  },
  {
   "cell_type": "code",
   "execution_count": 3,
   "metadata": {},
   "outputs": [
    {
     "name": "stdout",
     "output_type": "stream",
     "text": [
      "Collecting torch\n",
      "  Using cached torch-2.6.0-cp313-cp313-win_amd64.whl.metadata (28 kB)\n",
      "Collecting torchvision\n",
      "  Using cached torchvision-0.21.0-cp313-cp313-win_amd64.whl.metadata (6.3 kB)\n",
      "Collecting torchaudio\n",
      "  Using cached torchaudio-2.6.0-cp313-cp313-win_amd64.whl.metadata (6.7 kB)\n",
      "Collecting filelock (from torch)\n",
      "  Using cached filelock-3.18.0-py3-none-any.whl.metadata (2.9 kB)\n",
      "Collecting typing-extensions>=4.10.0 (from torch)\n",
      "  Using cached typing_extensions-4.12.2-py3-none-any.whl.metadata (3.0 kB)\n",
      "Collecting networkx (from torch)\n",
      "  Using cached networkx-3.4.2-py3-none-any.whl.metadata (6.3 kB)\n",
      "Collecting jinja2 (from torch)\n",
      "  Using cached jinja2-3.1.6-py3-none-any.whl.metadata (2.9 kB)\n",
      "Collecting fsspec (from torch)\n",
      "  Using cached fsspec-2025.3.0-py3-none-any.whl.metadata (11 kB)\n",
      "Collecting setuptools (from torch)\n",
      "  Downloading setuptools-77.0.3-py3-none-any.whl.metadata (6.6 kB)\n",
      "Collecting sympy==1.13.1 (from torch)\n",
      "  Using cached sympy-1.13.1-py3-none-any.whl.metadata (12 kB)\n",
      "Collecting mpmath<1.4,>=1.1.0 (from sympy==1.13.1->torch)\n",
      "  Using cached mpmath-1.3.0-py3-none-any.whl.metadata (8.6 kB)\n",
      "Requirement already satisfied: numpy in c:\\users\\tansh\\onedrive\\desktop\\anime_recommender_systemv2\\.venv\\lib\\site-packages (from torchvision) (2.2.4)\n",
      "Collecting pillow!=8.3.*,>=5.3.0 (from torchvision)\n",
      "  Using cached pillow-11.1.0-cp313-cp313-win_amd64.whl.metadata (9.3 kB)\n",
      "Collecting MarkupSafe>=2.0 (from jinja2->torch)\n",
      "  Using cached MarkupSafe-3.0.2-cp313-cp313-win_amd64.whl.metadata (4.1 kB)\n",
      "Using cached torch-2.6.0-cp313-cp313-win_amd64.whl (204.1 MB)\n",
      "Using cached sympy-1.13.1-py3-none-any.whl (6.2 MB)\n",
      "Using cached torchvision-0.21.0-cp313-cp313-win_amd64.whl (1.6 MB)\n",
      "Using cached torchaudio-2.6.0-cp313-cp313-win_amd64.whl (2.4 MB)\n",
      "Using cached pillow-11.1.0-cp313-cp313-win_amd64.whl (2.6 MB)\n",
      "Using cached typing_extensions-4.12.2-py3-none-any.whl (37 kB)\n",
      "Using cached filelock-3.18.0-py3-none-any.whl (16 kB)\n",
      "Using cached fsspec-2025.3.0-py3-none-any.whl (193 kB)\n",
      "Using cached jinja2-3.1.6-py3-none-any.whl (134 kB)\n",
      "Using cached networkx-3.4.2-py3-none-any.whl (1.7 MB)\n",
      "Downloading setuptools-77.0.3-py3-none-any.whl (1.3 MB)\n",
      "   ---------------------------------------- 0.0/1.3 MB ? eta -:--:--\n",
      "   ---------------------------------------- 1.3/1.3 MB 24.3 MB/s eta 0:00:00\n",
      "Using cached MarkupSafe-3.0.2-cp313-cp313-win_amd64.whl (15 kB)\n",
      "Using cached mpmath-1.3.0-py3-none-any.whl (536 kB)\n",
      "Installing collected packages: mpmath, typing-extensions, sympy, setuptools, pillow, networkx, MarkupSafe, fsspec, filelock, jinja2, torch, torchvision, torchaudio\n",
      "Successfully installed MarkupSafe-3.0.2 filelock-3.18.0 fsspec-2025.3.0 jinja2-3.1.6 mpmath-1.3.0 networkx-3.4.2 pillow-11.1.0 setuptools-77.0.3 sympy-1.13.1 torch-2.6.0 torchaudio-2.6.0 torchvision-0.21.0 typing-extensions-4.12.2\n",
      "Note: you may need to restart the kernel to use updated packages.\n"
     ]
    }
   ],
   "source": [
    "# pip install torch torchvision torchaudio"
   ]
  },
  {
   "cell_type": "code",
   "execution_count": 4,
   "metadata": {},
   "outputs": [
    {
     "name": "stdout",
     "output_type": "stream",
     "text": [
      "Collecting tqdm\n",
      "  Using cached tqdm-4.67.1-py3-none-any.whl.metadata (57 kB)\n",
      "Requirement already satisfied: colorama in c:\\users\\tansh\\onedrive\\desktop\\anime_recommender_systemv2\\.venv\\lib\\site-packages (from tqdm) (0.4.6)\n",
      "Using cached tqdm-4.67.1-py3-none-any.whl (78 kB)\n",
      "Installing collected packages: tqdm\n",
      "Successfully installed tqdm-4.67.1\n",
      "Note: you may need to restart the kernel to use updated packages.\n"
     ]
    }
   ],
   "source": [
    "pip install tqdm"
   ]
  },
  {
   "cell_type": "code",
   "execution_count": 5,
   "metadata": {},
   "outputs": [],
   "source": [
    "import numpy as np\n",
    "from PIL import Image\n",
    "import torch \n",
    "import torch.nn as nn\n",
    "import torch.nn.functional as F\n",
    "import torch.optim as optim\n",
    "import torchvision\n",
    "import torchvision.transforms as transforms\n",
    "from torch.utils.data import DataLoader, random_split"
   ]
  },
  {
   "cell_type": "code",
   "execution_count": 6,
   "metadata": {},
   "outputs": [
    {
     "name": "stdout",
     "output_type": "stream",
     "text": [
      "False\n"
     ]
    }
   ],
   "source": [
    "print(torch.cuda.is_available())"
   ]
  },
  {
   "cell_type": "code",
   "execution_count": 7,
   "metadata": {},
   "outputs": [],
   "source": [
    "transform = transforms.Compose([\n",
    "    transforms.Resize(256),            \n",
    "    transforms.CenterCrop(224), \n",
    "    transforms.RandomHorizontalFlip(p=0.5),  # Randomly flip images\n",
    "    transforms.RandomRotation(20),  # Rotate images by up to 20 degrees\n",
    "    transforms.ColorJitter(brightness=0.2, contrast=0.2, saturation=0.2),\n",
    "    transforms.RandomAffine(degrees=15, translate=(0.1, 0.1)), # Slight translations\n",
    "    transforms.ToTensor(),\n",
    "    transforms.Normalize((0.5,0.5,0.5), (0.5,0.5,0.5))\n",
    "])\n"
   ]
  },
  {
   "cell_type": "code",
   "execution_count": 8,
   "metadata": {},
   "outputs": [],
   "source": [
    "dataset = torchvision.datasets.ImageFolder(root='dataset/Images', transform=transform)\n",
    "\n",
    "train_size = int(0.9 * len(dataset))\n",
    "test_size = len(dataset) - train_size\n",
    "\n",
    "train_data, test_data = random_split(dataset, [train_size, test_size])\n",
    "\n",
    "train_loader = torch.utils.data.DataLoader(train_data, batch_size=64, shuffle=True, num_workers=2)\n",
    "test_loader = torch.utils.data.DataLoader(test_data, batch_size=64, shuffle=True, num_workers=2)"
   ]
  },
  {
   "cell_type": "code",
   "execution_count": 9,
   "metadata": {},
   "outputs": [],
   "source": [
    "image, label = train_data[0]"
   ]
  },
  {
   "cell_type": "code",
   "execution_count": 10,
   "metadata": {},
   "outputs": [
    {
     "data": {
      "text/plain": [
       "torch.Size([3, 224, 224])"
      ]
     },
     "execution_count": 10,
     "metadata": {},
     "output_type": "execute_result"
    }
   ],
   "source": [
    "image.size()"
   ]
  },
  {
   "cell_type": "code",
   "execution_count": 11,
   "metadata": {},
   "outputs": [],
   "source": [
    "class_name = ['Action','Horror','Romance','Sci-Fi','Sports']"
   ]
  },
  {
   "cell_type": "code",
   "execution_count": 12,
   "metadata": {},
   "outputs": [],
   "source": [
    "class NeuralNet(nn.Module):\n",
    "\n",
    "    def __init__(self):\n",
    "        super().__init__()\n",
    "\n",
    "        self.conv1 = nn.Conv2d(3, 12, 5) # (12, 220, 220)\n",
    "        self.pool = nn.MaxPool2d(2, 2) # (12, 110, 110)\n",
    "        self.conv2 = nn.Conv2d(12, 24, 5) # (24, 106, 106) -> (24, 53, 53)\n",
    "\n",
    "        self.fc1 = nn.Linear(24 * 53 * 53, 120)\n",
    "        self.fc2 = nn.Linear(120, 84)\n",
    "        self.fc3 = nn.Linear(84, 5)\n",
    "\n",
    "    def forward(self, x):\n",
    "        x = self.pool(F.relu(self.conv1(x)))  \n",
    "        x = self.pool(F.relu(self.conv2(x)))  \n",
    "        x = torch.flatten(x, 1)\n",
    "        x = F.relu(self.fc1(x))         \n",
    "        x = F.relu(self.fc2(x))\n",
    "        x = self.fc3(x)\n",
    "        return x\n",
    "\n"
   ]
  },
  {
   "cell_type": "code",
   "execution_count": 13,
   "metadata": {},
   "outputs": [],
   "source": [
    "net = NeuralNet()\n",
    "loss_function = nn.CrossEntropyLoss()\n",
    "optimizer = optim.SGD(net.parameters(), lr=0.01)\n",
    "\n",
    "device = torch.device(\"cuda:0\" if torch.cuda.is_available() else \"cpu\")\n",
    "net = net.to(device)"
   ]
  },
  {
   "cell_type": "code",
   "execution_count": 14,
   "metadata": {},
   "outputs": [
    {
     "name": "stderr",
     "output_type": "stream",
     "text": [
      "Epoch 1:   0%|          | 0/14 [00:00<?, ?it/s]/home/ray/Desktop/Anime_Recommender_SystemV2/.venv/lib/python3.12/site-packages/torch/nn/modules/linear.py:125: UserWarning: Attempting to use hipBLASLt on an unsupported architecture! Overriding blas backend to hipblas (Triggered internally at /pytorch/aten/src/ATen/Context.cpp:310.)\n",
      "  return F.linear(input, self.weight, self.bias)\n",
      "Epoch 1: 100%|██████████| 14/14 [00:01<00:00,  9.74it/s]\n",
      "Epoch 2: 100%|██████████| 14/14 [00:01<00:00, 10.43it/s]\n",
      "Epoch 3: 100%|██████████| 14/14 [00:01<00:00, 10.35it/s]\n",
      "Epoch 4: 100%|██████████| 14/14 [00:01<00:00, 10.50it/s]\n",
      "Epoch 5: 100%|██████████| 14/14 [00:01<00:00, 10.26it/s]\n",
      "Epoch 6: 100%|██████████| 14/14 [00:01<00:00, 10.26it/s]\n",
      "Epoch 7: 100%|██████████| 14/14 [00:01<00:00, 10.25it/s]\n",
      "Epoch 8: 100%|██████████| 14/14 [00:01<00:00, 10.31it/s]\n",
      "Epoch 9: 100%|██████████| 14/14 [00:01<00:00, 10.27it/s]\n",
      "Epoch 10: 100%|██████████| 14/14 [00:01<00:00, 10.16it/s]\n",
      "Epoch 11: 100%|██████████| 14/14 [00:01<00:00, 10.39it/s]\n",
      "Epoch 12: 100%|██████████| 14/14 [00:01<00:00, 10.09it/s]\n",
      "Epoch 13: 100%|██████████| 14/14 [00:01<00:00, 10.20it/s]\n",
      "Epoch 14: 100%|██████████| 14/14 [00:01<00:00, 10.08it/s]\n",
      "Epoch 15: 100%|██████████| 14/14 [00:01<00:00, 10.37it/s]\n",
      "Epoch 16: 100%|██████████| 14/14 [00:01<00:00, 10.28it/s]\n",
      "Epoch 17: 100%|██████████| 14/14 [00:01<00:00, 10.22it/s]\n",
      "Epoch 18: 100%|██████████| 14/14 [00:01<00:00, 10.48it/s]\n",
      "Epoch 19: 100%|██████████| 14/14 [00:01<00:00, 10.27it/s]\n",
      "Epoch 20: 100%|██████████| 14/14 [00:01<00:00, 10.01it/s]\n"
     ]
    },
    {
     "name": "stdout",
     "output_type": "stream",
     "text": [
      "Epoch 20/800 - Loss: 1.2478\n"
     ]
    },
    {
     "name": "stderr",
     "output_type": "stream",
     "text": [
      "Epoch 21: 100%|██████████| 14/14 [00:01<00:00, 10.36it/s]\n",
      "Epoch 22: 100%|██████████| 14/14 [00:01<00:00, 10.16it/s]\n",
      "Epoch 23: 100%|██████████| 14/14 [00:01<00:00, 10.27it/s]\n",
      "Epoch 24: 100%|██████████| 14/14 [00:01<00:00, 10.17it/s]\n",
      "Epoch 25: 100%|██████████| 14/14 [00:01<00:00, 10.10it/s]\n",
      "Epoch 26: 100%|██████████| 14/14 [00:01<00:00, 10.26it/s]\n",
      "Epoch 27: 100%|██████████| 14/14 [00:01<00:00, 10.19it/s]\n",
      "Epoch 28: 100%|██████████| 14/14 [00:01<00:00, 10.20it/s]\n",
      "Epoch 29: 100%|██████████| 14/14 [00:01<00:00, 10.37it/s]\n",
      "Epoch 30: 100%|██████████| 14/14 [00:01<00:00, 10.18it/s]\n",
      "Epoch 31: 100%|██████████| 14/14 [00:01<00:00, 10.41it/s]\n",
      "Epoch 32: 100%|██████████| 14/14 [00:01<00:00, 10.34it/s]\n",
      "Epoch 33: 100%|██████████| 14/14 [00:01<00:00, 10.21it/s]\n",
      "Epoch 34: 100%|██████████| 14/14 [00:01<00:00, 10.44it/s]\n",
      "Epoch 35: 100%|██████████| 14/14 [00:01<00:00, 10.38it/s]\n",
      "Epoch 36: 100%|██████████| 14/14 [00:01<00:00, 10.34it/s]\n",
      "Epoch 37: 100%|██████████| 14/14 [00:01<00:00, 10.21it/s]\n",
      "Epoch 38: 100%|██████████| 14/14 [00:01<00:00, 10.16it/s]\n",
      "Epoch 39: 100%|██████████| 14/14 [00:01<00:00, 10.30it/s]\n",
      "Epoch 40: 100%|██████████| 14/14 [00:01<00:00, 10.44it/s]\n"
     ]
    },
    {
     "name": "stdout",
     "output_type": "stream",
     "text": [
      "Epoch 40/800 - Loss: 1.1618\n"
     ]
    },
    {
     "name": "stderr",
     "output_type": "stream",
     "text": [
      "Epoch 41: 100%|██████████| 14/14 [00:01<00:00,  9.89it/s]\n",
      "Epoch 42: 100%|██████████| 14/14 [00:01<00:00, 10.12it/s]\n",
      "Epoch 43: 100%|██████████| 14/14 [00:01<00:00,  9.70it/s]\n",
      "Epoch 44: 100%|██████████| 14/14 [00:01<00:00,  9.59it/s]\n",
      "Epoch 45: 100%|██████████| 14/14 [00:01<00:00,  9.40it/s]\n",
      "Epoch 46: 100%|██████████| 14/14 [00:01<00:00,  9.26it/s]\n",
      "Epoch 47: 100%|██████████| 14/14 [00:01<00:00,  9.30it/s]\n",
      "Epoch 48: 100%|██████████| 14/14 [00:01<00:00,  9.52it/s]\n",
      "Epoch 49: 100%|██████████| 14/14 [00:01<00:00,  9.76it/s]\n",
      "Epoch 50: 100%|██████████| 14/14 [00:01<00:00,  9.62it/s]\n",
      "Epoch 51: 100%|██████████| 14/14 [00:01<00:00,  9.64it/s]\n",
      "Epoch 52: 100%|██████████| 14/14 [00:01<00:00,  9.87it/s]\n",
      "Epoch 53: 100%|██████████| 14/14 [00:01<00:00,  9.76it/s]\n",
      "Epoch 54: 100%|██████████| 14/14 [00:01<00:00,  9.93it/s]\n",
      "Epoch 55: 100%|██████████| 14/14 [00:01<00:00,  9.76it/s]\n",
      "Epoch 56: 100%|██████████| 14/14 [00:01<00:00,  9.60it/s]\n",
      "Epoch 57: 100%|██████████| 14/14 [00:01<00:00,  9.77it/s]\n",
      "Epoch 58: 100%|██████████| 14/14 [00:01<00:00,  9.75it/s]\n",
      "Epoch 59: 100%|██████████| 14/14 [00:01<00:00,  9.67it/s]\n",
      "Epoch 60: 100%|██████████| 14/14 [00:01<00:00,  9.67it/s]\n"
     ]
    },
    {
     "name": "stdout",
     "output_type": "stream",
     "text": [
      "Epoch 60/800 - Loss: 1.2012\n"
     ]
    },
    {
     "name": "stderr",
     "output_type": "stream",
     "text": [
      "Epoch 61: 100%|██████████| 14/14 [00:01<00:00,  9.70it/s]\n",
      "Epoch 62: 100%|██████████| 14/14 [00:01<00:00,  9.90it/s]\n",
      "Epoch 63: 100%|██████████| 14/14 [00:01<00:00,  9.83it/s]\n",
      "Epoch 64: 100%|██████████| 14/14 [00:01<00:00,  9.77it/s]\n",
      "Epoch 65: 100%|██████████| 14/14 [00:01<00:00,  9.80it/s]\n",
      "Epoch 66: 100%|██████████| 14/14 [00:01<00:00,  9.73it/s]\n",
      "Epoch 67: 100%|██████████| 14/14 [00:01<00:00,  9.93it/s]\n",
      "Epoch 68: 100%|██████████| 14/14 [00:01<00:00,  9.59it/s]\n",
      "Epoch 69: 100%|██████████| 14/14 [00:01<00:00,  9.73it/s]\n",
      "Epoch 70: 100%|██████████| 14/14 [00:01<00:00,  9.56it/s]\n",
      "Epoch 71: 100%|██████████| 14/14 [00:01<00:00,  9.66it/s]\n",
      "Epoch 72: 100%|██████████| 14/14 [00:01<00:00,  9.61it/s]\n",
      "Epoch 73: 100%|██████████| 14/14 [00:01<00:00,  9.68it/s]\n",
      "Epoch 74: 100%|██████████| 14/14 [00:01<00:00,  9.71it/s]\n",
      "Epoch 75: 100%|██████████| 14/14 [00:01<00:00,  9.59it/s]\n",
      "Epoch 76: 100%|██████████| 14/14 [00:01<00:00,  9.68it/s]\n",
      "Epoch 77: 100%|██████████| 14/14 [00:01<00:00,  9.60it/s]\n",
      "Epoch 78: 100%|██████████| 14/14 [00:01<00:00,  9.73it/s]\n",
      "Epoch 79: 100%|██████████| 14/14 [00:01<00:00,  9.93it/s]\n",
      "Epoch 80: 100%|██████████| 14/14 [00:01<00:00,  9.52it/s]\n"
     ]
    },
    {
     "name": "stdout",
     "output_type": "stream",
     "text": [
      "Epoch 80/800 - Loss: 1.0763\n"
     ]
    },
    {
     "name": "stderr",
     "output_type": "stream",
     "text": [
      "Epoch 81: 100%|██████████| 14/14 [00:01<00:00,  9.73it/s]\n",
      "Epoch 82: 100%|██████████| 14/14 [00:01<00:00, 10.00it/s]\n",
      "Epoch 83: 100%|██████████| 14/14 [00:01<00:00,  9.70it/s]\n",
      "Epoch 84: 100%|██████████| 14/14 [00:01<00:00,  9.49it/s]\n",
      "Epoch 85: 100%|██████████| 14/14 [00:01<00:00,  9.85it/s]\n",
      "Epoch 86: 100%|██████████| 14/14 [00:01<00:00,  9.69it/s]\n",
      "Epoch 87: 100%|██████████| 14/14 [00:01<00:00,  9.49it/s]\n",
      "Epoch 88: 100%|██████████| 14/14 [00:01<00:00,  9.70it/s]\n",
      "Epoch 89: 100%|██████████| 14/14 [00:01<00:00,  9.66it/s]\n",
      "Epoch 90: 100%|██████████| 14/14 [00:01<00:00,  9.69it/s]\n",
      "Epoch 91: 100%|██████████| 14/14 [00:01<00:00,  9.81it/s]\n",
      "Epoch 92: 100%|██████████| 14/14 [00:01<00:00,  9.54it/s]\n",
      "Epoch 93: 100%|██████████| 14/14 [00:01<00:00,  9.90it/s]\n",
      "Epoch 94: 100%|██████████| 14/14 [00:01<00:00,  9.56it/s]\n",
      "Epoch 95: 100%|██████████| 14/14 [00:01<00:00,  9.80it/s]\n",
      "Epoch 96: 100%|██████████| 14/14 [00:01<00:00, 10.03it/s]\n",
      "Epoch 97: 100%|██████████| 14/14 [00:01<00:00,  9.86it/s]\n",
      "Epoch 98: 100%|██████████| 14/14 [00:01<00:00,  9.54it/s]\n",
      "Epoch 99: 100%|██████████| 14/14 [00:01<00:00,  9.88it/s]\n",
      "Epoch 100: 100%|██████████| 14/14 [00:01<00:00,  9.50it/s]\n"
     ]
    },
    {
     "name": "stdout",
     "output_type": "stream",
     "text": [
      "Epoch 100/800 - Loss: 1.0397\n"
     ]
    },
    {
     "name": "stderr",
     "output_type": "stream",
     "text": [
      "Epoch 101: 100%|██████████| 14/14 [00:01<00:00,  9.97it/s]\n",
      "Epoch 102: 100%|██████████| 14/14 [00:01<00:00,  9.05it/s]\n",
      "Epoch 103: 100%|██████████| 14/14 [00:01<00:00,  9.83it/s]\n",
      "Epoch 104: 100%|██████████| 14/14 [00:01<00:00,  9.88it/s]\n",
      "Epoch 105: 100%|██████████| 14/14 [00:01<00:00,  9.85it/s]\n",
      "Epoch 106: 100%|██████████| 14/14 [00:01<00:00,  9.63it/s]\n",
      "Epoch 107: 100%|██████████| 14/14 [00:01<00:00,  9.75it/s]\n",
      "Epoch 108: 100%|██████████| 14/14 [00:01<00:00,  9.57it/s]\n",
      "Epoch 109: 100%|██████████| 14/14 [00:01<00:00,  9.71it/s]\n",
      "Epoch 110: 100%|██████████| 14/14 [00:01<00:00,  9.57it/s]\n",
      "Epoch 111: 100%|██████████| 14/14 [00:01<00:00,  9.62it/s]\n",
      "Epoch 112: 100%|██████████| 14/14 [00:01<00:00,  9.81it/s]\n",
      "Epoch 113: 100%|██████████| 14/14 [00:01<00:00,  9.51it/s]\n",
      "Epoch 114: 100%|██████████| 14/14 [00:01<00:00,  9.75it/s]\n",
      "Epoch 115: 100%|██████████| 14/14 [00:01<00:00,  9.69it/s]\n",
      "Epoch 116: 100%|██████████| 14/14 [00:01<00:00,  9.69it/s]\n",
      "Epoch 117: 100%|██████████| 14/14 [00:01<00:00,  9.87it/s]\n",
      "Epoch 118: 100%|██████████| 14/14 [00:01<00:00,  9.68it/s]\n",
      "Epoch 119: 100%|██████████| 14/14 [00:01<00:00,  9.73it/s]\n",
      "Epoch 120: 100%|██████████| 14/14 [00:01<00:00,  9.89it/s]\n"
     ]
    },
    {
     "name": "stdout",
     "output_type": "stream",
     "text": [
      "Epoch 120/800 - Loss: 1.0055\n"
     ]
    },
    {
     "name": "stderr",
     "output_type": "stream",
     "text": [
      "Epoch 121: 100%|██████████| 14/14 [00:01<00:00,  9.58it/s]\n",
      "Epoch 122: 100%|██████████| 14/14 [00:01<00:00,  9.62it/s]\n",
      "Epoch 123: 100%|██████████| 14/14 [00:01<00:00,  9.69it/s]\n",
      "Epoch 124: 100%|██████████| 14/14 [00:01<00:00,  9.86it/s]\n",
      "Epoch 125: 100%|██████████| 14/14 [00:01<00:00,  9.76it/s]\n",
      "Epoch 126: 100%|██████████| 14/14 [00:01<00:00,  9.57it/s]\n",
      "Epoch 127: 100%|██████████| 14/14 [00:01<00:00,  9.36it/s]\n",
      "Epoch 128: 100%|██████████| 14/14 [00:01<00:00,  9.68it/s]\n",
      "Epoch 129: 100%|██████████| 14/14 [00:01<00:00,  9.54it/s]\n",
      "Epoch 130: 100%|██████████| 14/14 [00:01<00:00,  9.54it/s]\n",
      "Epoch 131: 100%|██████████| 14/14 [00:01<00:00,  9.51it/s]\n",
      "Epoch 132: 100%|██████████| 14/14 [00:01<00:00,  9.77it/s]\n",
      "Epoch 133: 100%|██████████| 14/14 [00:01<00:00,  9.68it/s]\n",
      "Epoch 134: 100%|██████████| 14/14 [00:01<00:00,  9.67it/s]\n",
      "Epoch 135: 100%|██████████| 14/14 [00:01<00:00,  9.81it/s]\n",
      "Epoch 136: 100%|██████████| 14/14 [00:01<00:00,  9.54it/s]\n",
      "Epoch 137: 100%|██████████| 14/14 [00:01<00:00,  9.77it/s]\n",
      "Epoch 138: 100%|██████████| 14/14 [00:01<00:00,  9.78it/s]\n",
      "Epoch 139: 100%|██████████| 14/14 [00:01<00:00,  9.96it/s]\n",
      "Epoch 140: 100%|██████████| 14/14 [00:01<00:00,  9.78it/s]\n"
     ]
    },
    {
     "name": "stdout",
     "output_type": "stream",
     "text": [
      "Epoch 140/800 - Loss: 1.0063\n"
     ]
    },
    {
     "name": "stderr",
     "output_type": "stream",
     "text": [
      "Epoch 141: 100%|██████████| 14/14 [00:01<00:00,  9.60it/s]\n",
      "Epoch 142: 100%|██████████| 14/14 [00:01<00:00,  9.62it/s]\n",
      "Epoch 143: 100%|██████████| 14/14 [00:01<00:00,  9.72it/s]\n",
      "Epoch 144: 100%|██████████| 14/14 [00:01<00:00,  9.72it/s]\n",
      "Epoch 145: 100%|██████████| 14/14 [00:01<00:00,  9.84it/s]\n",
      "Epoch 146: 100%|██████████| 14/14 [00:01<00:00,  9.79it/s]\n",
      "Epoch 147: 100%|██████████| 14/14 [00:01<00:00,  9.80it/s]\n",
      "Epoch 148: 100%|██████████| 14/14 [00:01<00:00,  9.92it/s]\n",
      "Epoch 149: 100%|██████████| 14/14 [00:01<00:00,  9.65it/s]\n",
      "Epoch 150: 100%|██████████| 14/14 [00:01<00:00,  9.47it/s]\n",
      "Epoch 151: 100%|██████████| 14/14 [00:01<00:00,  9.42it/s]\n",
      "Epoch 152: 100%|██████████| 14/14 [00:01<00:00,  9.72it/s]\n",
      "Epoch 153: 100%|██████████| 14/14 [00:01<00:00,  9.66it/s]\n",
      "Epoch 154: 100%|██████████| 14/14 [00:01<00:00,  9.60it/s]\n",
      "Epoch 155: 100%|██████████| 14/14 [00:01<00:00,  9.66it/s]\n",
      "Epoch 156: 100%|██████████| 14/14 [00:01<00:00,  9.28it/s]\n",
      "Epoch 157: 100%|██████████| 14/14 [00:01<00:00,  9.56it/s]\n",
      "Epoch 158: 100%|██████████| 14/14 [00:01<00:00,  9.36it/s]\n",
      "Epoch 159: 100%|██████████| 14/14 [00:01<00:00,  9.78it/s]\n",
      "Epoch 160: 100%|██████████| 14/14 [00:01<00:00,  9.47it/s]\n"
     ]
    },
    {
     "name": "stdout",
     "output_type": "stream",
     "text": [
      "Epoch 160/800 - Loss: 0.9652\n"
     ]
    },
    {
     "name": "stderr",
     "output_type": "stream",
     "text": [
      "Epoch 161: 100%|██████████| 14/14 [00:01<00:00,  9.74it/s]\n",
      "Epoch 162: 100%|██████████| 14/14 [00:01<00:00,  9.34it/s]\n",
      "Epoch 163: 100%|██████████| 14/14 [00:01<00:00,  9.34it/s]\n",
      "Epoch 164: 100%|██████████| 14/14 [00:01<00:00,  9.65it/s]\n",
      "Epoch 165: 100%|██████████| 14/14 [00:01<00:00,  9.72it/s]\n",
      "Epoch 166: 100%|██████████| 14/14 [00:01<00:00,  9.54it/s]\n",
      "Epoch 167: 100%|██████████| 14/14 [00:01<00:00,  9.47it/s]\n",
      "Epoch 168: 100%|██████████| 14/14 [00:01<00:00,  9.62it/s]\n",
      "Epoch 169: 100%|██████████| 14/14 [00:01<00:00,  9.65it/s]\n",
      "Epoch 170: 100%|██████████| 14/14 [00:01<00:00,  9.90it/s]\n",
      "Epoch 171: 100%|██████████| 14/14 [00:01<00:00,  9.81it/s]\n",
      "Epoch 172: 100%|██████████| 14/14 [00:01<00:00, 10.07it/s]\n",
      "Epoch 173: 100%|██████████| 14/14 [00:01<00:00,  9.80it/s]\n",
      "Epoch 174: 100%|██████████| 14/14 [00:01<00:00,  9.57it/s]\n",
      "Epoch 175: 100%|██████████| 14/14 [00:01<00:00,  9.81it/s]\n",
      "Epoch 176: 100%|██████████| 14/14 [00:01<00:00,  9.78it/s]\n",
      "Epoch 177: 100%|██████████| 14/14 [00:01<00:00,  9.35it/s]\n",
      "Epoch 178: 100%|██████████| 14/14 [00:01<00:00,  9.63it/s]\n",
      "Epoch 179: 100%|██████████| 14/14 [00:01<00:00,  9.46it/s]\n",
      "Epoch 180: 100%|██████████| 14/14 [00:01<00:00,  9.64it/s]\n"
     ]
    },
    {
     "name": "stdout",
     "output_type": "stream",
     "text": [
      "Epoch 180/800 - Loss: 0.8461\n"
     ]
    },
    {
     "name": "stderr",
     "output_type": "stream",
     "text": [
      "Epoch 181: 100%|██████████| 14/14 [00:01<00:00,  9.84it/s]\n",
      "Epoch 182: 100%|██████████| 14/14 [00:01<00:00,  9.45it/s]\n",
      "Epoch 183: 100%|██████████| 14/14 [00:01<00:00,  9.66it/s]\n",
      "Epoch 184: 100%|██████████| 14/14 [00:01<00:00,  9.30it/s]\n",
      "Epoch 185: 100%|██████████| 14/14 [00:01<00:00,  9.36it/s]\n",
      "Epoch 186: 100%|██████████| 14/14 [00:01<00:00,  9.65it/s]\n",
      "Epoch 187: 100%|██████████| 14/14 [00:01<00:00,  9.75it/s]\n",
      "Epoch 188: 100%|██████████| 14/14 [00:01<00:00,  9.64it/s]\n",
      "Epoch 189: 100%|██████████| 14/14 [00:01<00:00,  9.50it/s]\n",
      "Epoch 190: 100%|██████████| 14/14 [00:01<00:00,  9.80it/s]\n",
      "Epoch 191: 100%|██████████| 14/14 [00:01<00:00,  9.56it/s]\n",
      "Epoch 192: 100%|██████████| 14/14 [00:01<00:00,  9.56it/s]\n",
      "Epoch 193: 100%|██████████| 14/14 [00:01<00:00,  9.92it/s]\n",
      "Epoch 194: 100%|██████████| 14/14 [00:01<00:00,  9.81it/s]\n",
      "Epoch 195: 100%|██████████| 14/14 [00:01<00:00,  9.45it/s]\n",
      "Epoch 196: 100%|██████████| 14/14 [00:01<00:00,  9.62it/s]\n",
      "Epoch 197: 100%|██████████| 14/14 [00:01<00:00,  9.86it/s]\n",
      "Epoch 198: 100%|██████████| 14/14 [00:01<00:00,  9.83it/s]\n",
      "Epoch 199: 100%|██████████| 14/14 [00:01<00:00,  9.75it/s]\n",
      "Epoch 200: 100%|██████████| 14/14 [00:01<00:00,  9.89it/s]\n"
     ]
    },
    {
     "name": "stdout",
     "output_type": "stream",
     "text": [
      "Epoch 200/800 - Loss: 0.8668\n"
     ]
    },
    {
     "name": "stderr",
     "output_type": "stream",
     "text": [
      "Epoch 201: 100%|██████████| 14/14 [00:01<00:00, 10.21it/s]\n",
      "Epoch 202: 100%|██████████| 14/14 [00:01<00:00,  9.91it/s]\n",
      "Epoch 203: 100%|██████████| 14/14 [00:01<00:00,  9.97it/s]\n",
      "Epoch 204: 100%|██████████| 14/14 [00:01<00:00, 10.29it/s]\n",
      "Epoch 205: 100%|██████████| 14/14 [00:01<00:00, 10.11it/s]\n",
      "Epoch 206: 100%|██████████| 14/14 [00:01<00:00, 10.18it/s]\n",
      "Epoch 207: 100%|██████████| 14/14 [00:01<00:00, 10.38it/s]\n",
      "Epoch 208: 100%|██████████| 14/14 [00:01<00:00,  9.33it/s]\n",
      "Epoch 209: 100%|██████████| 14/14 [00:01<00:00,  9.77it/s]\n",
      "Epoch 210: 100%|██████████| 14/14 [00:01<00:00,  9.77it/s]\n",
      "Epoch 211: 100%|██████████| 14/14 [00:01<00:00, 10.10it/s]\n",
      "Epoch 212: 100%|██████████| 14/14 [00:01<00:00,  9.84it/s]\n",
      "Epoch 213: 100%|██████████| 14/14 [00:01<00:00,  9.72it/s]\n",
      "Epoch 214: 100%|██████████| 14/14 [00:01<00:00, 10.20it/s]\n",
      "Epoch 215: 100%|██████████| 14/14 [00:01<00:00, 10.16it/s]\n",
      "Epoch 216: 100%|██████████| 14/14 [00:01<00:00, 10.29it/s]\n",
      "Epoch 217: 100%|██████████| 14/14 [00:01<00:00, 10.22it/s]\n",
      "Epoch 218: 100%|██████████| 14/14 [00:01<00:00, 10.29it/s]\n",
      "Epoch 219: 100%|██████████| 14/14 [00:01<00:00, 10.52it/s]\n",
      "Epoch 220: 100%|██████████| 14/14 [00:01<00:00,  9.97it/s]\n"
     ]
    },
    {
     "name": "stdout",
     "output_type": "stream",
     "text": [
      "Epoch 220/800 - Loss: 0.8014\n"
     ]
    },
    {
     "name": "stderr",
     "output_type": "stream",
     "text": [
      "Epoch 221: 100%|██████████| 14/14 [00:01<00:00, 10.29it/s]\n",
      "Epoch 222: 100%|██████████| 14/14 [00:01<00:00, 10.15it/s]\n",
      "Epoch 223: 100%|██████████| 14/14 [00:01<00:00, 10.05it/s]\n",
      "Epoch 224: 100%|██████████| 14/14 [00:01<00:00,  9.88it/s]\n",
      "Epoch 225: 100%|██████████| 14/14 [00:01<00:00,  9.86it/s]\n",
      "Epoch 226: 100%|██████████| 14/14 [00:01<00:00, 10.07it/s]\n",
      "Epoch 227: 100%|██████████| 14/14 [00:01<00:00,  9.94it/s]\n",
      "Epoch 228: 100%|██████████| 14/14 [00:01<00:00,  9.80it/s]\n",
      "Epoch 229: 100%|██████████| 14/14 [00:01<00:00, 10.07it/s]\n",
      "Epoch 230: 100%|██████████| 14/14 [00:01<00:00, 10.12it/s]\n",
      "Epoch 231: 100%|██████████| 14/14 [00:01<00:00,  9.81it/s]\n",
      "Epoch 232: 100%|██████████| 14/14 [00:01<00:00, 10.10it/s]\n",
      "Epoch 233: 100%|██████████| 14/14 [00:01<00:00, 10.15it/s]\n",
      "Epoch 234: 100%|██████████| 14/14 [00:01<00:00, 10.26it/s]\n",
      "Epoch 235: 100%|██████████| 14/14 [00:01<00:00, 10.41it/s]\n",
      "Epoch 236: 100%|██████████| 14/14 [00:01<00:00, 10.20it/s]\n",
      "Epoch 237: 100%|██████████| 14/14 [00:01<00:00, 10.52it/s]\n",
      "Epoch 238: 100%|██████████| 14/14 [00:01<00:00, 10.23it/s]\n",
      "Epoch 239: 100%|██████████| 14/14 [00:01<00:00, 10.06it/s]\n",
      "Epoch 240: 100%|██████████| 14/14 [00:01<00:00, 10.38it/s]\n"
     ]
    },
    {
     "name": "stdout",
     "output_type": "stream",
     "text": [
      "Epoch 240/800 - Loss: 0.8126\n"
     ]
    },
    {
     "name": "stderr",
     "output_type": "stream",
     "text": [
      "Epoch 241: 100%|██████████| 14/14 [00:01<00:00, 10.09it/s]\n",
      "Epoch 242: 100%|██████████| 14/14 [00:01<00:00, 10.42it/s]\n",
      "Epoch 243: 100%|██████████| 14/14 [00:01<00:00, 10.15it/s]\n",
      "Epoch 244: 100%|██████████| 14/14 [00:01<00:00, 10.11it/s]\n",
      "Epoch 245: 100%|██████████| 14/14 [00:01<00:00, 10.30it/s]\n",
      "Epoch 246: 100%|██████████| 14/14 [00:01<00:00, 10.16it/s]\n",
      "Epoch 247: 100%|██████████| 14/14 [00:01<00:00, 10.25it/s]\n",
      "Epoch 248: 100%|██████████| 14/14 [00:01<00:00,  9.97it/s]\n",
      "Epoch 249: 100%|██████████| 14/14 [00:01<00:00,  9.92it/s]\n",
      "Epoch 250: 100%|██████████| 14/14 [00:01<00:00, 10.24it/s]\n",
      "Epoch 251: 100%|██████████| 14/14 [00:01<00:00, 10.16it/s]\n",
      "Epoch 252: 100%|██████████| 14/14 [00:01<00:00, 10.16it/s]\n",
      "Epoch 253: 100%|██████████| 14/14 [00:01<00:00, 10.35it/s]\n",
      "Epoch 254: 100%|██████████| 14/14 [00:01<00:00, 10.14it/s]\n",
      "Epoch 255: 100%|██████████| 14/14 [00:01<00:00, 10.22it/s]\n",
      "Epoch 256: 100%|██████████| 14/14 [00:01<00:00, 10.35it/s]\n",
      "Epoch 257: 100%|██████████| 14/14 [00:01<00:00, 10.31it/s]\n",
      "Epoch 258: 100%|██████████| 14/14 [00:01<00:00, 10.31it/s]\n",
      "Epoch 259: 100%|██████████| 14/14 [00:01<00:00,  9.95it/s]\n",
      "Epoch 260: 100%|██████████| 14/14 [00:01<00:00, 10.11it/s]\n"
     ]
    },
    {
     "name": "stdout",
     "output_type": "stream",
     "text": [
      "Epoch 260/800 - Loss: 0.6960\n"
     ]
    },
    {
     "name": "stderr",
     "output_type": "stream",
     "text": [
      "Epoch 261: 100%|██████████| 14/14 [00:01<00:00, 10.26it/s]\n",
      "Epoch 262: 100%|██████████| 14/14 [00:01<00:00, 10.37it/s]\n",
      "Epoch 263: 100%|██████████| 14/14 [00:01<00:00, 10.28it/s]\n",
      "Epoch 264: 100%|██████████| 14/14 [00:01<00:00, 10.44it/s]\n",
      "Epoch 265: 100%|██████████| 14/14 [00:01<00:00, 10.36it/s]\n",
      "Epoch 266: 100%|██████████| 14/14 [00:01<00:00, 10.14it/s]\n",
      "Epoch 267: 100%|██████████| 14/14 [00:01<00:00, 10.33it/s]\n",
      "Epoch 268: 100%|██████████| 14/14 [00:01<00:00,  9.97it/s]\n",
      "Epoch 269: 100%|██████████| 14/14 [00:01<00:00, 10.03it/s]\n",
      "Epoch 270: 100%|██████████| 14/14 [00:01<00:00, 10.32it/s]\n",
      "Epoch 271: 100%|██████████| 14/14 [00:01<00:00, 10.00it/s]\n",
      "Epoch 272: 100%|██████████| 14/14 [00:01<00:00, 10.23it/s]\n",
      "Epoch 273: 100%|██████████| 14/14 [00:01<00:00, 10.17it/s]\n",
      "Epoch 274: 100%|██████████| 14/14 [00:01<00:00, 10.27it/s]\n",
      "Epoch 275: 100%|██████████| 14/14 [00:01<00:00, 10.26it/s]\n",
      "Epoch 276: 100%|██████████| 14/14 [00:01<00:00, 10.16it/s]\n",
      "Epoch 277: 100%|██████████| 14/14 [00:01<00:00, 10.35it/s]\n",
      "Epoch 278: 100%|██████████| 14/14 [00:01<00:00, 10.25it/s]\n",
      "Epoch 279: 100%|██████████| 14/14 [00:01<00:00, 10.34it/s]\n",
      "Epoch 280: 100%|██████████| 14/14 [00:01<00:00, 10.13it/s]\n"
     ]
    },
    {
     "name": "stdout",
     "output_type": "stream",
     "text": [
      "Epoch 280/800 - Loss: 0.6170\n"
     ]
    },
    {
     "name": "stderr",
     "output_type": "stream",
     "text": [
      "Epoch 281: 100%|██████████| 14/14 [00:01<00:00, 10.13it/s]\n",
      "Epoch 282: 100%|██████████| 14/14 [00:01<00:00, 10.10it/s]\n",
      "Epoch 283: 100%|██████████| 14/14 [00:01<00:00, 10.25it/s]\n",
      "Epoch 284: 100%|██████████| 14/14 [00:01<00:00, 10.22it/s]\n",
      "Epoch 285: 100%|██████████| 14/14 [00:01<00:00, 10.18it/s]\n",
      "Epoch 286: 100%|██████████| 14/14 [00:01<00:00, 10.30it/s]\n",
      "Epoch 287: 100%|██████████| 14/14 [00:01<00:00, 10.31it/s]\n",
      "Epoch 288: 100%|██████████| 14/14 [00:01<00:00, 10.41it/s]\n",
      "Epoch 289: 100%|██████████| 14/14 [00:01<00:00, 10.34it/s]\n",
      "Epoch 290: 100%|██████████| 14/14 [00:01<00:00, 10.25it/s]\n",
      "Epoch 291: 100%|██████████| 14/14 [00:01<00:00, 10.22it/s]\n",
      "Epoch 292: 100%|██████████| 14/14 [00:01<00:00, 10.26it/s]\n",
      "Epoch 293: 100%|██████████| 14/14 [00:01<00:00, 10.43it/s]\n",
      "Epoch 294: 100%|██████████| 14/14 [00:01<00:00, 10.26it/s]\n",
      "Epoch 295: 100%|██████████| 14/14 [00:01<00:00, 10.24it/s]\n",
      "Epoch 296: 100%|██████████| 14/14 [00:01<00:00,  9.94it/s]\n",
      "Epoch 297: 100%|██████████| 14/14 [00:01<00:00, 10.12it/s]\n",
      "Epoch 298: 100%|██████████| 14/14 [00:01<00:00, 10.20it/s]\n",
      "Epoch 299: 100%|██████████| 14/14 [00:01<00:00, 10.31it/s]\n",
      "Epoch 300: 100%|██████████| 14/14 [00:01<00:00, 10.43it/s]\n"
     ]
    },
    {
     "name": "stdout",
     "output_type": "stream",
     "text": [
      "Epoch 300/800 - Loss: 0.4709\n"
     ]
    },
    {
     "name": "stderr",
     "output_type": "stream",
     "text": [
      "Epoch 301: 100%|██████████| 14/14 [00:01<00:00, 10.29it/s]\n",
      "Epoch 302: 100%|██████████| 14/14 [00:01<00:00, 10.48it/s]\n",
      "Epoch 303: 100%|██████████| 14/14 [00:01<00:00, 10.06it/s]\n",
      "Epoch 304: 100%|██████████| 14/14 [00:01<00:00, 10.14it/s]\n",
      "Epoch 305: 100%|██████████| 14/14 [00:01<00:00, 10.14it/s]\n",
      "Epoch 306: 100%|██████████| 14/14 [00:01<00:00, 10.06it/s]\n",
      "Epoch 307: 100%|██████████| 14/14 [00:01<00:00, 10.20it/s]\n",
      "Epoch 308: 100%|██████████| 14/14 [00:01<00:00, 10.07it/s]\n",
      "Epoch 309: 100%|██████████| 14/14 [00:01<00:00, 10.29it/s]\n",
      "Epoch 310: 100%|██████████| 14/14 [00:01<00:00, 10.16it/s]\n",
      "Epoch 311: 100%|██████████| 14/14 [00:01<00:00, 10.32it/s]\n",
      "Epoch 312: 100%|██████████| 14/14 [00:01<00:00, 10.04it/s]\n",
      "Epoch 313: 100%|██████████| 14/14 [00:01<00:00, 10.00it/s]\n",
      "Epoch 314: 100%|██████████| 14/14 [00:01<00:00, 10.39it/s]\n",
      "Epoch 315: 100%|██████████| 14/14 [00:01<00:00, 10.19it/s]\n",
      "Epoch 316: 100%|██████████| 14/14 [00:01<00:00, 10.25it/s]\n",
      "Epoch 317: 100%|██████████| 14/14 [00:01<00:00, 10.09it/s]\n",
      "Epoch 318: 100%|██████████| 14/14 [00:01<00:00, 10.19it/s]\n",
      "Epoch 319: 100%|██████████| 14/14 [00:01<00:00, 10.12it/s]\n",
      "Epoch 320: 100%|██████████| 14/14 [00:01<00:00, 10.37it/s]\n"
     ]
    },
    {
     "name": "stdout",
     "output_type": "stream",
     "text": [
      "Epoch 320/800 - Loss: 0.4631\n"
     ]
    },
    {
     "name": "stderr",
     "output_type": "stream",
     "text": [
      "Epoch 321: 100%|██████████| 14/14 [00:01<00:00, 10.18it/s]\n",
      "Epoch 322: 100%|██████████| 14/14 [00:01<00:00, 10.15it/s]\n",
      "Epoch 323: 100%|██████████| 14/14 [00:01<00:00, 10.25it/s]\n",
      "Epoch 324: 100%|██████████| 14/14 [00:01<00:00, 10.11it/s]\n",
      "Epoch 325: 100%|██████████| 14/14 [00:01<00:00, 10.30it/s]\n",
      "Epoch 326: 100%|██████████| 14/14 [00:01<00:00, 10.12it/s]\n",
      "Epoch 327: 100%|██████████| 14/14 [00:01<00:00,  9.99it/s]\n",
      "Epoch 328: 100%|██████████| 14/14 [00:01<00:00, 10.15it/s]\n",
      "Epoch 329: 100%|██████████| 14/14 [00:01<00:00, 10.15it/s]\n",
      "Epoch 330: 100%|██████████| 14/14 [00:01<00:00, 10.21it/s]\n",
      "Epoch 331: 100%|██████████| 14/14 [00:01<00:00, 10.15it/s]\n",
      "Epoch 332: 100%|██████████| 14/14 [00:01<00:00, 10.37it/s]\n",
      "Epoch 333: 100%|██████████| 14/14 [00:01<00:00, 10.15it/s]\n",
      "Epoch 334: 100%|██████████| 14/14 [00:01<00:00,  9.93it/s]\n",
      "Epoch 335: 100%|██████████| 14/14 [00:01<00:00, 10.16it/s]\n",
      "Epoch 336: 100%|██████████| 14/14 [00:01<00:00,  9.83it/s]\n",
      "Epoch 337: 100%|██████████| 14/14 [00:01<00:00, 10.29it/s]\n",
      "Epoch 338: 100%|██████████| 14/14 [00:01<00:00, 10.53it/s]\n",
      "Epoch 339: 100%|██████████| 14/14 [00:01<00:00, 10.15it/s]\n",
      "Epoch 340: 100%|██████████| 14/14 [00:01<00:00, 10.32it/s]\n"
     ]
    },
    {
     "name": "stdout",
     "output_type": "stream",
     "text": [
      "Epoch 340/800 - Loss: 0.3918\n"
     ]
    },
    {
     "name": "stderr",
     "output_type": "stream",
     "text": [
      "Epoch 341: 100%|██████████| 14/14 [00:01<00:00, 10.23it/s]\n",
      "Epoch 342: 100%|██████████| 14/14 [00:01<00:00, 10.10it/s]\n",
      "Epoch 343: 100%|██████████| 14/14 [00:01<00:00, 10.14it/s]\n",
      "Epoch 344: 100%|██████████| 14/14 [00:01<00:00, 10.15it/s]\n",
      "Epoch 345: 100%|██████████| 14/14 [00:01<00:00, 10.02it/s]\n",
      "Epoch 346: 100%|██████████| 14/14 [00:01<00:00, 10.41it/s]\n",
      "Epoch 347: 100%|██████████| 14/14 [00:01<00:00, 10.00it/s]\n",
      "Epoch 348: 100%|██████████| 14/14 [00:01<00:00, 10.27it/s]\n",
      "Epoch 349: 100%|██████████| 14/14 [00:01<00:00, 10.22it/s]\n",
      "Epoch 350: 100%|██████████| 14/14 [00:01<00:00, 10.15it/s]\n",
      "Epoch 351: 100%|██████████| 14/14 [00:01<00:00, 10.29it/s]\n",
      "Epoch 352: 100%|██████████| 14/14 [00:01<00:00, 10.31it/s]\n",
      "Epoch 353: 100%|██████████| 14/14 [00:01<00:00, 10.43it/s]\n",
      "Epoch 354: 100%|██████████| 14/14 [00:01<00:00, 10.12it/s]\n",
      "Epoch 355: 100%|██████████| 14/14 [00:01<00:00, 10.14it/s]\n",
      "Epoch 356: 100%|██████████| 14/14 [00:01<00:00, 10.29it/s]\n",
      "Epoch 357: 100%|██████████| 14/14 [00:01<00:00, 10.12it/s]\n",
      "Epoch 358: 100%|██████████| 14/14 [00:01<00:00, 10.32it/s]\n",
      "Epoch 359: 100%|██████████| 14/14 [00:01<00:00, 10.37it/s]\n",
      "Epoch 360: 100%|██████████| 14/14 [00:01<00:00, 10.09it/s]\n"
     ]
    },
    {
     "name": "stdout",
     "output_type": "stream",
     "text": [
      "Epoch 360/800 - Loss: 0.3441\n"
     ]
    },
    {
     "name": "stderr",
     "output_type": "stream",
     "text": [
      "Epoch 361: 100%|██████████| 14/14 [00:01<00:00, 10.05it/s]\n",
      "Epoch 362: 100%|██████████| 14/14 [00:01<00:00,  9.97it/s]\n",
      "Epoch 363: 100%|██████████| 14/14 [00:01<00:00,  9.60it/s]\n",
      "Epoch 364: 100%|██████████| 14/14 [00:01<00:00,  9.71it/s]\n",
      "Epoch 365: 100%|██████████| 14/14 [00:01<00:00,  9.86it/s]\n",
      "Epoch 366: 100%|██████████| 14/14 [00:01<00:00,  9.87it/s]\n",
      "Epoch 367: 100%|██████████| 14/14 [00:01<00:00,  9.67it/s]\n",
      "Epoch 368: 100%|██████████| 14/14 [00:01<00:00,  9.78it/s]\n",
      "Epoch 369: 100%|██████████| 14/14 [00:01<00:00,  9.85it/s]\n",
      "Epoch 370: 100%|██████████| 14/14 [00:01<00:00, 10.05it/s]\n",
      "Epoch 371: 100%|██████████| 14/14 [00:01<00:00, 10.03it/s]\n",
      "Epoch 372: 100%|██████████| 14/14 [00:01<00:00, 10.18it/s]\n",
      "Epoch 373: 100%|██████████| 14/14 [00:01<00:00, 10.04it/s]\n",
      "Epoch 374: 100%|██████████| 14/14 [00:01<00:00, 10.26it/s]\n",
      "Epoch 375: 100%|██████████| 14/14 [00:01<00:00, 10.15it/s]\n",
      "Epoch 376: 100%|██████████| 14/14 [00:01<00:00,  9.91it/s]\n",
      "Epoch 377: 100%|██████████| 14/14 [00:01<00:00, 10.03it/s]\n",
      "Epoch 378: 100%|██████████| 14/14 [00:01<00:00, 10.22it/s]\n",
      "Epoch 379: 100%|██████████| 14/14 [00:01<00:00, 10.02it/s]\n",
      "Epoch 380: 100%|██████████| 14/14 [00:01<00:00, 10.11it/s]\n"
     ]
    },
    {
     "name": "stdout",
     "output_type": "stream",
     "text": [
      "Epoch 380/800 - Loss: 0.2328\n"
     ]
    },
    {
     "name": "stderr",
     "output_type": "stream",
     "text": [
      "Epoch 381: 100%|██████████| 14/14 [00:01<00:00, 10.15it/s]\n",
      "Epoch 382: 100%|██████████| 14/14 [00:01<00:00, 10.37it/s]\n",
      "Epoch 383: 100%|██████████| 14/14 [00:01<00:00,  9.98it/s]\n",
      "Epoch 384: 100%|██████████| 14/14 [00:01<00:00,  9.99it/s]\n",
      "Epoch 385: 100%|██████████| 14/14 [00:01<00:00, 10.17it/s]\n",
      "Epoch 386: 100%|██████████| 14/14 [00:01<00:00, 10.33it/s]\n",
      "Epoch 387: 100%|██████████| 14/14 [00:01<00:00,  9.90it/s]\n",
      "Epoch 388: 100%|██████████| 14/14 [00:01<00:00, 10.25it/s]\n",
      "Epoch 389: 100%|██████████| 14/14 [00:01<00:00, 10.07it/s]\n",
      "Epoch 390: 100%|██████████| 14/14 [00:01<00:00, 10.24it/s]\n",
      "Epoch 391: 100%|██████████| 14/14 [00:01<00:00, 10.34it/s]\n",
      "Epoch 392: 100%|██████████| 14/14 [00:01<00:00, 10.17it/s]\n",
      "Epoch 393: 100%|██████████| 14/14 [00:01<00:00,  9.94it/s]\n",
      "Epoch 394: 100%|██████████| 14/14 [00:01<00:00, 10.24it/s]\n",
      "Epoch 395: 100%|██████████| 14/14 [00:01<00:00, 10.12it/s]\n",
      "Epoch 396: 100%|██████████| 14/14 [00:01<00:00, 10.31it/s]\n",
      "Epoch 397: 100%|██████████| 14/14 [00:01<00:00, 10.17it/s]\n",
      "Epoch 398: 100%|██████████| 14/14 [00:01<00:00, 10.14it/s]\n",
      "Epoch 399: 100%|██████████| 14/14 [00:01<00:00,  9.89it/s]\n",
      "Epoch 400: 100%|██████████| 14/14 [00:01<00:00, 10.13it/s]\n"
     ]
    },
    {
     "name": "stdout",
     "output_type": "stream",
     "text": [
      "Epoch 400/800 - Loss: 0.2375\n"
     ]
    },
    {
     "name": "stderr",
     "output_type": "stream",
     "text": [
      "Epoch 401: 100%|██████████| 14/14 [00:01<00:00, 10.11it/s]\n",
      "Epoch 402: 100%|██████████| 14/14 [00:01<00:00, 10.09it/s]\n",
      "Epoch 403: 100%|██████████| 14/14 [00:01<00:00,  9.71it/s]\n",
      "Epoch 404: 100%|██████████| 14/14 [00:01<00:00, 10.05it/s]\n",
      "Epoch 405: 100%|██████████| 14/14 [00:01<00:00,  9.92it/s]\n",
      "Epoch 406: 100%|██████████| 14/14 [00:01<00:00, 10.12it/s]\n",
      "Epoch 407: 100%|██████████| 14/14 [00:01<00:00, 10.16it/s]\n",
      "Epoch 408: 100%|██████████| 14/14 [00:01<00:00,  9.86it/s]\n",
      "Epoch 409: 100%|██████████| 14/14 [00:01<00:00, 10.03it/s]\n",
      "Epoch 410: 100%|██████████| 14/14 [00:01<00:00, 10.02it/s]\n",
      "Epoch 411: 100%|██████████| 14/14 [00:01<00:00, 10.34it/s]\n",
      "Epoch 412: 100%|██████████| 14/14 [00:01<00:00, 10.09it/s]\n",
      "Epoch 413: 100%|██████████| 14/14 [00:01<00:00,  9.84it/s]\n",
      "Epoch 414: 100%|██████████| 14/14 [00:01<00:00, 10.19it/s]\n",
      "Epoch 415: 100%|██████████| 14/14 [00:01<00:00, 10.16it/s]\n",
      "Epoch 416: 100%|██████████| 14/14 [00:01<00:00,  9.90it/s]\n",
      "Epoch 417: 100%|██████████| 14/14 [00:01<00:00,  9.90it/s]\n",
      "Epoch 418: 100%|██████████| 14/14 [00:01<00:00, 10.09it/s]\n",
      "Epoch 419: 100%|██████████| 14/14 [00:01<00:00, 10.34it/s]\n",
      "Epoch 420: 100%|██████████| 14/14 [00:01<00:00, 10.09it/s]\n"
     ]
    },
    {
     "name": "stdout",
     "output_type": "stream",
     "text": [
      "Epoch 420/800 - Loss: 0.2335\n"
     ]
    },
    {
     "name": "stderr",
     "output_type": "stream",
     "text": [
      "Epoch 421: 100%|██████████| 14/14 [00:01<00:00, 10.05it/s]\n",
      "Epoch 422: 100%|██████████| 14/14 [00:01<00:00, 10.26it/s]\n",
      "Epoch 423: 100%|██████████| 14/14 [00:01<00:00, 10.40it/s]\n",
      "Epoch 424: 100%|██████████| 14/14 [00:01<00:00,  9.97it/s]\n",
      "Epoch 425: 100%|██████████| 14/14 [00:01<00:00, 10.25it/s]\n",
      "Epoch 426: 100%|██████████| 14/14 [00:01<00:00, 10.38it/s]\n",
      "Epoch 427: 100%|██████████| 14/14 [00:01<00:00, 10.03it/s]\n",
      "Epoch 428: 100%|██████████| 14/14 [00:01<00:00, 10.12it/s]\n",
      "Epoch 429: 100%|██████████| 14/14 [00:01<00:00, 10.28it/s]\n",
      "Epoch 430: 100%|██████████| 14/14 [00:01<00:00, 10.15it/s]\n",
      "Epoch 431: 100%|██████████| 14/14 [00:01<00:00, 10.03it/s]\n",
      "Epoch 432: 100%|██████████| 14/14 [00:01<00:00, 10.07it/s]\n",
      "Epoch 433: 100%|██████████| 14/14 [00:01<00:00, 10.08it/s]\n",
      "Epoch 434: 100%|██████████| 14/14 [00:01<00:00, 10.16it/s]\n",
      "Epoch 435: 100%|██████████| 14/14 [00:01<00:00, 10.37it/s]\n",
      "Epoch 436: 100%|██████████| 14/14 [00:01<00:00, 10.05it/s]\n",
      "Epoch 437: 100%|██████████| 14/14 [00:01<00:00,  9.96it/s]\n",
      "Epoch 438: 100%|██████████| 14/14 [00:01<00:00,  9.99it/s]\n",
      "Epoch 439: 100%|██████████| 14/14 [00:01<00:00,  9.83it/s]\n",
      "Epoch 440: 100%|██████████| 14/14 [00:01<00:00,  9.82it/s]\n"
     ]
    },
    {
     "name": "stdout",
     "output_type": "stream",
     "text": [
      "Epoch 440/800 - Loss: 0.3173\n"
     ]
    },
    {
     "name": "stderr",
     "output_type": "stream",
     "text": [
      "Epoch 441: 100%|██████████| 14/14 [00:01<00:00,  9.95it/s]\n",
      "Epoch 442: 100%|██████████| 14/14 [00:01<00:00,  9.92it/s]\n",
      "Epoch 443: 100%|██████████| 14/14 [00:01<00:00,  9.95it/s]\n",
      "Epoch 444: 100%|██████████| 14/14 [00:01<00:00, 10.09it/s]\n",
      "Epoch 445: 100%|██████████| 14/14 [00:01<00:00,  9.83it/s]\n",
      "Epoch 446: 100%|██████████| 14/14 [00:01<00:00, 10.21it/s]\n",
      "Epoch 447: 100%|██████████| 14/14 [00:01<00:00, 10.06it/s]\n",
      "Epoch 448: 100%|██████████| 14/14 [00:01<00:00, 10.08it/s]\n",
      "Epoch 449: 100%|██████████| 14/14 [00:01<00:00, 10.16it/s]\n",
      "Epoch 450: 100%|██████████| 14/14 [00:01<00:00, 10.04it/s]\n",
      "Epoch 451: 100%|██████████| 14/14 [00:01<00:00,  9.89it/s]\n",
      "Epoch 452: 100%|██████████| 14/14 [00:01<00:00, 10.15it/s]\n",
      "Epoch 453: 100%|██████████| 14/14 [00:01<00:00,  9.78it/s]\n",
      "Epoch 454: 100%|██████████| 14/14 [00:01<00:00, 10.10it/s]\n",
      "Epoch 455: 100%|██████████| 14/14 [00:01<00:00, 10.17it/s]\n",
      "Epoch 456: 100%|██████████| 14/14 [00:01<00:00, 10.17it/s]\n",
      "Epoch 457: 100%|██████████| 14/14 [00:01<00:00, 10.14it/s]\n",
      "Epoch 458: 100%|██████████| 14/14 [00:01<00:00, 10.34it/s]\n",
      "Epoch 459: 100%|██████████| 14/14 [00:01<00:00, 10.19it/s]\n",
      "Epoch 460: 100%|██████████| 14/14 [00:01<00:00,  9.96it/s]\n"
     ]
    },
    {
     "name": "stdout",
     "output_type": "stream",
     "text": [
      "Epoch 460/800 - Loss: 0.1720\n"
     ]
    },
    {
     "name": "stderr",
     "output_type": "stream",
     "text": [
      "Epoch 461: 100%|██████████| 14/14 [00:01<00:00,  9.82it/s]\n",
      "Epoch 462: 100%|██████████| 14/14 [00:01<00:00, 10.07it/s]\n",
      "Epoch 463: 100%|██████████| 14/14 [00:01<00:00,  9.70it/s]\n",
      "Epoch 464: 100%|██████████| 14/14 [00:01<00:00,  9.91it/s]\n",
      "Epoch 465: 100%|██████████| 14/14 [00:01<00:00, 10.36it/s]\n",
      "Epoch 466: 100%|██████████| 14/14 [00:01<00:00, 10.23it/s]\n",
      "Epoch 467: 100%|██████████| 14/14 [00:01<00:00, 10.40it/s]\n",
      "Epoch 468: 100%|██████████| 14/14 [00:01<00:00, 10.33it/s]\n",
      "Epoch 469: 100%|██████████| 14/14 [00:01<00:00, 10.50it/s]\n",
      "Epoch 470: 100%|██████████| 14/14 [00:01<00:00,  9.45it/s]\n",
      "Epoch 471: 100%|██████████| 14/14 [00:01<00:00,  9.86it/s]\n",
      "Epoch 472: 100%|██████████| 14/14 [00:01<00:00, 10.12it/s]\n",
      "Epoch 473: 100%|██████████| 14/14 [00:01<00:00, 10.22it/s]\n",
      "Epoch 474: 100%|██████████| 14/14 [00:01<00:00, 10.13it/s]\n",
      "Epoch 475: 100%|██████████| 14/14 [00:01<00:00, 10.27it/s]\n",
      "Epoch 476: 100%|██████████| 14/14 [00:01<00:00, 10.02it/s]\n",
      "Epoch 477: 100%|██████████| 14/14 [00:01<00:00,  9.67it/s]\n",
      "Epoch 478: 100%|██████████| 14/14 [00:01<00:00,  9.78it/s]\n",
      "Epoch 479: 100%|██████████| 14/14 [00:01<00:00,  9.40it/s]\n",
      "Epoch 480: 100%|██████████| 14/14 [00:01<00:00,  9.92it/s]\n"
     ]
    },
    {
     "name": "stdout",
     "output_type": "stream",
     "text": [
      "Epoch 480/800 - Loss: 0.1892\n"
     ]
    },
    {
     "name": "stderr",
     "output_type": "stream",
     "text": [
      "Epoch 481: 100%|██████████| 14/14 [00:01<00:00, 10.15it/s]\n",
      "Epoch 482: 100%|██████████| 14/14 [00:01<00:00, 10.36it/s]\n",
      "Epoch 483: 100%|██████████| 14/14 [00:01<00:00, 10.24it/s]\n",
      "Epoch 484: 100%|██████████| 14/14 [00:01<00:00, 10.16it/s]\n",
      "Epoch 485: 100%|██████████| 14/14 [00:01<00:00, 10.34it/s]\n",
      "Epoch 486: 100%|██████████| 14/14 [00:01<00:00, 10.33it/s]\n",
      "Epoch 487: 100%|██████████| 14/14 [00:01<00:00, 10.30it/s]\n",
      "Epoch 488: 100%|██████████| 14/14 [00:01<00:00, 10.25it/s]\n",
      "Epoch 489: 100%|██████████| 14/14 [00:01<00:00, 10.34it/s]\n",
      "Epoch 490: 100%|██████████| 14/14 [00:01<00:00, 10.15it/s]\n",
      "Epoch 491: 100%|██████████| 14/14 [00:01<00:00, 10.36it/s]\n",
      "Epoch 492: 100%|██████████| 14/14 [00:01<00:00, 10.15it/s]\n",
      "Epoch 493: 100%|██████████| 14/14 [00:01<00:00, 10.14it/s]\n",
      "Epoch 494: 100%|██████████| 14/14 [00:01<00:00, 10.30it/s]\n",
      "Epoch 495: 100%|██████████| 14/14 [00:01<00:00, 10.22it/s]\n",
      "Epoch 496: 100%|██████████| 14/14 [00:01<00:00, 10.25it/s]\n",
      "Epoch 497: 100%|██████████| 14/14 [00:01<00:00, 10.45it/s]\n",
      "Epoch 498: 100%|██████████| 14/14 [00:01<00:00, 10.13it/s]\n",
      "Epoch 499: 100%|██████████| 14/14 [00:01<00:00, 10.23it/s]\n",
      "Epoch 500: 100%|██████████| 14/14 [00:01<00:00, 10.28it/s]\n"
     ]
    },
    {
     "name": "stdout",
     "output_type": "stream",
     "text": [
      "Epoch 500/800 - Loss: 0.1517\n"
     ]
    },
    {
     "name": "stderr",
     "output_type": "stream",
     "text": [
      "Epoch 501: 100%|██████████| 14/14 [00:01<00:00, 10.47it/s]\n",
      "Epoch 502: 100%|██████████| 14/14 [00:01<00:00, 10.24it/s]\n",
      "Epoch 503: 100%|██████████| 14/14 [00:01<00:00, 10.27it/s]\n",
      "Epoch 504: 100%|██████████| 14/14 [00:01<00:00, 10.11it/s]\n",
      "Epoch 505: 100%|██████████| 14/14 [00:01<00:00, 10.19it/s]\n",
      "Epoch 506: 100%|██████████| 14/14 [00:01<00:00, 10.29it/s]\n",
      "Epoch 507: 100%|██████████| 14/14 [00:01<00:00, 10.22it/s]\n",
      "Epoch 508: 100%|██████████| 14/14 [00:01<00:00, 10.37it/s]\n",
      "Epoch 509: 100%|██████████| 14/14 [00:01<00:00,  9.73it/s]\n",
      "Epoch 510: 100%|██████████| 14/14 [00:01<00:00,  9.79it/s]\n",
      "Epoch 511: 100%|██████████| 14/14 [00:01<00:00,  9.69it/s]\n",
      "Epoch 512: 100%|██████████| 14/14 [00:01<00:00,  9.50it/s]\n",
      "Epoch 513: 100%|██████████| 14/14 [00:01<00:00, 10.06it/s]\n",
      "Epoch 514: 100%|██████████| 14/14 [00:01<00:00, 10.28it/s]\n",
      "Epoch 515: 100%|██████████| 14/14 [00:01<00:00, 10.28it/s]\n",
      "Epoch 516: 100%|██████████| 14/14 [00:01<00:00, 10.36it/s]\n",
      "Epoch 517: 100%|██████████| 14/14 [00:01<00:00, 10.40it/s]\n",
      "Epoch 518: 100%|██████████| 14/14 [00:01<00:00, 10.42it/s]\n",
      "Epoch 519: 100%|██████████| 14/14 [00:01<00:00, 10.38it/s]\n",
      "Epoch 520: 100%|██████████| 14/14 [00:01<00:00, 10.41it/s]\n"
     ]
    },
    {
     "name": "stdout",
     "output_type": "stream",
     "text": [
      "Epoch 520/800 - Loss: 0.1677\n"
     ]
    },
    {
     "name": "stderr",
     "output_type": "stream",
     "text": [
      "Epoch 521: 100%|██████████| 14/14 [00:01<00:00, 10.30it/s]\n",
      "Epoch 522: 100%|██████████| 14/14 [00:01<00:00, 10.22it/s]\n",
      "Epoch 523: 100%|██████████| 14/14 [00:01<00:00, 10.37it/s]\n",
      "Epoch 524: 100%|██████████| 14/14 [00:01<00:00, 10.32it/s]\n",
      "Epoch 525: 100%|██████████| 14/14 [00:01<00:00, 10.26it/s]\n",
      "Epoch 526: 100%|██████████| 14/14 [00:01<00:00, 10.15it/s]\n",
      "Epoch 527: 100%|██████████| 14/14 [00:01<00:00, 10.23it/s]\n",
      "Epoch 528: 100%|██████████| 14/14 [00:01<00:00, 10.22it/s]\n",
      "Epoch 529: 100%|██████████| 14/14 [00:01<00:00, 10.41it/s]\n",
      "Epoch 530: 100%|██████████| 14/14 [00:01<00:00, 10.16it/s]\n",
      "Epoch 531: 100%|██████████| 14/14 [00:01<00:00, 10.23it/s]\n",
      "Epoch 532: 100%|██████████| 14/14 [00:01<00:00, 10.39it/s]\n",
      "Epoch 533: 100%|██████████| 14/14 [00:01<00:00, 10.08it/s]\n",
      "Epoch 534: 100%|██████████| 14/14 [00:01<00:00, 10.11it/s]\n",
      "Epoch 535: 100%|██████████| 14/14 [00:01<00:00, 10.39it/s]\n",
      "Epoch 536: 100%|██████████| 14/14 [00:01<00:00, 10.25it/s]\n",
      "Epoch 537: 100%|██████████| 14/14 [00:01<00:00, 10.40it/s]\n",
      "Epoch 538: 100%|██████████| 14/14 [00:01<00:00, 10.27it/s]\n",
      "Epoch 539: 100%|██████████| 14/14 [00:01<00:00, 10.44it/s]\n",
      "Epoch 540: 100%|██████████| 14/14 [00:01<00:00, 10.15it/s]\n"
     ]
    },
    {
     "name": "stdout",
     "output_type": "stream",
     "text": [
      "Epoch 540/800 - Loss: 0.0982\n"
     ]
    },
    {
     "name": "stderr",
     "output_type": "stream",
     "text": [
      "Epoch 541: 100%|██████████| 14/14 [00:01<00:00, 10.43it/s]\n",
      "Epoch 542: 100%|██████████| 14/14 [00:01<00:00, 10.31it/s]\n",
      "Epoch 543: 100%|██████████| 14/14 [00:01<00:00, 10.51it/s]\n",
      "Epoch 544: 100%|██████████| 14/14 [00:01<00:00, 10.22it/s]\n",
      "Epoch 545: 100%|██████████| 14/14 [00:01<00:00, 10.45it/s]\n",
      "Epoch 546: 100%|██████████| 14/14 [00:01<00:00, 10.41it/s]\n",
      "Epoch 547: 100%|██████████| 14/14 [00:01<00:00, 10.50it/s]\n",
      "Epoch 548: 100%|██████████| 14/14 [00:01<00:00, 10.06it/s]\n",
      "Epoch 549: 100%|██████████| 14/14 [00:01<00:00, 10.16it/s]\n",
      "Epoch 550: 100%|██████████| 14/14 [00:01<00:00, 10.52it/s]\n",
      "Epoch 551: 100%|██████████| 14/14 [00:01<00:00, 10.45it/s]\n",
      "Epoch 552: 100%|██████████| 14/14 [00:01<00:00, 10.01it/s]\n",
      "Epoch 553: 100%|██████████| 14/14 [00:01<00:00, 10.21it/s]\n",
      "Epoch 554: 100%|██████████| 14/14 [00:01<00:00, 10.38it/s]\n",
      "Epoch 555: 100%|██████████| 14/14 [00:01<00:00, 10.38it/s]\n",
      "Epoch 556: 100%|██████████| 14/14 [00:01<00:00, 10.20it/s]\n",
      "Epoch 557: 100%|██████████| 14/14 [00:01<00:00, 10.50it/s]\n",
      "Epoch 558: 100%|██████████| 14/14 [00:01<00:00, 10.32it/s]\n",
      "Epoch 559: 100%|██████████| 14/14 [00:01<00:00, 10.20it/s]\n",
      "Epoch 560: 100%|██████████| 14/14 [00:01<00:00, 10.22it/s]\n"
     ]
    },
    {
     "name": "stdout",
     "output_type": "stream",
     "text": [
      "Epoch 560/800 - Loss: 0.1438\n"
     ]
    },
    {
     "name": "stderr",
     "output_type": "stream",
     "text": [
      "Epoch 561: 100%|██████████| 14/14 [00:01<00:00, 10.31it/s]\n",
      "Epoch 562: 100%|██████████| 14/14 [00:01<00:00, 10.21it/s]\n",
      "Epoch 563: 100%|██████████| 14/14 [00:01<00:00, 10.28it/s]\n",
      "Epoch 564: 100%|██████████| 14/14 [00:01<00:00, 10.40it/s]\n",
      "Epoch 565: 100%|██████████| 14/14 [00:01<00:00, 10.14it/s]\n",
      "Epoch 566: 100%|██████████| 14/14 [00:01<00:00, 10.35it/s]\n",
      "Epoch 567: 100%|██████████| 14/14 [00:01<00:00, 10.32it/s]\n",
      "Epoch 568: 100%|██████████| 14/14 [00:01<00:00, 10.29it/s]\n",
      "Epoch 569: 100%|██████████| 14/14 [00:01<00:00, 10.15it/s]\n",
      "Epoch 570: 100%|██████████| 14/14 [00:01<00:00, 10.44it/s]\n",
      "Epoch 571: 100%|██████████| 14/14 [00:01<00:00, 10.24it/s]\n",
      "Epoch 572: 100%|██████████| 14/14 [00:01<00:00, 10.16it/s]\n",
      "Epoch 573: 100%|██████████| 14/14 [00:01<00:00, 10.40it/s]\n",
      "Epoch 574: 100%|██████████| 14/14 [00:01<00:00, 10.09it/s]\n",
      "Epoch 575: 100%|██████████| 14/14 [00:01<00:00,  9.89it/s]\n",
      "Epoch 576: 100%|██████████| 14/14 [00:01<00:00, 10.23it/s]\n",
      "Epoch 577: 100%|██████████| 14/14 [00:01<00:00, 10.09it/s]\n",
      "Epoch 578: 100%|██████████| 14/14 [00:01<00:00, 10.03it/s]\n",
      "Epoch 579: 100%|██████████| 14/14 [00:01<00:00,  9.99it/s]\n",
      "Epoch 580: 100%|██████████| 14/14 [00:01<00:00, 10.09it/s]\n"
     ]
    },
    {
     "name": "stdout",
     "output_type": "stream",
     "text": [
      "Epoch 580/800 - Loss: 0.1129\n"
     ]
    },
    {
     "name": "stderr",
     "output_type": "stream",
     "text": [
      "Epoch 581: 100%|██████████| 14/14 [00:01<00:00, 10.11it/s]\n",
      "Epoch 582: 100%|██████████| 14/14 [00:01<00:00, 10.03it/s]\n",
      "Epoch 583: 100%|██████████| 14/14 [00:01<00:00, 10.07it/s]\n",
      "Epoch 584: 100%|██████████| 14/14 [00:01<00:00, 10.45it/s]\n",
      "Epoch 585: 100%|██████████| 14/14 [00:01<00:00, 10.34it/s]\n",
      "Epoch 586: 100%|██████████| 14/14 [00:01<00:00, 10.22it/s]\n",
      "Epoch 587: 100%|██████████| 14/14 [00:01<00:00, 10.11it/s]\n",
      "Epoch 588: 100%|██████████| 14/14 [00:01<00:00, 10.22it/s]\n",
      "Epoch 589: 100%|██████████| 14/14 [00:01<00:00, 10.33it/s]\n",
      "Epoch 590: 100%|██████████| 14/14 [00:01<00:00, 10.31it/s]\n",
      "Epoch 591: 100%|██████████| 14/14 [00:01<00:00, 10.49it/s]\n",
      "Epoch 592: 100%|██████████| 14/14 [00:01<00:00, 10.27it/s]\n",
      "Epoch 593: 100%|██████████| 14/14 [00:01<00:00, 10.07it/s]\n",
      "Epoch 594: 100%|██████████| 14/14 [00:01<00:00, 10.33it/s]\n",
      "Epoch 595: 100%|██████████| 14/14 [00:01<00:00, 10.30it/s]\n",
      "Epoch 596: 100%|██████████| 14/14 [00:01<00:00,  9.99it/s]\n",
      "Epoch 597: 100%|██████████| 14/14 [00:01<00:00, 10.14it/s]\n",
      "Epoch 598: 100%|██████████| 14/14 [00:01<00:00, 10.30it/s]\n",
      "Epoch 599: 100%|██████████| 14/14 [00:01<00:00, 10.34it/s]\n",
      "Epoch 600: 100%|██████████| 14/14 [00:01<00:00, 10.23it/s]\n"
     ]
    },
    {
     "name": "stdout",
     "output_type": "stream",
     "text": [
      "Epoch 600/800 - Loss: 0.1145\n"
     ]
    },
    {
     "name": "stderr",
     "output_type": "stream",
     "text": [
      "Epoch 601: 100%|██████████| 14/14 [00:01<00:00, 10.15it/s]\n",
      "Epoch 602: 100%|██████████| 14/14 [00:01<00:00, 10.08it/s]\n",
      "Epoch 603: 100%|██████████| 14/14 [00:01<00:00, 10.25it/s]\n",
      "Epoch 604: 100%|██████████| 14/14 [00:01<00:00, 10.21it/s]\n",
      "Epoch 605: 100%|██████████| 14/14 [00:01<00:00, 10.32it/s]\n",
      "Epoch 606: 100%|██████████| 14/14 [00:01<00:00, 10.25it/s]\n",
      "Epoch 607: 100%|██████████| 14/14 [00:01<00:00, 10.21it/s]\n",
      "Epoch 608: 100%|██████████| 14/14 [00:01<00:00, 10.15it/s]\n",
      "Epoch 609: 100%|██████████| 14/14 [00:01<00:00, 10.17it/s]\n",
      "Epoch 610: 100%|██████████| 14/14 [00:01<00:00, 10.25it/s]\n",
      "Epoch 611: 100%|██████████| 14/14 [00:01<00:00, 10.55it/s]\n",
      "Epoch 612: 100%|██████████| 14/14 [00:01<00:00, 10.15it/s]\n",
      "Epoch 613: 100%|██████████| 14/14 [00:01<00:00, 10.54it/s]\n",
      "Epoch 614: 100%|██████████| 14/14 [00:01<00:00, 10.43it/s]\n",
      "Epoch 615: 100%|██████████| 14/14 [00:01<00:00, 10.45it/s]\n",
      "Epoch 616: 100%|██████████| 14/14 [00:01<00:00, 10.35it/s]\n",
      "Epoch 617: 100%|██████████| 14/14 [00:01<00:00, 10.23it/s]\n",
      "Epoch 618: 100%|██████████| 14/14 [00:01<00:00, 10.26it/s]\n",
      "Epoch 619: 100%|██████████| 14/14 [00:01<00:00, 10.27it/s]\n",
      "Epoch 620: 100%|██████████| 14/14 [00:01<00:00, 10.05it/s]\n"
     ]
    },
    {
     "name": "stdout",
     "output_type": "stream",
     "text": [
      "Epoch 620/800 - Loss: 0.1203\n"
     ]
    },
    {
     "name": "stderr",
     "output_type": "stream",
     "text": [
      "Epoch 621: 100%|██████████| 14/14 [00:01<00:00, 10.24it/s]\n",
      "Epoch 622: 100%|██████████| 14/14 [00:01<00:00, 10.20it/s]\n",
      "Epoch 623: 100%|██████████| 14/14 [00:01<00:00, 10.35it/s]\n",
      "Epoch 624: 100%|██████████| 14/14 [00:01<00:00, 10.40it/s]\n",
      "Epoch 625: 100%|██████████| 14/14 [00:01<00:00, 10.53it/s]\n",
      "Epoch 626: 100%|██████████| 14/14 [00:01<00:00, 10.25it/s]\n",
      "Epoch 627: 100%|██████████| 14/14 [00:01<00:00, 10.37it/s]\n",
      "Epoch 628: 100%|██████████| 14/14 [00:01<00:00, 10.29it/s]\n",
      "Epoch 629: 100%|██████████| 14/14 [00:01<00:00, 10.05it/s]\n",
      "Epoch 630: 100%|██████████| 14/14 [00:01<00:00, 10.15it/s]\n",
      "Epoch 631: 100%|██████████| 14/14 [00:01<00:00, 10.36it/s]\n",
      "Epoch 632: 100%|██████████| 14/14 [00:01<00:00, 10.32it/s]\n",
      "Epoch 633: 100%|██████████| 14/14 [00:01<00:00, 10.54it/s]\n",
      "Epoch 634: 100%|██████████| 14/14 [00:01<00:00, 10.24it/s]\n",
      "Epoch 635: 100%|██████████| 14/14 [00:01<00:00, 10.14it/s]\n",
      "Epoch 636: 100%|██████████| 14/14 [00:01<00:00, 10.30it/s]\n",
      "Epoch 637: 100%|██████████| 14/14 [00:01<00:00,  9.88it/s]\n",
      "Epoch 638: 100%|██████████| 14/14 [00:01<00:00, 10.23it/s]\n",
      "Epoch 639: 100%|██████████| 14/14 [00:01<00:00, 10.17it/s]\n",
      "Epoch 640: 100%|██████████| 14/14 [00:01<00:00, 10.16it/s]\n"
     ]
    },
    {
     "name": "stdout",
     "output_type": "stream",
     "text": [
      "Epoch 640/800 - Loss: 0.1705\n"
     ]
    },
    {
     "name": "stderr",
     "output_type": "stream",
     "text": [
      "Epoch 641: 100%|██████████| 14/14 [00:01<00:00, 10.22it/s]\n",
      "Epoch 642: 100%|██████████| 14/14 [00:01<00:00, 10.31it/s]\n",
      "Epoch 643: 100%|██████████| 14/14 [00:01<00:00, 10.19it/s]\n",
      "Epoch 644: 100%|██████████| 14/14 [00:01<00:00, 10.30it/s]\n",
      "Epoch 645: 100%|██████████| 14/14 [00:01<00:00, 10.23it/s]\n",
      "Epoch 646: 100%|██████████| 14/14 [00:01<00:00, 10.29it/s]\n",
      "Epoch 647: 100%|██████████| 14/14 [00:01<00:00, 10.21it/s]\n",
      "Epoch 648: 100%|██████████| 14/14 [00:01<00:00, 10.34it/s]\n",
      "Epoch 649: 100%|██████████| 14/14 [00:01<00:00, 10.13it/s]\n",
      "Epoch 650: 100%|██████████| 14/14 [00:01<00:00, 10.31it/s]\n",
      "Epoch 651: 100%|██████████| 14/14 [00:01<00:00, 10.18it/s]\n",
      "Epoch 652: 100%|██████████| 14/14 [00:01<00:00, 10.19it/s]\n",
      "Epoch 653: 100%|██████████| 14/14 [00:01<00:00, 10.48it/s]\n",
      "Epoch 654: 100%|██████████| 14/14 [00:01<00:00, 10.20it/s]\n",
      "Epoch 655: 100%|██████████| 14/14 [00:01<00:00, 10.22it/s]\n",
      "Epoch 656: 100%|██████████| 14/14 [00:01<00:00, 10.03it/s]\n",
      "Epoch 657: 100%|██████████| 14/14 [00:01<00:00, 10.25it/s]\n",
      "Epoch 658: 100%|██████████| 14/14 [00:01<00:00, 10.33it/s]\n",
      "Epoch 659: 100%|██████████| 14/14 [00:01<00:00, 10.34it/s]\n",
      "Epoch 660: 100%|██████████| 14/14 [00:01<00:00,  9.99it/s]\n"
     ]
    },
    {
     "name": "stdout",
     "output_type": "stream",
     "text": [
      "Epoch 660/800 - Loss: 0.0765\n"
     ]
    },
    {
     "name": "stderr",
     "output_type": "stream",
     "text": [
      "Epoch 661: 100%|██████████| 14/14 [00:01<00:00, 10.15it/s]\n",
      "Epoch 662: 100%|██████████| 14/14 [00:01<00:00, 10.40it/s]\n",
      "Epoch 663: 100%|██████████| 14/14 [00:01<00:00, 10.46it/s]\n",
      "Epoch 664: 100%|██████████| 14/14 [00:01<00:00, 10.26it/s]\n",
      "Epoch 665: 100%|██████████| 14/14 [00:01<00:00, 10.11it/s]\n",
      "Epoch 666: 100%|██████████| 14/14 [00:01<00:00, 10.28it/s]\n",
      "Epoch 667: 100%|██████████| 14/14 [00:01<00:00, 10.06it/s]\n",
      "Epoch 668: 100%|██████████| 14/14 [00:01<00:00, 10.16it/s]\n",
      "Epoch 669: 100%|██████████| 14/14 [00:01<00:00, 10.39it/s]\n",
      "Epoch 670: 100%|██████████| 14/14 [00:01<00:00, 10.40it/s]\n",
      "Epoch 671: 100%|██████████| 14/14 [00:01<00:00, 10.37it/s]\n",
      "Epoch 672: 100%|██████████| 14/14 [00:01<00:00, 10.39it/s]\n",
      "Epoch 673: 100%|██████████| 14/14 [00:01<00:00, 10.24it/s]\n",
      "Epoch 674: 100%|██████████| 14/14 [00:01<00:00, 10.13it/s]\n",
      "Epoch 675: 100%|██████████| 14/14 [00:01<00:00, 10.16it/s]\n",
      "Epoch 676: 100%|██████████| 14/14 [00:01<00:00, 10.34it/s]\n",
      "Epoch 677: 100%|██████████| 14/14 [00:01<00:00, 10.22it/s]\n",
      "Epoch 678: 100%|██████████| 14/14 [00:01<00:00, 10.24it/s]\n",
      "Epoch 679: 100%|██████████| 14/14 [00:01<00:00, 10.46it/s]\n",
      "Epoch 680: 100%|██████████| 14/14 [00:01<00:00, 10.30it/s]\n"
     ]
    },
    {
     "name": "stdout",
     "output_type": "stream",
     "text": [
      "Epoch 680/800 - Loss: 0.0622\n"
     ]
    },
    {
     "name": "stderr",
     "output_type": "stream",
     "text": [
      "Epoch 681: 100%|██████████| 14/14 [00:01<00:00, 10.23it/s]\n",
      "Epoch 682: 100%|██████████| 14/14 [00:01<00:00, 10.48it/s]\n",
      "Epoch 683: 100%|██████████| 14/14 [00:01<00:00, 10.37it/s]\n",
      "Epoch 684: 100%|██████████| 14/14 [00:01<00:00, 10.28it/s]\n",
      "Epoch 685: 100%|██████████| 14/14 [00:01<00:00, 10.11it/s]\n",
      "Epoch 686: 100%|██████████| 14/14 [00:01<00:00, 10.11it/s]\n",
      "Epoch 687: 100%|██████████| 14/14 [00:01<00:00, 10.14it/s]\n",
      "Epoch 688: 100%|██████████| 14/14 [00:01<00:00, 10.32it/s]\n",
      "Epoch 689: 100%|██████████| 14/14 [00:01<00:00, 10.18it/s]\n",
      "Epoch 690: 100%|██████████| 14/14 [00:01<00:00, 10.53it/s]\n",
      "Epoch 691: 100%|██████████| 14/14 [00:01<00:00, 10.04it/s]\n",
      "Epoch 692: 100%|██████████| 14/14 [00:01<00:00, 10.38it/s]\n",
      "Epoch 693: 100%|██████████| 14/14 [00:01<00:00, 10.27it/s]\n",
      "Epoch 694: 100%|██████████| 14/14 [00:01<00:00, 10.37it/s]\n",
      "Epoch 695: 100%|██████████| 14/14 [00:01<00:00, 10.35it/s]\n",
      "Epoch 696: 100%|██████████| 14/14 [00:01<00:00, 10.22it/s]\n",
      "Epoch 697: 100%|██████████| 14/14 [00:01<00:00, 10.18it/s]\n",
      "Epoch 698: 100%|██████████| 14/14 [00:01<00:00, 10.27it/s]\n",
      "Epoch 699: 100%|██████████| 14/14 [00:01<00:00, 10.44it/s]\n",
      "Epoch 700: 100%|██████████| 14/14 [00:01<00:00, 10.22it/s]\n"
     ]
    },
    {
     "name": "stdout",
     "output_type": "stream",
     "text": [
      "Epoch 700/800 - Loss: 0.1165\n"
     ]
    },
    {
     "name": "stderr",
     "output_type": "stream",
     "text": [
      "Epoch 701: 100%|██████████| 14/14 [00:01<00:00, 10.44it/s]\n",
      "Epoch 702: 100%|██████████| 14/14 [00:01<00:00, 10.45it/s]\n",
      "Epoch 703: 100%|██████████| 14/14 [00:01<00:00, 10.31it/s]\n",
      "Epoch 704: 100%|██████████| 14/14 [00:01<00:00, 10.30it/s]\n",
      "Epoch 705: 100%|██████████| 14/14 [00:01<00:00, 10.35it/s]\n",
      "Epoch 706: 100%|██████████| 14/14 [00:01<00:00,  9.98it/s]\n",
      "Epoch 707: 100%|██████████| 14/14 [00:01<00:00, 10.20it/s]\n",
      "Epoch 708: 100%|██████████| 14/14 [00:01<00:00, 10.37it/s]\n",
      "Epoch 709: 100%|██████████| 14/14 [00:01<00:00, 10.18it/s]\n",
      "Epoch 710: 100%|██████████| 14/14 [00:01<00:00, 10.18it/s]\n",
      "Epoch 711: 100%|██████████| 14/14 [00:01<00:00, 10.28it/s]\n",
      "Epoch 712: 100%|██████████| 14/14 [00:01<00:00, 10.23it/s]\n",
      "Epoch 713: 100%|██████████| 14/14 [00:01<00:00, 10.53it/s]\n",
      "Epoch 714: 100%|██████████| 14/14 [00:01<00:00, 10.24it/s]\n",
      "Epoch 715: 100%|██████████| 14/14 [00:01<00:00, 10.30it/s]\n",
      "Epoch 716: 100%|██████████| 14/14 [00:01<00:00, 10.14it/s]\n",
      "Epoch 717: 100%|██████████| 14/14 [00:01<00:00, 10.05it/s]\n",
      "Epoch 718: 100%|██████████| 14/14 [00:01<00:00, 10.31it/s]\n",
      "Epoch 719: 100%|██████████| 14/14 [00:01<00:00, 10.34it/s]\n",
      "Epoch 720: 100%|██████████| 14/14 [00:01<00:00, 10.24it/s]\n"
     ]
    },
    {
     "name": "stdout",
     "output_type": "stream",
     "text": [
      "Epoch 720/800 - Loss: 0.0736\n"
     ]
    },
    {
     "name": "stderr",
     "output_type": "stream",
     "text": [
      "Epoch 721: 100%|██████████| 14/14 [00:01<00:00, 10.21it/s]\n",
      "Epoch 722: 100%|██████████| 14/14 [00:01<00:00, 10.48it/s]\n",
      "Epoch 723: 100%|██████████| 14/14 [00:01<00:00, 10.40it/s]\n",
      "Epoch 724: 100%|██████████| 14/14 [00:01<00:00, 10.26it/s]\n",
      "Epoch 725: 100%|██████████| 14/14 [00:01<00:00, 10.41it/s]\n",
      "Epoch 726: 100%|██████████| 14/14 [00:01<00:00, 10.18it/s]\n",
      "Epoch 727: 100%|██████████| 14/14 [00:01<00:00, 10.45it/s]\n",
      "Epoch 728: 100%|██████████| 14/14 [00:01<00:00, 10.17it/s]\n",
      "Epoch 729: 100%|██████████| 14/14 [00:01<00:00, 10.40it/s]\n",
      "Epoch 730: 100%|██████████| 14/14 [00:01<00:00, 10.14it/s]\n",
      "Epoch 731: 100%|██████████| 14/14 [00:01<00:00, 10.33it/s]\n",
      "Epoch 732: 100%|██████████| 14/14 [00:01<00:00, 10.40it/s]\n",
      "Epoch 733: 100%|██████████| 14/14 [00:01<00:00, 10.36it/s]\n",
      "Epoch 734: 100%|██████████| 14/14 [00:01<00:00, 10.37it/s]\n",
      "Epoch 735: 100%|██████████| 14/14 [00:01<00:00, 10.39it/s]\n",
      "Epoch 736: 100%|██████████| 14/14 [00:01<00:00, 10.16it/s]\n",
      "Epoch 737: 100%|██████████| 14/14 [00:01<00:00, 10.26it/s]\n",
      "Epoch 738: 100%|██████████| 14/14 [00:01<00:00,  9.88it/s]\n",
      "Epoch 739: 100%|██████████| 14/14 [00:01<00:00,  9.98it/s]\n",
      "Epoch 740: 100%|██████████| 14/14 [00:01<00:00, 10.24it/s]\n"
     ]
    },
    {
     "name": "stdout",
     "output_type": "stream",
     "text": [
      "Epoch 740/800 - Loss: 0.0680\n"
     ]
    },
    {
     "name": "stderr",
     "output_type": "stream",
     "text": [
      "Epoch 741: 100%|██████████| 14/14 [00:01<00:00, 10.40it/s]\n",
      "Epoch 742: 100%|██████████| 14/14 [00:01<00:00,  9.89it/s]\n",
      "Epoch 743: 100%|██████████| 14/14 [00:01<00:00, 10.09it/s]\n",
      "Epoch 744: 100%|██████████| 14/14 [00:01<00:00, 10.11it/s]\n",
      "Epoch 745: 100%|██████████| 14/14 [00:01<00:00,  9.92it/s]\n",
      "Epoch 746: 100%|██████████| 14/14 [00:01<00:00,  9.96it/s]\n",
      "Epoch 747: 100%|██████████| 14/14 [00:01<00:00,  9.88it/s]\n",
      "Epoch 748: 100%|██████████| 14/14 [00:01<00:00, 10.02it/s]\n",
      "Epoch 749: 100%|██████████| 14/14 [00:01<00:00, 10.25it/s]\n",
      "Epoch 750: 100%|██████████| 14/14 [00:01<00:00, 10.19it/s]\n",
      "Epoch 751: 100%|██████████| 14/14 [00:01<00:00, 10.28it/s]\n",
      "Epoch 752: 100%|██████████| 14/14 [00:01<00:00, 10.23it/s]\n",
      "Epoch 753: 100%|██████████| 14/14 [00:01<00:00, 10.16it/s]\n",
      "Epoch 754: 100%|██████████| 14/14 [00:01<00:00, 10.27it/s]\n",
      "Epoch 755: 100%|██████████| 14/14 [00:01<00:00, 10.29it/s]\n",
      "Epoch 756: 100%|██████████| 14/14 [00:01<00:00, 10.22it/s]\n",
      "Epoch 757: 100%|██████████| 14/14 [00:01<00:00,  9.99it/s]\n",
      "Epoch 758: 100%|██████████| 14/14 [00:01<00:00, 10.22it/s]\n",
      "Epoch 759: 100%|██████████| 14/14 [00:01<00:00, 10.28it/s]\n",
      "Epoch 760: 100%|██████████| 14/14 [00:01<00:00, 10.28it/s]\n"
     ]
    },
    {
     "name": "stdout",
     "output_type": "stream",
     "text": [
      "Epoch 760/800 - Loss: 0.0682\n"
     ]
    },
    {
     "name": "stderr",
     "output_type": "stream",
     "text": [
      "Epoch 761: 100%|██████████| 14/14 [00:01<00:00, 10.55it/s]\n",
      "Epoch 762: 100%|██████████| 14/14 [00:01<00:00, 10.24it/s]\n",
      "Epoch 763: 100%|██████████| 14/14 [00:01<00:00, 10.17it/s]\n",
      "Epoch 764: 100%|██████████| 14/14 [00:01<00:00, 10.32it/s]\n",
      "Epoch 765: 100%|██████████| 14/14 [00:01<00:00, 10.28it/s]\n",
      "Epoch 766: 100%|██████████| 14/14 [00:01<00:00,  9.79it/s]\n",
      "Epoch 767: 100%|██████████| 14/14 [00:01<00:00,  9.97it/s]\n",
      "Epoch 768: 100%|██████████| 14/14 [00:01<00:00, 10.13it/s]\n",
      "Epoch 769: 100%|██████████| 14/14 [00:01<00:00,  9.97it/s]\n",
      "Epoch 770: 100%|██████████| 14/14 [00:01<00:00, 10.20it/s]\n",
      "Epoch 771: 100%|██████████| 14/14 [00:01<00:00, 10.04it/s]\n",
      "Epoch 772: 100%|██████████| 14/14 [00:01<00:00,  9.96it/s]\n",
      "Epoch 773: 100%|██████████| 14/14 [00:01<00:00,  9.62it/s]\n",
      "Epoch 774: 100%|██████████| 14/14 [00:01<00:00, 10.55it/s]\n",
      "Epoch 775: 100%|██████████| 14/14 [00:01<00:00, 10.46it/s]\n",
      "Epoch 776: 100%|██████████| 14/14 [00:01<00:00, 10.36it/s]\n",
      "Epoch 777: 100%|██████████| 14/14 [00:01<00:00, 10.35it/s]\n",
      "Epoch 778: 100%|██████████| 14/14 [00:01<00:00, 10.29it/s]\n",
      "Epoch 779: 100%|██████████| 14/14 [00:01<00:00, 10.26it/s]\n",
      "Epoch 780: 100%|██████████| 14/14 [00:01<00:00, 10.20it/s]\n"
     ]
    },
    {
     "name": "stdout",
     "output_type": "stream",
     "text": [
      "Epoch 780/800 - Loss: 0.0918\n"
     ]
    },
    {
     "name": "stderr",
     "output_type": "stream",
     "text": [
      "Epoch 781: 100%|██████████| 14/14 [00:01<00:00, 10.21it/s]\n",
      "Epoch 782: 100%|██████████| 14/14 [00:01<00:00, 10.25it/s]\n",
      "Epoch 783: 100%|██████████| 14/14 [00:01<00:00,  9.75it/s]\n",
      "Epoch 784: 100%|██████████| 14/14 [00:01<00:00, 10.09it/s]\n",
      "Epoch 785: 100%|██████████| 14/14 [00:01<00:00,  9.91it/s]\n",
      "Epoch 786: 100%|██████████| 14/14 [00:01<00:00, 10.14it/s]\n",
      "Epoch 787: 100%|██████████| 14/14 [00:01<00:00, 10.25it/s]\n",
      "Epoch 788: 100%|██████████| 14/14 [00:01<00:00, 10.20it/s]\n",
      "Epoch 789: 100%|██████████| 14/14 [00:01<00:00,  9.99it/s]\n",
      "Epoch 790: 100%|██████████| 14/14 [00:01<00:00, 10.01it/s]\n",
      "Epoch 791: 100%|██████████| 14/14 [00:01<00:00,  9.91it/s]\n",
      "Epoch 792: 100%|██████████| 14/14 [00:01<00:00,  9.57it/s]\n",
      "Epoch 793: 100%|██████████| 14/14 [00:01<00:00,  9.72it/s]\n",
      "Epoch 794: 100%|██████████| 14/14 [00:01<00:00,  9.54it/s]\n",
      "Epoch 795: 100%|██████████| 14/14 [00:01<00:00, 10.33it/s]\n",
      "Epoch 796: 100%|██████████| 14/14 [00:01<00:00, 10.03it/s]\n",
      "Epoch 797: 100%|██████████| 14/14 [00:01<00:00, 10.31it/s]\n",
      "Epoch 798: 100%|██████████| 14/14 [00:01<00:00, 10.16it/s]\n",
      "Epoch 799: 100%|██████████| 14/14 [00:01<00:00, 10.25it/s]\n",
      "Epoch 800: 100%|██████████| 14/14 [00:01<00:00, 10.13it/s]"
     ]
    },
    {
     "name": "stdout",
     "output_type": "stream",
     "text": [
      "Epoch 800/800 - Loss: 0.0809\n"
     ]
    },
    {
     "name": "stderr",
     "output_type": "stream",
     "text": [
      "\n"
     ]
    }
   ],
   "source": [
    "from tqdm import tqdm\n",
    "\n",
    "num_of_epochs = 800\n",
    "\n",
    "for epoch in range(num_of_epochs):\n",
    "    \n",
    "    running_loss = 0.0\n",
    "    for i, data in enumerate(tqdm(train_loader, desc=f\"Epoch {epoch+1}\")):\n",
    "        \n",
    "        inputs, labels = data\n",
    "        inputs, labels = inputs.to(device), labels.to(device)\n",
    "\n",
    "        optimizer.zero_grad()\n",
    "        outputs = net(inputs)\n",
    "        loss = loss_function(outputs, labels)\n",
    "        loss.backward()\n",
    "        optimizer.step()\n",
    "\n",
    "        running_loss += loss.item()\n",
    "\n",
    "    avg_loss = running_loss / len(train_loader)\n",
    "\n",
    "    if (epoch + 1) % 20 == 0:\n",
    "        print(f\"Epoch {epoch+1}/{num_of_epochs} - Loss: {avg_loss:.4f}\")\n"
   ]
  },
  {
   "cell_type": "code",
   "execution_count": 15,
   "metadata": {},
   "outputs": [],
   "source": [
    "torch.save(net.state_dict(), 'models/trained_image_model_SGDV4.pth')"
   ]
  },
  {
   "cell_type": "code",
   "execution_count": 14,
   "metadata": {},
   "outputs": [
    {
     "data": {
      "text/plain": [
       "<All keys matched successfully>"
      ]
     },
     "execution_count": 14,
     "metadata": {},
     "output_type": "execute_result"
    }
   ],
   "source": [
    "net = NeuralNet()\n",
    "net.load_state_dict(torch.load('models/trained_image_model_SGDV4.pth', map_location=torch.device('cpu')))"
   ]
  },
  {
   "cell_type": "code",
   "execution_count": 17,
   "metadata": {},
   "outputs": [
    {
     "name": "stdout",
     "output_type": "stream",
     "text": [
      "Accuracy: 97.87%\n"
     ]
    }
   ],
   "source": [
    "correct = 0\n",
    "total = 0\n",
    "\n",
    "net.eval()\n",
    "\n",
    "with torch.no_grad():\n",
    "    for data in test_loader:\n",
    "        images, labels = data\n",
    "        outputs = net(images)\n",
    "        _, predicted = torch.max(outputs,1)\n",
    "        total += labels.size(0)\n",
    "        correct += (predicted == labels).sum().item()\n",
    "\n",
    "accuracy = 100 * correct / total\n",
    "print(f\"Accuracy: {accuracy:.2f}%\")"
   ]
  },
  {
   "cell_type": "code",
   "execution_count": 18,
   "metadata": {},
   "outputs": [
    {
     "name": "stdout",
     "output_type": "stream",
     "text": [
      "Prediction: Sports\n"
     ]
    }
   ],
   "source": [
    "new_transform = transforms.Compose([\n",
    "    transforms.Resize(256),            \n",
    "    transforms.CenterCrop(224), \n",
    "    transforms.ToTensor(),\n",
    "    transforms.Normalize((0.5,0.5,0.5),(0.5,0.5,0.5))\n",
    "])\n",
    "\n",
    "def load_image(image_path):\n",
    "    image = Image.open(image_path)\n",
    "    image = new_transform(image)\n",
    "    image = image.unsqueeze(0)\n",
    "    return image\n",
    "\n",
    "image_paths = ['images/sports/100.jpeg']\n",
    "\n",
    "images = [load_image(img) for img in image_paths]\n",
    "\n",
    "net.eval()\n",
    "with torch.no_grad():\n",
    "    for image in images:\n",
    "        output = net(image)\n",
    "        _, predicted = torch.max(output, 1)\n",
    "        print(f\"Prediction: {class_name[predicted.item()]}\")"
   ]
  },
  {
   "cell_type": "code",
   "execution_count": null,
   "metadata": {},
   "outputs": [],
   "source": []
  }
 ],
 "metadata": {
  "kernelspec": {
   "display_name": ".venv",
   "language": "python",
   "name": "python3"
  },
  "language_info": {
   "codemirror_mode": {
    "name": "ipython",
    "version": 3
   },
   "file_extension": ".py",
   "mimetype": "text/x-python",
   "name": "python",
   "nbconvert_exporter": "python",
   "pygments_lexer": "ipython3",
   "version": "3.13.2"
  }
 },
 "nbformat": 4,
 "nbformat_minor": 2
}
