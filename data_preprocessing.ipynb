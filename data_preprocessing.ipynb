{
 "cells": [
  {
   "cell_type": "markdown",
   "metadata": {},
   "source": [
    "## Install Dependencies"
   ]
  },
  {
   "cell_type": "code",
   "execution_count": null,
   "metadata": {},
   "outputs": [],
   "source": [
    "# pip install pandas"
   ]
  },
  {
   "cell_type": "code",
   "execution_count": null,
   "metadata": {},
   "outputs": [],
   "source": [
    "# pip install fastparquet"
   ]
  },
  {
   "cell_type": "markdown",
   "metadata": {},
   "source": [
    "## Data Visualization"
   ]
  },
  {
   "cell_type": "code",
   "execution_count": null,
   "metadata": {},
   "outputs": [],
   "source": [
    "# pip install pyarrow"
   ]
  },
  {
   "cell_type": "code",
   "execution_count": null,
   "metadata": {},
   "outputs": [],
   "source": [
    "# pip install requests\n"
   ]
  },
  {
   "cell_type": "code",
   "execution_count": null,
   "metadata": {},
   "outputs": [],
   "source": [
    "# import pandas as pd\n",
    "\n",
    "# animes_df = pd.read_csv('dataset/anime-dataset-2023.csv')\n",
    "# ratings_df = pd.read_csv('dataset/users-score-2023.csv')\n",
    "# animes_df.to_parquet('dataset/animes.parquet')\n",
    "# ratings_df.to_parquet('dataset/user_ratings.parquet')"
   ]
  },
  {
   "cell_type": "code",
   "execution_count": null,
   "metadata": {},
   "outputs": [],
   "source": [
    "# import pandas as pd\n",
    "\n",
    "# animes_df = pd.read_parquet('dataset/animes.parquet')\n",
    "# ratings_df = pd.read_parquet('dataset/user_ratings.parquet')"
   ]
  },
  {
   "cell_type": "code",
   "execution_count": null,
   "metadata": {},
   "outputs": [],
   "source": [
    "import pandas as pd\n",
    "\n",
    "ratings_df = pd.read_parquet('dataset/user_ratings.parquet')\n",
    "\n",
    "animes_df = pd.read_csv(\"dataset/anime-dataset-2023.csv\")\n",
    "animes_df2 = pd.read_csv(\"dataset/anime-filtered.csv\")"
   ]
  },
  {
   "cell_type": "code",
   "execution_count": null,
   "metadata": {},
   "outputs": [],
   "source": [
    "animes_df.shape"
   ]
  },
  {
   "cell_type": "code",
   "execution_count": null,
   "metadata": {},
   "outputs": [],
   "source": [
    "animes_df2.shape"
   ]
  },
  {
   "cell_type": "code",
   "execution_count": null,
   "metadata": {},
   "outputs": [],
   "source": [
    "df2_genres = animes_df2[['anime_id', 'Genres']].copy()\n",
    "animes_df = pd.merge(animes_df, df2_genres, on='anime_id', how='left', suffixes=('', '_df2'))\n",
    "animes_df['Genres'] = animes_df['Genres_df2'].combine_first(animes_df['Genres'])\n",
    "animes_df = animes_df.drop(columns=['Genres_df2'])"
   ]
  },
  {
   "cell_type": "code",
   "execution_count": null,
   "metadata": {},
   "outputs": [],
   "source": [
    "import gc\n",
    "\n",
    "del df2_genres, animes_df2\n",
    "gc.collect()"
   ]
  },
  {
   "cell_type": "code",
   "execution_count": null,
   "metadata": {},
   "outputs": [],
   "source": [
    "animes_df.info()"
   ]
  },
  {
   "cell_type": "code",
   "execution_count": null,
   "metadata": {},
   "outputs": [],
   "source": [
    "ratings_df.info()"
   ]
  },
  {
   "cell_type": "code",
   "execution_count": null,
   "metadata": {},
   "outputs": [],
   "source": [
    "animes_df.head()"
   ]
  },
  {
   "cell_type": "code",
   "execution_count": null,
   "metadata": {},
   "outputs": [],
   "source": [
    "animes_df = animes_df[['anime_id','Name','Score','Genres','Synopsis','Type','Aired','Premiered','Producers','Licensors','Studios','Rating','Members','Image URL']]\n",
    "animes_df"
   ]
  },
  {
   "cell_type": "code",
   "execution_count": null,
   "metadata": {},
   "outputs": [],
   "source": [
    "animes_df.info()"
   ]
  },
  {
   "cell_type": "code",
   "execution_count": null,
   "metadata": {},
   "outputs": [],
   "source": [
    "ratings_df.head()"
   ]
  },
  {
   "cell_type": "markdown",
   "metadata": {},
   "source": [
    "## Data Cleaning"
   ]
  },
  {
   "cell_type": "markdown",
   "metadata": {},
   "source": [
    "#### Anime dataset"
   ]
  },
  {
   "cell_type": "code",
   "execution_count": null,
   "metadata": {},
   "outputs": [],
   "source": [
    "# Check for empty values\n",
    "animes_df.isna().sum()"
   ]
  },
  {
   "cell_type": "code",
   "execution_count": null,
   "metadata": {},
   "outputs": [],
   "source": [
    "# Check for duplicates\n",
    "animes_df.duplicated().sum()"
   ]
  },
  {
   "cell_type": "code",
   "execution_count": null,
   "metadata": {},
   "outputs": [],
   "source": [
    "unknown_counts = (animes_df == \"UNKNOWN\").sum()\n",
    "print(unknown_counts)\n"
   ]
  },
  {
   "cell_type": "code",
   "execution_count": null,
   "metadata": {},
   "outputs": [],
   "source": [
    "animes_df.shape"
   ]
  },
  {
   "cell_type": "code",
   "execution_count": null,
   "metadata": {},
   "outputs": [],
   "source": [
    "unique_genres = set(\n",
    "    genre.strip() for genres in animes_df[\"Genres\"].dropna() for genre in genres.split(\",\")\n",
    ")\n",
    "\n",
    "unique_genres = sorted(unique_genres)\n",
    "\n",
    "print(unique_genres)  \n",
    "print(f\"Total unique genres: {len(unique_genres)}\")\n"
   ]
  },
  {
   "cell_type": "code",
   "execution_count": null,
   "metadata": {},
   "outputs": [],
   "source": [
    "animes_df = animes_df[~animes_df['Genres'].str.contains('Yaoi|Erotica|Boys Love|Girls Love|Hentai|UNKNOWN', na=False, case=False)]"
   ]
  },
  {
   "cell_type": "code",
   "execution_count": null,
   "metadata": {},
   "outputs": [],
   "source": [
    "unique_genres = set(\n",
    "    genre.strip() for genres in animes_df[\"Genres\"].dropna() for genre in genres.split(\",\")\n",
    ")\n",
    "\n",
    "unique_genres = sorted(unique_genres)\n",
    "\n",
    "print(unique_genres)  \n",
    "print(f\"Total unique genres: {len(unique_genres)}\")"
   ]
  },
  {
   "cell_type": "code",
   "execution_count": null,
   "metadata": {},
   "outputs": [],
   "source": [
    "animes_df.shape"
   ]
  },
  {
   "cell_type": "code",
   "execution_count": null,
   "metadata": {},
   "outputs": [],
   "source": [
    "animes_df"
   ]
  },
  {
   "cell_type": "code",
   "execution_count": null,
   "metadata": {},
   "outputs": [],
   "source": [
    "animes_df = animes_df[animes_df['Members'] > 100]"
   ]
  },
  {
   "cell_type": "code",
   "execution_count": null,
   "metadata": {},
   "outputs": [],
   "source": [
    "animes_df.shape"
   ]
  },
  {
   "cell_type": "code",
   "execution_count": null,
   "metadata": {},
   "outputs": [],
   "source": [
    "animes_df = animes_df[~animes_df['Score'].str.contains('UNKNOWN')]"
   ]
  },
  {
   "cell_type": "code",
   "execution_count": null,
   "metadata": {},
   "outputs": [],
   "source": [
    "animes_df.shape"
   ]
  },
  {
   "cell_type": "code",
   "execution_count": null,
   "metadata": {},
   "outputs": [],
   "source": [
    "animes_df"
   ]
  },
  {
   "cell_type": "code",
   "execution_count": null,
   "metadata": {},
   "outputs": [],
   "source": [
    "unknown_counts = (animes_df == \"UNKNOWN\").sum()\n",
    "print(unknown_counts)\n"
   ]
  },
  {
   "cell_type": "code",
   "execution_count": null,
   "metadata": {},
   "outputs": [],
   "source": [
    "animes_df[animes_df['Rating'] == 'UNKNOWN']"
   ]
  },
  {
   "cell_type": "markdown",
   "metadata": {},
   "source": [
    "#### User ratings"
   ]
  },
  {
   "cell_type": "code",
   "execution_count": null,
   "metadata": {},
   "outputs": [],
   "source": [
    "ratings_df = ratings_df.rename(columns={\"Anime Title\": \"anime_name\"})"
   ]
  },
  {
   "cell_type": "code",
   "execution_count": null,
   "metadata": {},
   "outputs": [],
   "source": [
    "ratings_df.shape"
   ]
  },
  {
   "cell_type": "code",
   "execution_count": null,
   "metadata": {},
   "outputs": [],
   "source": [
    "ratings_df['user_id'].nunique()"
   ]
  },
  {
   "cell_type": "code",
   "execution_count": null,
   "metadata": {},
   "outputs": [],
   "source": [
    "ratings_df.isna().sum()"
   ]
  },
  {
   "cell_type": "code",
   "execution_count": null,
   "metadata": {},
   "outputs": [],
   "source": [
    "test = ratings_df[ratings_df['Username'].isna()]\n",
    "test"
   ]
  },
  {
   "cell_type": "code",
   "execution_count": null,
   "metadata": {},
   "outputs": [],
   "source": [
    "test[test['user_id'] == 20930]"
   ]
  },
  {
   "cell_type": "code",
   "execution_count": null,
   "metadata": {},
   "outputs": [],
   "source": [
    "ratings_df.loc[ratings_df['user_id'] == 20930, 'Username'] = 'KJYit'\n"
   ]
  },
  {
   "cell_type": "code",
   "execution_count": null,
   "metadata": {},
   "outputs": [],
   "source": [
    "ratings_df[ratings_df['user_id'] == 20930]"
   ]
  },
  {
   "cell_type": "code",
   "execution_count": null,
   "metadata": {},
   "outputs": [],
   "source": [
    "ratings_df.isna().sum()"
   ]
  },
  {
   "cell_type": "code",
   "execution_count": null,
   "metadata": {},
   "outputs": [],
   "source": [
    "ratings_df.duplicated().sum()"
   ]
  },
  {
   "cell_type": "code",
   "execution_count": null,
   "metadata": {},
   "outputs": [],
   "source": [
    "ratings_df.shape"
   ]
  },
  {
   "cell_type": "markdown",
   "metadata": {},
   "source": [
    "#### Get rows in ratings where id exist in anime df "
   ]
  },
  {
   "cell_type": "code",
   "execution_count": null,
   "metadata": {},
   "outputs": [],
   "source": [
    "animes_df.shape"
   ]
  },
  {
   "cell_type": "code",
   "execution_count": null,
   "metadata": {},
   "outputs": [],
   "source": [
    "animes_df = animes_df[animes_df['anime_id'].isin(ratings_df['anime_id'])]"
   ]
  },
  {
   "cell_type": "code",
   "execution_count": null,
   "metadata": {},
   "outputs": [],
   "source": [
    "animes_df.shape"
   ]
  },
  {
   "cell_type": "code",
   "execution_count": null,
   "metadata": {},
   "outputs": [],
   "source": [
    "ratings_df.shape"
   ]
  },
  {
   "cell_type": "code",
   "execution_count": null,
   "metadata": {},
   "outputs": [],
   "source": [
    "ratings_df = ratings_df[ratings_df['anime_id'].isin(animes_df['anime_id'])]"
   ]
  },
  {
   "cell_type": "code",
   "execution_count": null,
   "metadata": {},
   "outputs": [],
   "source": [
    "ratings_df.shape"
   ]
  },
  {
   "cell_type": "code",
   "execution_count": null,
   "metadata": {},
   "outputs": [],
   "source": [
    "ratings_df[ratings_df['anime_id'] == 20]"
   ]
  },
  {
   "cell_type": "code",
   "execution_count": null,
   "metadata": {},
   "outputs": [],
   "source": [
    "animes_df[animes_df['anime_id'] == 20]"
   ]
  },
  {
   "cell_type": "code",
   "execution_count": null,
   "metadata": {},
   "outputs": [],
   "source": [
    "# Get the unique anime IDs from animes_df\n",
    "anime_ids = animes_df['anime_id'].unique().tolist()\n",
    "\n",
    "counterTrue = 0\n",
    "counterFalse = 0\n",
    "mismatch_ids = []  # list to store mismatched anime_ids\n",
    "\n",
    "for anime_id in anime_ids:\n",
    "    # Get unique names associated with this anime_id in each DataFrame as sets\n",
    "    names_animes = animes_df[animes_df['anime_id'] == anime_id].Name.unique()[0]\n",
    "    names_ratings = ratings_df[ratings_df['anime_id'] == anime_id].anime_name.unique()[0]\n",
    "    \n",
    "    print(f\"Checking {anime_id}\")\n",
    "\n",
    "    # Check if both sets match\n",
    "    if names_animes == names_ratings:\n",
    "        counterTrue += 1\n",
    "    else:\n",
    "        counterFalse += 1\n",
    "        mismatch_ids.append(anime_id)\n",
    "\n",
    "print(\"Matches (True):\", counterTrue)\n",
    "print(\"Mismatches (False):\", counterFalse)\n",
    "print(\"Mismatch IDs:\", mismatch_ids)\n"
   ]
  },
  {
   "cell_type": "code",
   "execution_count": null,
   "metadata": {},
   "outputs": [],
   "source": [
    "test1 = str(animes_df[animes_df['anime_id'] == 53367].Name)"
   ]
  },
  {
   "cell_type": "code",
   "execution_count": null,
   "metadata": {},
   "outputs": [],
   "source": [
    "test2 = str(ratings_df[ratings_df['anime_id'] == 53367].head(1).anime_name)"
   ]
  },
  {
   "cell_type": "code",
   "execution_count": null,
   "metadata": {},
   "outputs": [],
   "source": [
    "if test1 == test2:\n",
    "    print(\"Yes\")\n",
    "else:\n",
    "    print(\"No\")\n",
    "\n",
    "print(test1)\n",
    "print(test2)"
   ]
  },
  {
   "cell_type": "markdown",
   "metadata": {},
   "source": [
    "### Check if images if available"
   ]
  },
  {
   "cell_type": "code",
   "execution_count": null,
   "metadata": {},
   "outputs": [],
   "source": [
    "import requests\n",
    "\n",
    "# Define the function to check the URL\n",
    "def check_image_url(url):\n",
    "    try:\n",
    "        # Use a HEAD request to avoid downloading the entire image.\n",
    "        response = requests.head(url, timeout=5)\n",
    "        # Check if the response is successful and the Content-Type header indicates an image.\n",
    "        if response.status_code == 200 and 'image' in response.headers.get('Content-Type', ''):\n",
    "            return True\n",
    "        else:\n",
    "            return False\n",
    "    except requests.RequestException:\n",
    "        return False"
   ]
  },
  {
   "cell_type": "code",
   "execution_count": null,
   "metadata": {},
   "outputs": [],
   "source": [
    "# Loop through every row and print the progress and check result\n",
    "results = []\n",
    "for idx, row in animes_df.iterrows():\n",
    "    url = row['Image URL']\n",
    "    result = check_image_url(url)\n",
    "    results.append(result)\n",
    "    print(f\"Row {idx}: Name: {row['Name']}, URL: {url}, Image Good: {result}\")\n",
    "\n",
    "# Add the results as a new column in the sample DataFrame\n",
    "animes_df['Image Good'] = results\n",
    "\n",
    "# Filter to get rows with bad images (where 'Image Good' is False) and print them\n",
    "bad_images_sample = animes_df[~animes_df['Image Good']]\n",
    "print(\"\\nRows with bad image URLs:\")\n",
    "print(bad_images_sample[['Name', 'Image URL']])"
   ]
  },
  {
   "cell_type": "code",
   "execution_count": null,
   "metadata": {},
   "outputs": [],
   "source": [
    "animes_df.loc[animes_df['Name'] == 'Air', 'Image URL'] = 'https://cdn.myanimelist.net/images/anime/1825/146531.jpg'\n",
    "animes_df.loc[animes_df['Name'] == 'Samurai Champloo', 'Image URL'] = 'https://cdn.myanimelist.net/images/anime/1370/135212.jpg'\n",
    "animes_df.loc[animes_df['Name'] == 'Pokemon', 'Image URL'] = 'https://cdn.myanimelist.net/images/anime/1787/140239.jpg'\n",
    "animes_df.loc[animes_df['Name'] == 'Dragon Ball Z', 'Image URL'] = 'https://cdn.myanimelist.net/images/anime/1277/142022.jpg'\n",
    "animes_df.loc[animes_df['Name'] == 'Shin Chou Kyou Ryo: Condor Hero', 'Image URL'] = 'https://cdn.myanimelist.net/images/anime/1698/139204.jpg'\n",
    "animes_df.loc[animes_df['Name'] == 'Kimagure Orange☆Road', 'Image URL'] = 'https://cdn.myanimelist.net/images/anime/1960/142715.jpg'\n",
    "animes_df.loc[animes_df['Name'] == 'Macross Plus Movie Edition', 'Image URL'] = 'https://cdn.myanimelist.net/images/anime/1487/133799.jpg'\n",
    "animes_df.loc[animes_df['Name'] == 'Gall Force: The Revolution', 'Image URL'] = 'https://cdn.myanimelist.net/images/anime/1078/95285.jpg'\n",
    "animes_df.loc[animes_df['Name'] == 'Jibaku-kun', 'Image URL'] = 'https://cdn.myanimelist.net/images/anime/1630/143498.jpg'\n",
    "animes_df.loc[animes_df['Name'] == 'One Piece: Jango no Dance Carnival', 'Image URL'] = 'https://cdn.myanimelist.net/images/anime/1370/135212.jpg'\n",
    "animes_df.loc[animes_df['Name'] == 'Super Kuma-san', 'Image URL'] = 'https://cdn.myanimelist.net/images/anime/1264/146204.jpg'\n",
    "animes_df.loc[animes_df['Name'] == 'Dorami-chan: Wow, The Kid Gang of Bandits', 'Image URL'] = 'https://cdn.myanimelist.net/images/anime/1921/146378.jpg'\n",
    "animes_df.loc[animes_df['Name'] == 'Doraemon Movie 05: Nobita no Makai Daibouken', 'Image URL'] = 'https://cdn.myanimelist.net/images/anime/2/72410.jpg'\n",
    "animes_df.loc[animes_df['Name'] == 'Yondemasu yo, Azazel-san. (TV)', 'Image URL'] = 'https://cdn.myanimelist.net/images/anime/4/75284.jpg'\n",
    "animes_df.loc[animes_df['Name'] == 'Brave 10', 'Image URL'] = 'https://cdn.myanimelist.net/images/anime/1704/143834.jpg'\n",
    "animes_df.loc[animes_df['Name'] == 'Chibi☆Devi!', 'Image URL'] = 'https://cdn.myanimelist.net/images/anime/6/35927.jpg'\n",
    "animes_df.loc[animes_df['Name'] == 'Recorder to Randoseru Do♪', 'Image URL'] = 'https://cdn.myanimelist.net/images/anime/13/33003.jpg'\n",
    "animes_df.loc[animes_df['Name'] == 'Pokemon Best Wishes! Season 2', 'Image URL'] = 'https://cdn.myanimelist.net/images/anime/1904/140254.jpg'\n",
    "animes_df.loc[animes_df['Name'] == 'Kamisama no Inai Nichiyoubi', 'Image URL'] = 'https://cdn.myanimelist.net/images/anime/2/52127.jpg'\n",
    "animes_df.loc[animes_df['Name'] == 'Pokemon Best Wishes! Season 2: Episode N', 'Image URL'] = 'https://cdn.myanimelist.net/images/anime/1922/140256.jpg'\n",
    "animes_df.loc[animes_df['Name'] == 'SoniAni: Super Sonico The Animation', 'Image URL'] = 'https://cdn.myanimelist.net/images/anime/3/56987.jpg'\n",
    "animes_df.loc[animes_df['Name'] == 'Sanzoku no Musume Ronja', 'Image URL'] = 'https://cdn.myanimelist.net/images/anime/11/68125.jpg'\n",
    "animes_df.loc[animes_df['Name'] == 'The iDOLM@STER Cinderella Girls', 'Image URL'] = 'https://cdn.myanimelist.net/images/anime/1345/144832.jpg'\n",
    "animes_df.loc[animes_df['Name'] == 'Yoru no Yatterman', 'Image URL'] = 'https://cdn.myanimelist.net/images/anime/11/71773.jpg'\n",
    "animes_df.loc[animes_df['Name'] == 'Motion Lumine', 'Image URL'] = 'https://cdn.myanimelist.net/images/anime/9/72634.jpg'\n",
    "animes_df.loc[animes_df['Name'] == 'Makura no Danshi', 'Image URL'] = 'https://cdn.myanimelist.net/images/anime/11/75142.jpg'\n",
    "animes_df.loc[animes_df['Name'] == 'ClassicaLoid', 'Image URL'] = 'https://cdn.myanimelist.net/images/anime/2/88678.jpg'\n",
    "animes_df.loc[animes_df['Name'] == 'Sushi Police', 'Image URL'] = 'https://cdn.myanimelist.net/images/anime/13/76236.jpg'\n",
    "animes_df.loc[animes_df['Name'] == 'Active Raid: Kidou Kyoushuushitsu Dai Hachi Gakari', 'Image URL'] = 'https://cdn.myanimelist.net/images/anime/3/77977.jpg'\n",
    "animes_df.loc[animes_df['Name'] == 'Bubuki Buranki', 'Image URL'] = 'https://cdn.myanimelist.net/images/anime/7/79758.jpg'\n",
    "animes_df.loc[animes_df['Name'] == 'Norn9: Norn+Nonet - Unmei no Megami', 'Image URL'] = 'https://cdn.myanimelist.net/images/anime/8/78965.jpg'\n",
    "animes_df.loc[animes_df['Name'] == 'Magic-Kyun! Renaissance', 'Image URL'] = 'https://cdn.myanimelist.net/images/anime/7/80828.jpg'\n",
    "animes_df.loc[animes_df['Name'] == 'Atom: The Beginning', 'Image URL'] = 'https://cdn.myanimelist.net/images/anime/6/86607.jpg'\n",
    "animes_df.loc[animes_df['Name'] == 'Soul Buster', 'Image URL'] = 'https://cdn.myanimelist.net/images/anime/3/82256.jpg'\n",
    "animes_df.loc[animes_df['Name'] == 'Meiji Tokyo Renka', 'Image URL'] = 'https://cdn.myanimelist.net/images/anime/1280/145923.jpg'\n",
    "animes_df.loc[animes_df['Name'] == 'Room Mate', 'Image URL'] = 'https://cdn.myanimelist.net/images/anime/10/85196.jpg'\n",
    "animes_df.loc[animes_df['Name'] == 'Clione no Akari', 'Image URL'] = 'https://cdn.myanimelist.net/images/anime/3/84706.jpg'\n",
    "animes_df.loc[animes_df['Name'] == 'Sengoku Night Blood', 'Image URL'] = 'https://cdn.myanimelist.net/images/anime/4/88329.jpg'\n",
    "animes_df.loc[animes_df['Name'] == 'Shoujo☆Kageki Revue Starlight', 'Image URL'] = 'https://cdn.myanimelist.net/images/anime/1165/93552.jpg'\n",
    "animes_df.loc[animes_df['Name'] == 'Sora to Umi no Aida', 'Image URL'] = 'https://cdn.myanimelist.net/images/anime/1297/97156.jpg'\n",
    "animes_df.loc[animes_df['Name'] == 'RobiHachi', 'Image URL'] = 'https://cdn.myanimelist.net/images/anime/1555/100447.jpg'\n",
    "animes_df.loc[animes_df['Name'] == 'SD Gundam World: Sangoku Souketsuden', 'Image URL'] = 'https://cdn.myanimelist.net/images/anime/1491/102275.jpg'\n",
    "animes_df.loc[animes_df['Name'] == 'Lion meets HachiClo', 'Image URL'] = 'https://cdn.myanimelist.net/images/anime/1565/97675.jpg'\n",
    "animes_df.loc[animes_df['Name'] == 'Beastars', 'Image URL'] = 'https://cdn.myanimelist.net/images/anime/1713/145599.jpg'\n",
    "animes_df.loc[animes_df['Name'] == 'Keishichou Tokumubu Tokushu Kyouakuhan Taisakushitsu Dainanaka: Tokunana OVA', 'Image URL'] = 'https://cdn.myanimelist.net/images/anime/1156/146362.jpg'\n",
    "animes_df.loc[animes_df['Name'] == 'Xue Ying Ling Zhu 2nd Season', 'Image URL'] = 'https://cdn.myanimelist.net/images/anime/1270/138692.jpg'\n",
    "animes_df.loc[animes_df['Name'] == 'Heikousen', 'Image URL'] = 'https://cdn.myanimelist.net/images/anime/1146/142141.jpg'\n",
    "animes_df.loc[animes_df['Name'] == 'Tunshi Xingkong 2nd Season', 'Image URL'] = 'https://cdn.myanimelist.net/images/anime/1558/117008.jpg'\n",
    "animes_df.loc[animes_df['Name'] == 'Voy@ger', 'Image URL'] = 'https://cdn.myanimelist.net/images/anime/1280/142023.jpg'\n",
    "animes_df.loc[animes_df['Name'] == 'Skip to Loafer', 'Image URL'] = 'https://cdn.myanimelist.net/images/anime/1518/138730.jpg'\n",
    "animes_df.loc[animes_df['Name'] == 'Forever Rain', 'Image URL'] = 'https://cdn.myanimelist.net/images/anime/1539/137988.jpg'\n",
    "animes_df.loc[animes_df['Name'] == 'Muv-Luv Alternative 2nd Season', 'Image URL'] = 'https://cdn.myanimelist.net/images/anime/1253/127326.jpg'\n",
    "animes_df.loc[animes_df['Name'] == 'Shen Mu', 'Image URL'] = 'https://cdn.myanimelist.net/images/anime/1965/138663.jpg'\n",
    "animes_df.loc[animes_df['Name'] == 'Romantic Killer', 'Image URL'] = 'https://cdn.myanimelist.net/images/anime/1764/142001.jpg'\n",
    "animes_df.loc[animes_df['Name'] == 'Tom to Jerry (2022)', 'Image URL'] = 'https://cdn.myanimelist.net/images/anime/1653/146834.jpg'"
   ]
  },
  {
   "cell_type": "code",
   "execution_count": null,
   "metadata": {},
   "outputs": [],
   "source": [
    "bad_images_sample[['Name', 'Image URL']]"
   ]
  },
  {
   "cell_type": "code",
   "execution_count": null,
   "metadata": {},
   "outputs": [],
   "source": [
    "bad_images_sample.shape"
   ]
  },
  {
   "cell_type": "code",
   "execution_count": null,
   "metadata": {},
   "outputs": [],
   "source": [
    "# Filter the DataFrame for Samurai Champloo and then check the URL\n",
    "samurai_url_status = animes_df[animes_df['Name'] == 'Air']['Image URL'].apply(check_image_url)\n",
    "print(samurai_url_status)\n"
   ]
  },
  {
   "cell_type": "markdown",
   "metadata": {},
   "source": [
    "### After checking 8 of the ids, it can be concluded that they are actually the same shows, it just that due to symbols that they got flag as different resulting in false negatives"
   ]
  },
  {
   "cell_type": "code",
   "execution_count": null,
   "metadata": {},
   "outputs": [],
   "source": [
    "animes_df.to_parquet('dataset/cleaned_animes.parquet')\n",
    "ratings_df.to_parquet('dataset/cleaned_user_ratings.parquet')"
   ]
  }
 ],
 "metadata": {
  "kernelspec": {
   "display_name": "Python 3",
   "language": "python",
   "name": "python3"
  },
  "language_info": {
   "codemirror_mode": {
    "name": "ipython",
    "version": 3
   },
   "file_extension": ".py",
   "mimetype": "text/x-python",
   "name": "python",
   "nbconvert_exporter": "python",
   "pygments_lexer": "ipython3",
   "version": "3.13.2"
  }
 },
 "nbformat": 4,
 "nbformat_minor": 2
}
