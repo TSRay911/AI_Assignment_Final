{
 "cells": [
  {
   "cell_type": "markdown",
   "metadata": {},
   "source": [
    "## Collaborative Filtering Recommendation System"
   ]
  },
  {
   "cell_type": "markdown",
   "metadata": {},
   "source": [
    "### Download dependencies"
   ]
  },
  {
   "cell_type": "code",
   "execution_count": 14,
   "metadata": {},
   "outputs": [],
   "source": [
    "# pip install numpy"
   ]
  },
  {
   "cell_type": "code",
   "execution_count": 15,
   "metadata": {},
   "outputs": [],
   "source": [
    "# pip install pandas"
   ]
  },
  {
   "cell_type": "code",
   "execution_count": 16,
   "metadata": {},
   "outputs": [],
   "source": [
    "# pip install torch torchvision torchaudio --index-url https://download.pytorch.org/whl/rocm6.2.4"
   ]
  },
  {
   "cell_type": "code",
   "execution_count": 17,
   "metadata": {},
   "outputs": [],
   "source": [
    "# pip install fastparquet"
   ]
  },
  {
   "cell_type": "code",
   "execution_count": 18,
   "metadata": {},
   "outputs": [],
   "source": [
    "# pip install pyarrow"
   ]
  },
  {
   "cell_type": "code",
   "execution_count": 19,
   "metadata": {},
   "outputs": [],
   "source": [
    "# pip install tqdm"
   ]
  },
  {
   "cell_type": "code",
   "execution_count": 20,
   "metadata": {},
   "outputs": [],
   "source": [
    "# pip install scikit-learn"
   ]
  },
  {
   "cell_type": "code",
   "execution_count": 21,
   "metadata": {},
   "outputs": [],
   "source": [
    "# pip install matplotlib"
   ]
  },
  {
   "cell_type": "code",
   "execution_count": 22,
   "metadata": {},
   "outputs": [],
   "source": [
    "import pandas as pd \n",
    "import torch \n",
    "import numpy as np\n",
    "from torch.autograd import Variable\n",
    "from tqdm import tqdm\n"
   ]
  },
  {
   "cell_type": "code",
   "execution_count": 23,
   "metadata": {},
   "outputs": [
    {
     "data": {
      "text/plain": [
       "True"
      ]
     },
     "execution_count": 23,
     "metadata": {},
     "output_type": "execute_result"
    }
   ],
   "source": [
    "torch.cuda.is_available()"
   ]
  },
  {
   "cell_type": "markdown",
   "metadata": {},
   "source": [
    "## Data Visualization"
   ]
  },
  {
   "cell_type": "code",
   "execution_count": 24,
   "metadata": {},
   "outputs": [],
   "source": [
    "animes_df = pd.read_parquet('dataset/cleaned_animes.parquet')\n",
    "ratings_df = pd.read_parquet('dataset/cleaned_user_ratings.parquet')"
   ]
  },
  {
   "cell_type": "code",
   "execution_count": 25,
   "metadata": {},
   "outputs": [
    {
     "name": "stdout",
     "output_type": "stream",
     "text": [
      "<class 'pandas.core.frame.DataFrame'>\n",
      "Index: 13125 entries, 0 to 24831\n",
      "Data columns (total 14 columns):\n",
      " #   Column     Non-Null Count  Dtype \n",
      "---  ------     --------------  ----- \n",
      " 0   anime_id   13125 non-null  int64 \n",
      " 1   Name       13125 non-null  object\n",
      " 2   Score      13125 non-null  object\n",
      " 3   Genres     13125 non-null  object\n",
      " 4   Synopsis   13125 non-null  object\n",
      " 5   Type       13125 non-null  object\n",
      " 6   Aired      13125 non-null  object\n",
      " 7   Premiered  13125 non-null  object\n",
      " 8   Producers  13125 non-null  object\n",
      " 9   Licensors  13125 non-null  object\n",
      " 10  Studios    13125 non-null  object\n",
      " 11  Rating     13125 non-null  object\n",
      " 12  Members    13125 non-null  int64 \n",
      " 13  Image URL  13125 non-null  object\n",
      "dtypes: int64(2), object(12)\n",
      "memory usage: 1.5+ MB\n"
     ]
    }
   ],
   "source": [
    "animes_df.info()"
   ]
  },
  {
   "cell_type": "code",
   "execution_count": 26,
   "metadata": {},
   "outputs": [
    {
     "name": "stdout",
     "output_type": "stream",
     "text": [
      "<class 'pandas.core.frame.DataFrame'>\n",
      "Index: 23981066 entries, 0 to 24325190\n",
      "Data columns (total 5 columns):\n",
      " #   Column      Dtype \n",
      "---  ------      ----- \n",
      " 0   user_id     int64 \n",
      " 1   Username    object\n",
      " 2   anime_id    int64 \n",
      " 3   anime_name  object\n",
      " 4   rating      int64 \n",
      "dtypes: int64(3), object(2)\n",
      "memory usage: 1.1+ GB\n"
     ]
    }
   ],
   "source": [
    "ratings_df.info()"
   ]
  },
  {
   "cell_type": "code",
   "execution_count": 27,
   "metadata": {},
   "outputs": [],
   "source": [
    "ratings_df['rating_id'] = ratings_df.index+1"
   ]
  },
  {
   "cell_type": "code",
   "execution_count": 28,
   "metadata": {},
   "outputs": [
    {
     "name": "stdout",
     "output_type": "stream",
     "text": [
      "<class 'pandas.core.frame.DataFrame'>\n",
      "Index: 23981066 entries, 0 to 24325190\n",
      "Data columns (total 6 columns):\n",
      " #   Column      Dtype \n",
      "---  ------      ----- \n",
      " 0   user_id     int64 \n",
      " 1   Username    object\n",
      " 2   anime_id    int64 \n",
      " 3   anime_name  object\n",
      " 4   rating      int64 \n",
      " 5   rating_id   int64 \n",
      "dtypes: int64(4), object(2)\n",
      "memory usage: 1.3+ GB\n"
     ]
    }
   ],
   "source": [
    "ratings_df.info()"
   ]
  },
  {
   "cell_type": "code",
   "execution_count": 29,
   "metadata": {},
   "outputs": [
    {
     "name": "stdout",
     "output_type": "stream",
     "text": [
      "(13125, 14)\n",
      "(23981066, 6)\n"
     ]
    }
   ],
   "source": [
    "print(animes_df.shape)\n",
    "print(ratings_df.shape)"
   ]
  },
  {
   "cell_type": "code",
   "execution_count": 30,
   "metadata": {},
   "outputs": [
    {
     "data": {
      "text/html": [
       "<div>\n",
       "<style scoped>\n",
       "    .dataframe tbody tr th:only-of-type {\n",
       "        vertical-align: middle;\n",
       "    }\n",
       "\n",
       "    .dataframe tbody tr th {\n",
       "        vertical-align: top;\n",
       "    }\n",
       "\n",
       "    .dataframe thead th {\n",
       "        text-align: right;\n",
       "    }\n",
       "</style>\n",
       "<table border=\"1\" class=\"dataframe\">\n",
       "  <thead>\n",
       "    <tr style=\"text-align: right;\">\n",
       "      <th></th>\n",
       "      <th>anime_id</th>\n",
       "      <th>Name</th>\n",
       "      <th>Score</th>\n",
       "      <th>Genres</th>\n",
       "      <th>Synopsis</th>\n",
       "      <th>Type</th>\n",
       "      <th>Aired</th>\n",
       "      <th>Premiered</th>\n",
       "      <th>Producers</th>\n",
       "      <th>Licensors</th>\n",
       "      <th>Studios</th>\n",
       "      <th>Rating</th>\n",
       "      <th>Members</th>\n",
       "      <th>Image URL</th>\n",
       "    </tr>\n",
       "  </thead>\n",
       "  <tbody>\n",
       "    <tr>\n",
       "      <th>0</th>\n",
       "      <td>1</td>\n",
       "      <td>Cowboy Bebop</td>\n",
       "      <td>8.75</td>\n",
       "      <td>Action, Adventure, Comedy, Drama, Sci-Fi, Space</td>\n",
       "      <td>Crime is timeless. By the year 2071, humanity ...</td>\n",
       "      <td>TV</td>\n",
       "      <td>Apr 3, 1998 to Apr 24, 1999</td>\n",
       "      <td>spring 1998</td>\n",
       "      <td>Bandai Visual</td>\n",
       "      <td>Funimation, Bandai Entertainment</td>\n",
       "      <td>Sunrise</td>\n",
       "      <td>R - 17+ (violence &amp; profanity)</td>\n",
       "      <td>1771505</td>\n",
       "      <td>https://cdn.myanimelist.net/images/anime/4/196...</td>\n",
       "    </tr>\n",
       "    <tr>\n",
       "      <th>1</th>\n",
       "      <td>5</td>\n",
       "      <td>Cowboy Bebop: Tengoku no Tobira</td>\n",
       "      <td>8.38</td>\n",
       "      <td>Action, Drama, Mystery, Sci-Fi, Space</td>\n",
       "      <td>Another day, another bounty—such is the life o...</td>\n",
       "      <td>Movie</td>\n",
       "      <td>Sep 1, 2001</td>\n",
       "      <td>UNKNOWN</td>\n",
       "      <td>Sunrise, Bandai Visual</td>\n",
       "      <td>Sony Pictures Entertainment</td>\n",
       "      <td>Bones</td>\n",
       "      <td>R - 17+ (violence &amp; profanity)</td>\n",
       "      <td>360978</td>\n",
       "      <td>https://cdn.myanimelist.net/images/anime/1439/...</td>\n",
       "    </tr>\n",
       "    <tr>\n",
       "      <th>2</th>\n",
       "      <td>6</td>\n",
       "      <td>Trigun</td>\n",
       "      <td>8.22</td>\n",
       "      <td>Action, Sci-Fi, Adventure, Comedy, Drama, Shounen</td>\n",
       "      <td>Vash the Stampede is the man with a $$60,000,0...</td>\n",
       "      <td>TV</td>\n",
       "      <td>Apr 1, 1998 to Sep 30, 1998</td>\n",
       "      <td>spring 1998</td>\n",
       "      <td>Victor Entertainment</td>\n",
       "      <td>Funimation, Geneon Entertainment USA</td>\n",
       "      <td>Madhouse</td>\n",
       "      <td>PG-13 - Teens 13 or older</td>\n",
       "      <td>727252</td>\n",
       "      <td>https://cdn.myanimelist.net/images/anime/7/203...</td>\n",
       "    </tr>\n",
       "    <tr>\n",
       "      <th>3</th>\n",
       "      <td>7</td>\n",
       "      <td>Witch Hunter Robin</td>\n",
       "      <td>7.25</td>\n",
       "      <td>Action, Mystery, Police, Supernatural, Drama, ...</td>\n",
       "      <td>Robin Sena is a powerful craft user drafted in...</td>\n",
       "      <td>TV</td>\n",
       "      <td>Jul 3, 2002 to Dec 25, 2002</td>\n",
       "      <td>summer 2002</td>\n",
       "      <td>Bandai Visual, Dentsu, Victor Entertainment, T...</td>\n",
       "      <td>Funimation, Bandai Entertainment</td>\n",
       "      <td>Sunrise</td>\n",
       "      <td>PG-13 - Teens 13 or older</td>\n",
       "      <td>111931</td>\n",
       "      <td>https://cdn.myanimelist.net/images/anime/10/19...</td>\n",
       "    </tr>\n",
       "    <tr>\n",
       "      <th>4</th>\n",
       "      <td>8</td>\n",
       "      <td>Bouken Ou Beet</td>\n",
       "      <td>6.94</td>\n",
       "      <td>Adventure, Fantasy, Shounen, Supernatural</td>\n",
       "      <td>It is the dark century and the people are suff...</td>\n",
       "      <td>TV</td>\n",
       "      <td>Sep 30, 2004 to Sep 29, 2005</td>\n",
       "      <td>fall 2004</td>\n",
       "      <td>TV Tokyo, Dentsu</td>\n",
       "      <td>Illumitoon Entertainment</td>\n",
       "      <td>Toei Animation</td>\n",
       "      <td>PG - Children</td>\n",
       "      <td>15001</td>\n",
       "      <td>https://cdn.myanimelist.net/images/anime/7/215...</td>\n",
       "    </tr>\n",
       "  </tbody>\n",
       "</table>\n",
       "</div>"
      ],
      "text/plain": [
       "   anime_id                             Name Score  \\\n",
       "0         1                     Cowboy Bebop  8.75   \n",
       "1         5  Cowboy Bebop: Tengoku no Tobira  8.38   \n",
       "2         6                           Trigun  8.22   \n",
       "3         7               Witch Hunter Robin  7.25   \n",
       "4         8                   Bouken Ou Beet  6.94   \n",
       "\n",
       "                                              Genres  \\\n",
       "0    Action, Adventure, Comedy, Drama, Sci-Fi, Space   \n",
       "1              Action, Drama, Mystery, Sci-Fi, Space   \n",
       "2  Action, Sci-Fi, Adventure, Comedy, Drama, Shounen   \n",
       "3  Action, Mystery, Police, Supernatural, Drama, ...   \n",
       "4          Adventure, Fantasy, Shounen, Supernatural   \n",
       "\n",
       "                                            Synopsis   Type  \\\n",
       "0  Crime is timeless. By the year 2071, humanity ...     TV   \n",
       "1  Another day, another bounty—such is the life o...  Movie   \n",
       "2  Vash the Stampede is the man with a $$60,000,0...     TV   \n",
       "3  Robin Sena is a powerful craft user drafted in...     TV   \n",
       "4  It is the dark century and the people are suff...     TV   \n",
       "\n",
       "                          Aired    Premiered  \\\n",
       "0   Apr 3, 1998 to Apr 24, 1999  spring 1998   \n",
       "1                   Sep 1, 2001      UNKNOWN   \n",
       "2   Apr 1, 1998 to Sep 30, 1998  spring 1998   \n",
       "3   Jul 3, 2002 to Dec 25, 2002  summer 2002   \n",
       "4  Sep 30, 2004 to Sep 29, 2005    fall 2004   \n",
       "\n",
       "                                           Producers  \\\n",
       "0                                      Bandai Visual   \n",
       "1                             Sunrise, Bandai Visual   \n",
       "2                               Victor Entertainment   \n",
       "3  Bandai Visual, Dentsu, Victor Entertainment, T...   \n",
       "4                                   TV Tokyo, Dentsu   \n",
       "\n",
       "                              Licensors         Studios  \\\n",
       "0      Funimation, Bandai Entertainment         Sunrise   \n",
       "1           Sony Pictures Entertainment           Bones   \n",
       "2  Funimation, Geneon Entertainment USA        Madhouse   \n",
       "3      Funimation, Bandai Entertainment         Sunrise   \n",
       "4              Illumitoon Entertainment  Toei Animation   \n",
       "\n",
       "                           Rating  Members  \\\n",
       "0  R - 17+ (violence & profanity)  1771505   \n",
       "1  R - 17+ (violence & profanity)   360978   \n",
       "2       PG-13 - Teens 13 or older   727252   \n",
       "3       PG-13 - Teens 13 or older   111931   \n",
       "4                   PG - Children    15001   \n",
       "\n",
       "                                           Image URL  \n",
       "0  https://cdn.myanimelist.net/images/anime/4/196...  \n",
       "1  https://cdn.myanimelist.net/images/anime/1439/...  \n",
       "2  https://cdn.myanimelist.net/images/anime/7/203...  \n",
       "3  https://cdn.myanimelist.net/images/anime/10/19...  \n",
       "4  https://cdn.myanimelist.net/images/anime/7/215...  "
      ]
     },
     "execution_count": 30,
     "metadata": {},
     "output_type": "execute_result"
    }
   ],
   "source": [
    "animes_df.head()"
   ]
  },
  {
   "cell_type": "code",
   "execution_count": 10,
   "metadata": {},
   "outputs": [
    {
     "data": {
      "text/html": [
       "<div>\n",
       "<style scoped>\n",
       "    .dataframe tbody tr th:only-of-type {\n",
       "        vertical-align: middle;\n",
       "    }\n",
       "\n",
       "    .dataframe tbody tr th {\n",
       "        vertical-align: top;\n",
       "    }\n",
       "\n",
       "    .dataframe thead th {\n",
       "        text-align: right;\n",
       "    }\n",
       "</style>\n",
       "<table border=\"1\" class=\"dataframe\">\n",
       "  <thead>\n",
       "    <tr style=\"text-align: right;\">\n",
       "      <th></th>\n",
       "      <th>user_id</th>\n",
       "      <th>Username</th>\n",
       "      <th>anime_id</th>\n",
       "      <th>anime_name</th>\n",
       "      <th>rating</th>\n",
       "      <th>rating_id</th>\n",
       "    </tr>\n",
       "  </thead>\n",
       "  <tbody>\n",
       "    <tr>\n",
       "      <th>0</th>\n",
       "      <td>1</td>\n",
       "      <td>Xinil</td>\n",
       "      <td>21</td>\n",
       "      <td>One Piece</td>\n",
       "      <td>9</td>\n",
       "      <td>1</td>\n",
       "    </tr>\n",
       "    <tr>\n",
       "      <th>1</th>\n",
       "      <td>1</td>\n",
       "      <td>Xinil</td>\n",
       "      <td>48</td>\n",
       "      <td>.hack//Sign</td>\n",
       "      <td>7</td>\n",
       "      <td>2</td>\n",
       "    </tr>\n",
       "    <tr>\n",
       "      <th>3</th>\n",
       "      <td>1</td>\n",
       "      <td>Xinil</td>\n",
       "      <td>49</td>\n",
       "      <td>Aa! Megami-sama!</td>\n",
       "      <td>8</td>\n",
       "      <td>4</td>\n",
       "    </tr>\n",
       "    <tr>\n",
       "      <th>4</th>\n",
       "      <td>1</td>\n",
       "      <td>Xinil</td>\n",
       "      <td>304</td>\n",
       "      <td>Aa! Megami-sama! Movie</td>\n",
       "      <td>8</td>\n",
       "      <td>5</td>\n",
       "    </tr>\n",
       "    <tr>\n",
       "      <th>5</th>\n",
       "      <td>1</td>\n",
       "      <td>Xinil</td>\n",
       "      <td>306</td>\n",
       "      <td>Abenobashi Mahou☆Shoutengai</td>\n",
       "      <td>8</td>\n",
       "      <td>6</td>\n",
       "    </tr>\n",
       "  </tbody>\n",
       "</table>\n",
       "</div>"
      ],
      "text/plain": [
       "   user_id Username  anime_id                   anime_name  rating  rating_id\n",
       "0        1    Xinil        21                    One Piece       9          1\n",
       "1        1    Xinil        48                  .hack//Sign       7          2\n",
       "3        1    Xinil        49             Aa! Megami-sama!       8          4\n",
       "4        1    Xinil       304       Aa! Megami-sama! Movie       8          5\n",
       "5        1    Xinil       306  Abenobashi Mahou☆Shoutengai       8          6"
      ]
     },
     "execution_count": 10,
     "metadata": {},
     "output_type": "execute_result"
    }
   ],
   "source": [
    "ratings_df.head()"
   ]
  },
  {
   "cell_type": "code",
   "execution_count": 32,
   "metadata": {},
   "outputs": [
    {
     "data": {
      "text/html": [
       "<div>\n",
       "<style scoped>\n",
       "    .dataframe tbody tr th:only-of-type {\n",
       "        vertical-align: middle;\n",
       "    }\n",
       "\n",
       "    .dataframe tbody tr th {\n",
       "        vertical-align: top;\n",
       "    }\n",
       "\n",
       "    .dataframe thead th {\n",
       "        text-align: right;\n",
       "    }\n",
       "</style>\n",
       "<table border=\"1\" class=\"dataframe\">\n",
       "  <thead>\n",
       "    <tr style=\"text-align: right;\">\n",
       "      <th></th>\n",
       "      <th>anime_id</th>\n",
       "      <th>Name</th>\n",
       "      <th>Score</th>\n",
       "      <th>Genres</th>\n",
       "      <th>Synopsis</th>\n",
       "      <th>Type</th>\n",
       "      <th>Aired</th>\n",
       "      <th>Premiered</th>\n",
       "      <th>Producers</th>\n",
       "      <th>Licensors</th>\n",
       "      <th>Studios</th>\n",
       "      <th>Rating</th>\n",
       "      <th>Members</th>\n",
       "      <th>Image URL</th>\n",
       "    </tr>\n",
       "  </thead>\n",
       "  <tbody>\n",
       "    <tr>\n",
       "      <th>75</th>\n",
       "      <td>96</td>\n",
       "      <td>Kidou Butouden G Gundam</td>\n",
       "      <td>7.57</td>\n",
       "      <td>Adventure, Comedy, Drama, Martial Arts, Mecha,...</td>\n",
       "      <td>In the year Future Century 0060, the many coun...</td>\n",
       "      <td>TV</td>\n",
       "      <td>Apr 1, 1994 to Mar 31, 1995</td>\n",
       "      <td>spring 1994</td>\n",
       "      <td>TV Asahi, Sotsu</td>\n",
       "      <td>Bandai Entertainment</td>\n",
       "      <td>Sunrise</td>\n",
       "      <td>PG-13 - Teens 13 or older</td>\n",
       "      <td>66828</td>\n",
       "      <td>https://cdn.myanimelist.net/images/anime/1187/...</td>\n",
       "    </tr>\n",
       "  </tbody>\n",
       "</table>\n",
       "</div>"
      ],
      "text/plain": [
       "    anime_id                     Name Score  \\\n",
       "75        96  Kidou Butouden G Gundam  7.57   \n",
       "\n",
       "                                               Genres  \\\n",
       "75  Adventure, Comedy, Drama, Martial Arts, Mecha,...   \n",
       "\n",
       "                                             Synopsis Type  \\\n",
       "75  In the year Future Century 0060, the many coun...   TV   \n",
       "\n",
       "                          Aired    Premiered        Producers  \\\n",
       "75  Apr 1, 1994 to Mar 31, 1995  spring 1994  TV Asahi, Sotsu   \n",
       "\n",
       "               Licensors  Studios                     Rating  Members  \\\n",
       "75  Bandai Entertainment  Sunrise  PG-13 - Teens 13 or older    66828   \n",
       "\n",
       "                                            Image URL  \n",
       "75  https://cdn.myanimelist.net/images/anime/1187/...  "
      ]
     },
     "execution_count": 32,
     "metadata": {},
     "output_type": "execute_result"
    }
   ],
   "source": [
    "animes_df[animes_df['anime_id'] == 96]"
   ]
  },
  {
   "cell_type": "code",
   "execution_count": 33,
   "metadata": {},
   "outputs": [
    {
     "data": {
      "text/html": [
       "<div>\n",
       "<style scoped>\n",
       "    .dataframe tbody tr th:only-of-type {\n",
       "        vertical-align: middle;\n",
       "    }\n",
       "\n",
       "    .dataframe tbody tr th {\n",
       "        vertical-align: top;\n",
       "    }\n",
       "\n",
       "    .dataframe thead th {\n",
       "        text-align: right;\n",
       "    }\n",
       "</style>\n",
       "<table border=\"1\" class=\"dataframe\">\n",
       "  <thead>\n",
       "    <tr style=\"text-align: right;\">\n",
       "      <th></th>\n",
       "      <th>anime_id</th>\n",
       "      <th>Name</th>\n",
       "      <th>Score</th>\n",
       "      <th>Genres</th>\n",
       "      <th>Synopsis</th>\n",
       "      <th>Type</th>\n",
       "      <th>Aired</th>\n",
       "      <th>Premiered</th>\n",
       "      <th>Producers</th>\n",
       "      <th>Licensors</th>\n",
       "      <th>Studios</th>\n",
       "      <th>Rating</th>\n",
       "      <th>Members</th>\n",
       "      <th>Image URL</th>\n",
       "    </tr>\n",
       "  </thead>\n",
       "  <tbody>\n",
       "    <tr>\n",
       "      <th>125</th>\n",
       "      <td>147</td>\n",
       "      <td>Kimi ga Nozomu Eien</td>\n",
       "      <td>7.18</td>\n",
       "      <td>Drama, Romance, Slice of Life</td>\n",
       "      <td>In the warmth of a golden sun, timid high scho...</td>\n",
       "      <td>TV</td>\n",
       "      <td>Oct 5, 2003 to Jan 4, 2004</td>\n",
       "      <td>fall 2003</td>\n",
       "      <td>Lantis, Media Factory, Age</td>\n",
       "      <td>Funimation</td>\n",
       "      <td>Studio Fantasia</td>\n",
       "      <td>R+ - Mild Nudity</td>\n",
       "      <td>139156</td>\n",
       "      <td>https://cdn.myanimelist.net/images/anime/5/102...</td>\n",
       "    </tr>\n",
       "  </tbody>\n",
       "</table>\n",
       "</div>"
      ],
      "text/plain": [
       "     anime_id                 Name Score                         Genres  \\\n",
       "125       147  Kimi ga Nozomu Eien  7.18  Drama, Romance, Slice of Life   \n",
       "\n",
       "                                              Synopsis Type  \\\n",
       "125  In the warmth of a golden sun, timid high scho...   TV   \n",
       "\n",
       "                          Aired  Premiered                   Producers  \\\n",
       "125  Oct 5, 2003 to Jan 4, 2004  fall 2003  Lantis, Media Factory, Age   \n",
       "\n",
       "      Licensors          Studios            Rating  Members  \\\n",
       "125  Funimation  Studio Fantasia  R+ - Mild Nudity   139156   \n",
       "\n",
       "                                             Image URL  \n",
       "125  https://cdn.myanimelist.net/images/anime/5/102...  "
      ]
     },
     "execution_count": 33,
     "metadata": {},
     "output_type": "execute_result"
    }
   ],
   "source": [
    "animes_df[animes_df['Name'] == 'Kimi ga Nozomu Eien']"
   ]
  },
  {
   "cell_type": "code",
   "execution_count": 34,
   "metadata": {},
   "outputs": [
    {
     "name": "stdout",
     "output_type": "stream",
     "text": [
      "Number of unique users : 268664\n",
      "Number of unique animes : 13125\n",
      "Number of ratings : 23981066\n"
     ]
    }
   ],
   "source": [
    "anime_names = animes_df.set_index('anime_id')['Name'].to_dict()\n",
    "n_users = len(ratings_df.user_id.unique())\n",
    "n_items = len(ratings_df.anime_id.unique())\n",
    "\n",
    "print(f\"Number of unique users : {n_users}\")\n",
    "print(f\"Number of unique animes : {n_items}\")\n",
    "print(f\"Number of ratings : {len(ratings_df)}\")"
   ]
  },
  {
   "cell_type": "code",
   "execution_count": 35,
   "metadata": {},
   "outputs": [],
   "source": [
    "class MatrixFactorization(torch.nn.Module):\n",
    "    def __init__(self, n_users, n_items, n_factors=20):\n",
    "        super().__init__()\n",
    "\n",
    "        self.user_factors = torch.nn.Embedding(n_users,n_factors)\n",
    "        self.item_factors = torch.nn.Embedding(n_items,n_factors)\n",
    "\n",
    "        self.user_factors.weight.data.uniform_(0,0.05)\n",
    "        self.item_factors.weight.data.uniform_(0,0.05)\n",
    "\n",
    "    def forward(self,data):\n",
    "        users, items = data[:,0],data[:,1]\n",
    "        return (self.user_factors(users) * self.item_factors(items)).sum(1)\n",
    "    \n",
    "    def predict(self,user,item):\n",
    "        return self.forward(user,item)"
   ]
  },
  {
   "cell_type": "code",
   "execution_count": 36,
   "metadata": {},
   "outputs": [],
   "source": [
    "from torch.utils.data.dataset import Dataset\n",
    "from torch.utils.data import DataLoader\n",
    "\n",
    "class Loader(Dataset):\n",
    "    def __init__(self):\n",
    "        self.ratings = ratings_df.copy()\n",
    "\n",
    "        users = ratings_df['user_id'].unique()\n",
    "        animes = ratings_df['anime_id'].unique()\n",
    "\n",
    "        self.userid2idx = {o:i for i,o in enumerate(users)}\n",
    "        self.animeid2idx = {o:i for i,o in enumerate(animes)}\n",
    "\n",
    "        self.idx2userid = {i:o for o,i in self.userid2idx.items()}\n",
    "        self.idx2uanimeid = {i:o for o,i in self.animeid2idx.items()}\n",
    "\n",
    "        self.ratings.anime_id = ratings_df.anime_id.apply(lambda x: self.animeid2idx[x])\n",
    "        self.ratings.user_id = ratings_df.user_id.apply(lambda x: self.userid2idx[x])\n",
    "\n",
    "        self.x = self.ratings.drop(['rating','rating_id','Username','anime_name'],axis=1).values\n",
    "        self.y = self.ratings['rating'].values\n",
    "        \n",
    "        self.x, self.y = torch.tensor(self.x), torch.tensor(self.y)\n",
    "\n",
    "    def __getitem__(self, index):\n",
    "        return (self.x[index], self.y[index])\n",
    "    \n",
    "    def __len__(self):\n",
    "        return len(self.ratings)\n",
    "        "
   ]
  },
  {
   "cell_type": "code",
   "execution_count": 37,
   "metadata": {},
   "outputs": [
    {
     "name": "stdout",
     "output_type": "stream",
     "text": [
      "Running on GPU : True\n",
      "MatrixFactorization(\n",
      "  (user_factors): Embedding(268664, 32)\n",
      "  (item_factors): Embedding(13125, 32)\n",
      ")\n",
      "user_factors.weight tensor([[0.0464, 0.0361, 0.0138,  ..., 0.0007, 0.0343, 0.0392],\n",
      "        [0.0298, 0.0447, 0.0408,  ..., 0.0342, 0.0213, 0.0161],\n",
      "        [0.0366, 0.0265, 0.0005,  ..., 0.0132, 0.0256, 0.0379],\n",
      "        ...,\n",
      "        [0.0303, 0.0408, 0.0176,  ..., 0.0167, 0.0047, 0.0135],\n",
      "        [0.0476, 0.0383, 0.0243,  ..., 0.0182, 0.0155, 0.0010],\n",
      "        [0.0250, 0.0201, 0.0355,  ..., 0.0421, 0.0075, 0.0323]])\n",
      "item_factors.weight tensor([[0.0433, 0.0090, 0.0470,  ..., 0.0179, 0.0105, 0.0190],\n",
      "        [0.0017, 0.0459, 0.0346,  ..., 0.0279, 0.0221, 0.0406],\n",
      "        [0.0447, 0.0396, 0.0035,  ..., 0.0278, 0.0437, 0.0070],\n",
      "        ...,\n",
      "        [0.0185, 0.0089, 0.0342,  ..., 0.0011, 0.0361, 0.0178],\n",
      "        [0.0257, 0.0119, 0.0369,  ..., 0.0105, 0.0344, 0.0048],\n",
      "        [0.0262, 0.0053, 0.0338,  ..., 0.0330, 0.0182, 0.0287]])\n"
     ]
    }
   ],
   "source": [
    "num_epochs = 20\n",
    "cuda = torch.cuda.is_available()\n",
    "\n",
    "print(f\"Running on GPU : {cuda}\")\n",
    "\n",
    "model = MatrixFactorization(n_users, n_items, n_factors=32)\n",
    "print(model)\n",
    "\n",
    "for name, param in model.named_parameters():\n",
    "    if param.requires_grad:\n",
    "        print(name, param.data)\n",
    "\n",
    "if cuda:\n",
    "    model = model.cuda()\n",
    "\n",
    "loss_fn = torch.nn.MSELoss()\n",
    "\n",
    "optimizer = torch.optim.Adam(model.parameters(), lr=5e-4, weight_decay=1e-6)\n",
    "\n",
    "scheduler = torch.optim.lr_scheduler.ReduceLROnPlateau(optimizer, mode='min', factor=0.1, patience=5)\n",
    "\n",
    "train_set = Loader()\n",
    "train_loader = DataLoader(train_set,4096,shuffle=True)"
   ]
  },
  {
   "cell_type": "code",
   "execution_count": 38,
   "metadata": {},
   "outputs": [
    {
     "name": "stderr",
     "output_type": "stream",
     "text": [
      "  5%|▌         | 1/20 [02:32<48:13, 152.31s/it]"
     ]
    },
    {
     "name": "stdout",
     "output_type": "stream",
     "text": [
      "Iter #1, Loss : 15.622827847242151\n"
     ]
    },
    {
     "name": "stderr",
     "output_type": "stream",
     "text": [
      " 10%|█         | 2/20 [05:01<45:05, 150.29s/it]"
     ]
    },
    {
     "name": "stdout",
     "output_type": "stream",
     "text": [
      "Iter #2, Loss : 2.483001856779462\n"
     ]
    },
    {
     "name": "stderr",
     "output_type": "stream",
     "text": [
      " 15%|█▌        | 3/20 [07:29<42:20, 149.41s/it]"
     ]
    },
    {
     "name": "stdout",
     "output_type": "stream",
     "text": [
      "Iter #3, Loss : 2.0159573996606595\n"
     ]
    },
    {
     "name": "stderr",
     "output_type": "stream",
     "text": [
      " 20%|██        | 4/20 [09:58<39:47, 149.24s/it]"
     ]
    },
    {
     "name": "stdout",
     "output_type": "stream",
     "text": [
      "Iter #4, Loss : 1.8957752140844917\n"
     ]
    },
    {
     "name": "stderr",
     "output_type": "stream",
     "text": [
      " 25%|██▌       | 5/20 [12:27<37:16, 149.11s/it]"
     ]
    },
    {
     "name": "stdout",
     "output_type": "stream",
     "text": [
      "Iter #5, Loss : 1.8495046800675299\n"
     ]
    },
    {
     "name": "stderr",
     "output_type": "stream",
     "text": [
      " 30%|███       | 6/20 [14:56<34:49, 149.24s/it]"
     ]
    },
    {
     "name": "stdout",
     "output_type": "stream",
     "text": [
      "Iter #6, Loss : 1.8281146791834388\n"
     ]
    },
    {
     "name": "stderr",
     "output_type": "stream",
     "text": [
      " 35%|███▌      | 7/20 [17:26<32:21, 149.36s/it]"
     ]
    },
    {
     "name": "stdout",
     "output_type": "stream",
     "text": [
      "Iter #7, Loss : 1.8166555137536549\n"
     ]
    },
    {
     "name": "stderr",
     "output_type": "stream",
     "text": [
      " 40%|████      | 8/20 [19:55<29:51, 149.33s/it]"
     ]
    },
    {
     "name": "stdout",
     "output_type": "stream",
     "text": [
      "Iter #8, Loss : 1.8082977759135674\n"
     ]
    },
    {
     "name": "stderr",
     "output_type": "stream",
     "text": [
      " 45%|████▌     | 9/20 [22:25<27:22, 149.34s/it]"
     ]
    },
    {
     "name": "stdout",
     "output_type": "stream",
     "text": [
      "Iter #9, Loss : 1.7955563747404377\n"
     ]
    },
    {
     "name": "stderr",
     "output_type": "stream",
     "text": [
      " 50%|█████     | 10/20 [24:54<24:53, 149.34s/it]"
     ]
    },
    {
     "name": "stdout",
     "output_type": "stream",
     "text": [
      "Iter #10, Loss : 1.7664356027476102\n"
     ]
    },
    {
     "name": "stderr",
     "output_type": "stream",
     "text": [
      " 55%|█████▌    | 11/20 [27:24<22:25, 149.45s/it]"
     ]
    },
    {
     "name": "stdout",
     "output_type": "stream",
     "text": [
      "Iter #11, Loss : 1.721690278069572\n"
     ]
    },
    {
     "name": "stderr",
     "output_type": "stream",
     "text": [
      " 60%|██████    | 12/20 [29:53<19:55, 149.38s/it]"
     ]
    },
    {
     "name": "stdout",
     "output_type": "stream",
     "text": [
      "Iter #12, Loss : 1.680464883017601\n"
     ]
    },
    {
     "name": "stderr",
     "output_type": "stream",
     "text": [
      " 65%|██████▌   | 13/20 [32:22<17:25, 149.42s/it]"
     ]
    },
    {
     "name": "stdout",
     "output_type": "stream",
     "text": [
      "Iter #13, Loss : 1.6424476332790723\n"
     ]
    },
    {
     "name": "stderr",
     "output_type": "stream",
     "text": [
      " 70%|███████   | 14/20 [34:52<14:57, 149.56s/it]"
     ]
    },
    {
     "name": "stdout",
     "output_type": "stream",
     "text": [
      "Iter #14, Loss : 1.6037013387802215\n"
     ]
    },
    {
     "name": "stderr",
     "output_type": "stream",
     "text": [
      " 75%|███████▌  | 15/20 [37:22<12:28, 149.69s/it]"
     ]
    },
    {
     "name": "stdout",
     "output_type": "stream",
     "text": [
      "Iter #15, Loss : 1.5624408044945368\n"
     ]
    },
    {
     "name": "stderr",
     "output_type": "stream",
     "text": [
      " 80%|████████  | 16/20 [39:52<09:59, 149.79s/it]"
     ]
    },
    {
     "name": "stdout",
     "output_type": "stream",
     "text": [
      "Iter #16, Loss : 1.517445099567573\n"
     ]
    },
    {
     "name": "stderr",
     "output_type": "stream",
     "text": [
      " 85%|████████▌ | 17/20 [42:23<07:30, 150.10s/it]"
     ]
    },
    {
     "name": "stdout",
     "output_type": "stream",
     "text": [
      "Iter #17, Loss : 1.4698548910864186\n"
     ]
    },
    {
     "name": "stderr",
     "output_type": "stream",
     "text": [
      " 90%|█████████ | 18/20 [44:52<04:59, 149.83s/it]"
     ]
    },
    {
     "name": "stdout",
     "output_type": "stream",
     "text": [
      "Iter #18, Loss : 1.4226704241983104\n"
     ]
    },
    {
     "name": "stderr",
     "output_type": "stream",
     "text": [
      " 95%|█████████▌| 19/20 [47:21<02:29, 149.48s/it]"
     ]
    },
    {
     "name": "stdout",
     "output_type": "stream",
     "text": [
      "Iter #19, Loss : 1.3789727463262087\n"
     ]
    },
    {
     "name": "stderr",
     "output_type": "stream",
     "text": [
      "100%|██████████| 20/20 [49:50<00:00, 149.52s/it]"
     ]
    },
    {
     "name": "stdout",
     "output_type": "stream",
     "text": [
      "Iter #20, Loss : 1.33990751740059\n"
     ]
    },
    {
     "name": "stderr",
     "output_type": "stream",
     "text": [
      "\n"
     ]
    }
   ],
   "source": [
    "for it in tqdm(range(num_epochs)):\n",
    "    losses = []\n",
    "    for x,y in train_loader:\n",
    "        if cuda:\n",
    "            x,y = x.cuda(), y.cuda()\n",
    "            optimizer.zero_grad()\n",
    "            outputs = model(x)\n",
    "            loss = loss_fn(outputs.squeeze(), y.type(torch.float32))\n",
    "            losses.append(loss.item())\n",
    "            loss.backward()\n",
    "            optimizer.step()\n",
    "\n",
    "    avg_loss = sum(losses) / len(losses)\n",
    "    scheduler.step(avg_loss)\n",
    "    print(f\"Iter #{it+1}, Loss : {avg_loss}\")"
   ]
  },
  {
   "cell_type": "code",
   "execution_count": 39,
   "metadata": {},
   "outputs": [
    {
     "name": "stderr",
     "output_type": "stream",
     "text": [
      "  5%|▌         | 1/20 [02:28<47:03, 148.59s/it]"
     ]
    },
    {
     "name": "stdout",
     "output_type": "stream",
     "text": [
      "Iter #21, Loss : 1.3057929388179828\n"
     ]
    },
    {
     "name": "stderr",
     "output_type": "stream",
     "text": [
      " 10%|█         | 2/20 [04:57<44:34, 148.58s/it]"
     ]
    },
    {
     "name": "stdout",
     "output_type": "stream",
     "text": [
      "Iter #22, Loss : 1.2766231017475145\n"
     ]
    },
    {
     "name": "stderr",
     "output_type": "stream",
     "text": [
      " 15%|█▌        | 3/20 [07:27<42:21, 149.50s/it]"
     ]
    },
    {
     "name": "stdout",
     "output_type": "stream",
     "text": [
      "Iter #23, Loss : 1.251659235498215\n"
     ]
    },
    {
     "name": "stderr",
     "output_type": "stream",
     "text": [
      " 20%|██        | 4/20 [10:03<40:32, 152.05s/it]"
     ]
    },
    {
     "name": "stdout",
     "output_type": "stream",
     "text": [
      "Iter #24, Loss : 1.2309252347221342\n"
     ]
    },
    {
     "name": "stderr",
     "output_type": "stream",
     "text": [
      " 25%|██▌       | 5/20 [12:41<38:29, 153.99s/it]"
     ]
    },
    {
     "name": "stdout",
     "output_type": "stream",
     "text": [
      "Iter #25, Loss : 1.2134512649449805\n"
     ]
    },
    {
     "name": "stderr",
     "output_type": "stream",
     "text": [
      " 30%|███       | 6/20 [15:14<35:51, 153.68s/it]"
     ]
    },
    {
     "name": "stdout",
     "output_type": "stream",
     "text": [
      "Iter #26, Loss : 1.198656538854187\n"
     ]
    },
    {
     "name": "stderr",
     "output_type": "stream",
     "text": [
      " 35%|███▌      | 7/20 [17:46<33:12, 153.26s/it]"
     ]
    },
    {
     "name": "stdout",
     "output_type": "stream",
     "text": [
      "Iter #27, Loss : 1.1860273339420582\n"
     ]
    },
    {
     "name": "stderr",
     "output_type": "stream",
     "text": [
      " 40%|████      | 8/20 [20:21<30:44, 153.69s/it]"
     ]
    },
    {
     "name": "stdout",
     "output_type": "stream",
     "text": [
      "Iter #28, Loss : 1.1752230463936022\n"
     ]
    },
    {
     "name": "stderr",
     "output_type": "stream",
     "text": [
      " 45%|████▌     | 9/20 [22:55<28:12, 153.88s/it]"
     ]
    },
    {
     "name": "stdout",
     "output_type": "stream",
     "text": [
      "Iter #29, Loss : 1.1655601747620319\n"
     ]
    },
    {
     "name": "stderr",
     "output_type": "stream",
     "text": [
      " 50%|█████     | 10/20 [25:25<25:27, 152.76s/it]"
     ]
    },
    {
     "name": "stdout",
     "output_type": "stream",
     "text": [
      "Iter #30, Loss : 1.1572412018690428\n"
     ]
    },
    {
     "name": "stderr",
     "output_type": "stream",
     "text": [
      " 55%|█████▌    | 11/20 [27:54<22:43, 151.49s/it]"
     ]
    },
    {
     "name": "stdout",
     "output_type": "stream",
     "text": [
      "Iter #31, Loss : 1.1496940833905331\n"
     ]
    },
    {
     "name": "stderr",
     "output_type": "stream",
     "text": [
      " 60%|██████    | 12/20 [30:23<20:05, 150.68s/it]"
     ]
    },
    {
     "name": "stdout",
     "output_type": "stream",
     "text": [
      "Iter #32, Loss : 1.1434846066492017\n"
     ]
    },
    {
     "name": "stderr",
     "output_type": "stream",
     "text": [
      " 65%|██████▌   | 13/20 [32:52<17:31, 150.21s/it]"
     ]
    },
    {
     "name": "stdout",
     "output_type": "stream",
     "text": [
      "Iter #33, Loss : 1.1377841862830007\n"
     ]
    },
    {
     "name": "stderr",
     "output_type": "stream",
     "text": [
      " 70%|███████   | 14/20 [35:21<14:59, 149.85s/it]"
     ]
    },
    {
     "name": "stdout",
     "output_type": "stream",
     "text": [
      "Iter #34, Loss : 1.1327513592147502\n"
     ]
    },
    {
     "name": "stderr",
     "output_type": "stream",
     "text": [
      " 75%|███████▌  | 15/20 [37:50<12:28, 149.61s/it]"
     ]
    },
    {
     "name": "stdout",
     "output_type": "stream",
     "text": [
      "Iter #35, Loss : 1.127906793147249\n"
     ]
    },
    {
     "name": "stderr",
     "output_type": "stream",
     "text": [
      " 80%|████████  | 16/20 [40:20<09:58, 149.68s/it]"
     ]
    },
    {
     "name": "stdout",
     "output_type": "stream",
     "text": [
      "Iter #36, Loss : 1.123495784109215\n"
     ]
    },
    {
     "name": "stderr",
     "output_type": "stream",
     "text": [
      " 85%|████████▌ | 17/20 [42:55<07:34, 151.37s/it]"
     ]
    },
    {
     "name": "stdout",
     "output_type": "stream",
     "text": [
      "Iter #37, Loss : 1.1198603101411913\n"
     ]
    },
    {
     "name": "stderr",
     "output_type": "stream",
     "text": [
      " 90%|█████████ | 18/20 [45:27<05:03, 151.59s/it]"
     ]
    },
    {
     "name": "stdout",
     "output_type": "stream",
     "text": [
      "Iter #38, Loss : 1.1166430100938585\n"
     ]
    },
    {
     "name": "stderr",
     "output_type": "stream",
     "text": [
      " 95%|█████████▌| 19/20 [48:01<02:32, 152.18s/it]"
     ]
    },
    {
     "name": "stdout",
     "output_type": "stream",
     "text": [
      "Iter #39, Loss : 1.1134951381679277\n"
     ]
    },
    {
     "name": "stderr",
     "output_type": "stream",
     "text": [
      "100%|██████████| 20/20 [50:35<00:00, 151.79s/it]"
     ]
    },
    {
     "name": "stdout",
     "output_type": "stream",
     "text": [
      "Iter #40, Loss : 1.1104879806736003\n"
     ]
    },
    {
     "name": "stderr",
     "output_type": "stream",
     "text": [
      "\n"
     ]
    }
   ],
   "source": [
    "for it in tqdm(range(20)):\n",
    "    losses = []\n",
    "    for x,y in train_loader:\n",
    "        if cuda:\n",
    "            x,y = x.cuda(), y.cuda()\n",
    "            optimizer.zero_grad()\n",
    "            outputs = model(x)\n",
    "            loss = loss_fn(outputs.squeeze(), y.type(torch.float32))\n",
    "            losses.append(loss.item())\n",
    "            loss.backward()\n",
    "            optimizer.step()\n",
    "\n",
    "    avg_loss = sum(losses) / len(losses)\n",
    "    scheduler.step(avg_loss)\n",
    "    print(f\"Iter #{it+21}, Loss : {avg_loss}\")"
   ]
  },
  {
   "cell_type": "code",
   "execution_count": 49,
   "metadata": {},
   "outputs": [
    {
     "name": "stderr",
     "output_type": "stream",
     "text": [
      "  5%|▌         | 1/20 [02:28<46:58, 148.36s/it]"
     ]
    },
    {
     "name": "stdout",
     "output_type": "stream",
     "text": [
      "Iter #41, Loss : 1.1077054952679284\n"
     ]
    },
    {
     "name": "stderr",
     "output_type": "stream",
     "text": [
      " 10%|█         | 2/20 [04:56<44:25, 148.08s/it]"
     ]
    },
    {
     "name": "stdout",
     "output_type": "stream",
     "text": [
      "Iter #42, Loss : 1.1053289094610566\n"
     ]
    },
    {
     "name": "stderr",
     "output_type": "stream",
     "text": [
      " 15%|█▌        | 3/20 [07:24<42:02, 148.38s/it]"
     ]
    },
    {
     "name": "stdout",
     "output_type": "stream",
     "text": [
      "Iter #43, Loss : 1.103008494440253\n"
     ]
    },
    {
     "name": "stderr",
     "output_type": "stream",
     "text": [
      " 20%|██        | 4/20 [09:54<39:44, 149.01s/it]"
     ]
    },
    {
     "name": "stdout",
     "output_type": "stream",
     "text": [
      "Iter #44, Loss : 1.1007890982061854\n"
     ]
    },
    {
     "name": "stderr",
     "output_type": "stream",
     "text": [
      " 25%|██▌       | 5/20 [12:22<37:05, 148.36s/it]"
     ]
    },
    {
     "name": "stdout",
     "output_type": "stream",
     "text": [
      "Iter #45, Loss : 1.0988143692456382\n"
     ]
    },
    {
     "name": "stderr",
     "output_type": "stream",
     "text": [
      " 30%|███       | 6/20 [14:47<34:23, 147.36s/it]"
     ]
    },
    {
     "name": "stdout",
     "output_type": "stream",
     "text": [
      "Iter #46, Loss : 1.0967622759401239\n"
     ]
    },
    {
     "name": "stderr",
     "output_type": "stream",
     "text": [
      " 35%|███▌      | 7/20 [17:14<31:54, 147.27s/it]"
     ]
    },
    {
     "name": "stdout",
     "output_type": "stream",
     "text": [
      "Iter #47, Loss : 1.0950594542883687\n"
     ]
    },
    {
     "name": "stderr",
     "output_type": "stream",
     "text": [
      " 40%|████      | 8/20 [19:41<29:26, 147.21s/it]"
     ]
    },
    {
     "name": "stdout",
     "output_type": "stream",
     "text": [
      "Iter #48, Loss : 1.0935577748678975\n"
     ]
    },
    {
     "name": "stderr",
     "output_type": "stream",
     "text": [
      " 45%|████▌     | 9/20 [22:06<26:50, 146.45s/it]"
     ]
    },
    {
     "name": "stdout",
     "output_type": "stream",
     "text": [
      "Iter #49, Loss : 1.091987777743759\n"
     ]
    },
    {
     "name": "stderr",
     "output_type": "stream",
     "text": [
      " 50%|█████     | 10/20 [24:29<24:15, 145.52s/it]"
     ]
    },
    {
     "name": "stdout",
     "output_type": "stream",
     "text": [
      "Iter #50, Loss : 1.0906610805289956\n"
     ]
    },
    {
     "name": "stderr",
     "output_type": "stream",
     "text": [
      " 55%|█████▌    | 11/20 [26:53<21:44, 144.96s/it]"
     ]
    },
    {
     "name": "stdout",
     "output_type": "stream",
     "text": [
      "Iter #51, Loss : 1.0890864306286194\n"
     ]
    },
    {
     "name": "stderr",
     "output_type": "stream",
     "text": [
      " 60%|██████    | 12/20 [29:18<19:18, 144.87s/it]"
     ]
    },
    {
     "name": "stdout",
     "output_type": "stream",
     "text": [
      "Iter #52, Loss : 1.0879992343949825\n"
     ]
    },
    {
     "name": "stderr",
     "output_type": "stream",
     "text": [
      " 65%|██████▌   | 13/20 [31:43<16:55, 145.10s/it]"
     ]
    },
    {
     "name": "stdout",
     "output_type": "stream",
     "text": [
      "Iter #53, Loss : 1.0868018284809071\n"
     ]
    },
    {
     "name": "stderr",
     "output_type": "stream",
     "text": [
      " 70%|███████   | 14/20 [34:07<14:27, 144.57s/it]"
     ]
    },
    {
     "name": "stdout",
     "output_type": "stream",
     "text": [
      "Iter #54, Loss : 1.0854599954021171\n"
     ]
    },
    {
     "name": "stderr",
     "output_type": "stream",
     "text": [
      " 75%|███████▌  | 15/20 [36:30<12:00, 144.19s/it]"
     ]
    },
    {
     "name": "stdout",
     "output_type": "stream",
     "text": [
      "Iter #55, Loss : 1.0841593317655698\n"
     ]
    },
    {
     "name": "stderr",
     "output_type": "stream",
     "text": [
      " 80%|████████  | 16/20 [38:53<09:35, 143.84s/it]"
     ]
    },
    {
     "name": "stdout",
     "output_type": "stream",
     "text": [
      "Iter #56, Loss : 1.0833828399977452\n"
     ]
    },
    {
     "name": "stderr",
     "output_type": "stream",
     "text": [
      " 85%|████████▌ | 17/20 [41:16<07:11, 143.70s/it]"
     ]
    },
    {
     "name": "stdout",
     "output_type": "stream",
     "text": [
      "Iter #57, Loss : 1.082568946076091\n"
     ]
    },
    {
     "name": "stderr",
     "output_type": "stream",
     "text": [
      " 90%|█████████ | 18/20 [43:39<04:46, 143.42s/it]"
     ]
    },
    {
     "name": "stdout",
     "output_type": "stream",
     "text": [
      "Iter #58, Loss : 1.0815058238174444\n"
     ]
    },
    {
     "name": "stderr",
     "output_type": "stream",
     "text": [
      " 95%|█████████▌| 19/20 [46:03<02:23, 143.52s/it]"
     ]
    },
    {
     "name": "stdout",
     "output_type": "stream",
     "text": [
      "Iter #59, Loss : 1.0806714834258864\n"
     ]
    },
    {
     "name": "stderr",
     "output_type": "stream",
     "text": [
      "100%|██████████| 20/20 [48:29<00:00, 145.50s/it]"
     ]
    },
    {
     "name": "stdout",
     "output_type": "stream",
     "text": [
      "Iter #60, Loss : 1.0798433337325626\n"
     ]
    },
    {
     "name": "stderr",
     "output_type": "stream",
     "text": [
      "\n"
     ]
    }
   ],
   "source": [
    "for it in tqdm(range(20)):\n",
    "    losses = []\n",
    "    for x,y in train_loader:\n",
    "        if cuda:\n",
    "            x,y = x.cuda(), y.cuda()\n",
    "            optimizer.zero_grad()\n",
    "            outputs = model(x)\n",
    "            loss = loss_fn(outputs.squeeze(), y.type(torch.float32))\n",
    "            losses.append(loss.item())\n",
    "            loss.backward()\n",
    "            optimizer.step()\n",
    "\n",
    "    avg_loss = sum(losses) / len(losses)\n",
    "    scheduler.step(avg_loss)\n",
    "    print(f\"Iter #{it+41}, Loss : {avg_loss}\")"
   ]
  },
  {
   "cell_type": "code",
   "execution_count": 50,
   "metadata": {},
   "outputs": [
    {
     "name": "stdout",
     "output_type": "stream",
     "text": [
      "user_factors.weight tensor([[ 0.1540,  0.1728,  0.1126,  ...,  0.1466,  0.2406,  0.0946],\n",
      "        [ 0.2934,  0.1568,  0.0629,  ...,  0.3000, -0.0606,  0.3105],\n",
      "        [-0.0665, -0.0347,  0.3138,  ...,  0.0420,  0.1678,  0.2016],\n",
      "        ...,\n",
      "        [ 0.0251, -0.0253,  0.3204,  ...,  0.4551,  0.1648,  0.0716],\n",
      "        [ 0.3449,  0.2340,  0.2382,  ...,  0.3611,  0.1184,  0.1801],\n",
      "        [ 0.0215,  0.0103,  0.0610,  ...,  0.1488, -0.0577,  0.2438]],\n",
      "       device='cuda:0')\n",
      "item_factors.weight tensor([[ 1.6101e+00, -4.8163e+00,  3.5477e+00,  ...,  1.3206e+00,\n",
      "         -3.2733e+00, -5.0432e+00],\n",
      "        [-1.7793e+00, -5.7129e-01, -7.3290e-01,  ...,  2.0049e-01,\n",
      "          1.6691e+00,  3.6876e+00],\n",
      "        [ 2.2628e+00,  1.4333e-01, -2.7188e-01,  ...,  1.4170e+00,\n",
      "          1.5578e+00,  1.7097e+00],\n",
      "        ...,\n",
      "        [ 1.2378e-02,  2.6597e-02,  1.1650e-02,  ...,  2.1247e-02,\n",
      "          1.8482e-02,  4.9884e-03],\n",
      "        [ 2.2208e-02,  1.5142e-02,  1.7409e-02,  ...,  2.2268e-02,\n",
      "          1.4237e-02, -4.6858e-03],\n",
      "        [ 1.8859e-02,  7.1231e-03,  1.1579e-02,  ...,  1.9479e-02,\n",
      "          4.9018e-03, -1.3054e-17]], device='cuda:0')\n"
     ]
    }
   ],
   "source": [
    "c = 0\n",
    "uw = 0\n",
    "iw = 0\n",
    "for name, param in model.named_parameters():\n",
    "    if param.requires_grad:\n",
    "        print(name,param.data)\n",
    "        if c == 0:\n",
    "            uw = param.data\n",
    "            c += 1\n",
    "        else:\n",
    "            iw = param.data"
   ]
  },
  {
   "cell_type": "code",
   "execution_count": 51,
   "metadata": {},
   "outputs": [],
   "source": [
    "trained_anime_embeddings = model.item_factors.weight.data.cpu().numpy()"
   ]
  },
  {
   "cell_type": "code",
   "execution_count": 52,
   "metadata": {},
   "outputs": [
    {
     "data": {
      "image/png": "[encoded data removed]",
      "text/plain": [
       "<Figure size 800x500 with 1 Axes>"
      ]
     },
     "metadata": {},
     "output_type": "display_data"
    }
   ],
   "source": [
    "import matplotlib.pyplot as plt\n",
    "from sklearn.cluster import KMeans\n",
    "import numpy as np\n",
    "\n",
    "inertias = []\n",
    "cluster_range = range(1, 200)\n",
    "\n",
    "for k in cluster_range:\n",
    "    kmeans = KMeans(n_clusters=k, random_state=0).fit(trained_anime_embeddings)\n",
    "    inertias.append(kmeans.inertia_)\n",
    "\n",
    "\n",
    "plt.figure(figsize=(8, 5))\n",
    "plt.plot(cluster_range, inertias, marker='o')\n",
    "plt.xlabel(\"Number of Clusters (k)\")\n",
    "plt.ylabel(\"Inertia (Within-cluster Sum of Squares)\")\n",
    "plt.title(\"Elbow Method For Optimal k\")\n",
    "plt.xticks(range(0, 201, 20))\n",
    "plt.show()\n"
   ]
  },
  {
   "cell_type": "code",
   "execution_count": 53,
   "metadata": {},
   "outputs": [],
   "source": [
    "n_clusters = 12\n",
    "kmeans = KMeans(n_clusters=n_clusters,random_state=0).fit(trained_anime_embeddings)"
   ]
  },
  {
   "cell_type": "code",
   "execution_count": 54,
   "metadata": {},
   "outputs": [
    {
     "name": "stdout",
     "output_type": "stream",
     "text": [
      "Cluster #0\n",
      "\t Dagashi Kashi\n",
      "\t Fate/kaleid liner Prisma☆Illya 2wei Herz!\n",
      "\t Boruto: Naruto Next Generations\n",
      "\t Binan Koukou Chikyuu Bouei-bu LOVE!\n",
      "\t Ao no Kanata no Four Rhythm\n",
      "\t Gaikotsu Kishi-sama, Tadaima Isekai e Odekakechuu\n",
      "\t 100-man no Inochi no Ue ni Ore wa Tatteiru\n",
      "\t 3D Kanojo: Real Girl\n",
      "\t Gyakuten Saiban: Sono \"Shinjitsu\", Igi Ari!\n",
      "\t Arifureta Shokugyou de Sekai Saikyou 2nd Season\n",
      "Cluster #1\n",
      "\t Dragon Ball Z\n",
      "\t Dragon Ball\n",
      "\t Great Teacher Onizuka\n",
      "\t Dragon Ball GT\n",
      "\t Gintama\n",
      "\t Yuu☆Yuu☆Hakusho\n",
      "\t Hajime no Ippo\n",
      "\t JoJo no Kimyou na Bouken (TV)\n",
      "\t Gyakkyou Burai Kaiji: Ultimate Survivor\n",
      "\t Gintama'\n",
      "Cluster #2\n",
      "\t Aki no Puzzle\n",
      "\t Kokuhaku\n",
      "\t 4.Eyes\n",
      "\t An Expression\n",
      "\t ?/Sankaku no Rhythm/Trump no Arasoi\n",
      "\t A Smart Experiment\n",
      "\t Aya Hito Shiki to Iu na no Ishi Hata\n",
      "\t Akuma no Kairozu\n",
      "\t Henshin Gattai! 5 tsu no Atsuki Tamashii\n",
      "\t Good-by Elvis and USA\n",
      "Cluster #3\n",
      "\t Fate/stay night\n",
      "\t Chobits\n",
      "\t Shakugan no Shana\n",
      "\t Zero no Tsukaima\n",
      "\t Rosario to Vampire\n",
      "\t School Days\n",
      "\t Love Hina\n",
      "\t ChäoS;HEAd\n",
      "\t Zero no Tsukaima: Futatsuki no Kishi\n",
      "\t Bokusatsu Tenshi Dokuro-chan\n",
      "Cluster #4\n",
      "\t Hametsu no Mars\n",
      "\t Conception\n",
      "\t Tenkuu Danzai Skelter+Heaven\n",
      "\t Shitcom\n",
      "\t Gibiate\n",
      "\t Bishoujo Yuugi Unit Crane Game Girls\n",
      "\t Ex-Arm\n",
      "\t Vampire Holmes\n",
      "\t 001\n",
      "\t Dark Cat\n",
      "Cluster #5\n",
      "\t Girls & Panzer\n",
      "\t Gatchaman Crowds\n",
      "\t Fate/kaleid liner Prisma☆Illya\n",
      "\t Chuunibyou demo Koi ga Shitai! Lite\n",
      "\t Flying Witch\n",
      "\t Danna ga Nani wo Itteiru ka Wakaranai Ken 2 Sure-me\n",
      "\t GJ-bu\n",
      "\t Non Non Biyori\n",
      "\t Hidamari Sketch\n",
      "\t Kara no Kyoukai Movie 8: Shuushou\n",
      "Cluster #6\n",
      "\t Elfen Lied\n",
      "\t Angel Beats!\n",
      "\t Clannad\n",
      "\t Suzumiya Haruhi no Yuuutsu\n",
      "\t Durarara!!\n",
      "\t Darker than Black: Kuro no Keiyakusha\n",
      "\t Toradora!\n",
      "\t Bakemonogatari\n",
      "\t K-On!\n",
      "\t Clannad: After Story\n",
      "Cluster #7\n",
      "\t Sen to Chihiro no Kamikakushi\n",
      "\t Cowboy Bebop\n",
      "\t Neon Genesis Evangelion\n",
      "\t Howl no Ugoku Shiro\n",
      "\t Mononoke Hime\n",
      "\t FLCL\n",
      "\t Samurai Champloo\n",
      "\t Byousoku 5 Centimeter\n",
      "\t Baccano!\n",
      "\t Toki wo Kakeru Shoujo\n",
      "Cluster #8\n",
      "\t Boku no Hero Academia\n",
      "\t Boku dake ga Inai Machi\n",
      "\t Boku no Hero Academia 2nd Season\n",
      "\t Akame ga Kill!\n",
      "\t Kiseijuu: Sei no Kakuritsu\n",
      "\t Tokyo Ghoul\n",
      "\t Gekkan Shoujo Nozaki-kun\n",
      "\t Dungeon ni Deai wo Motomeru no wa Machigatteiru Darou ka\n",
      "\t Log Horizon\n",
      "\t Fate/stay night: Unlimited Blade Works\n",
      "Cluster #9\n",
      "\t Digimon Adventure\n",
      "\t Naruto Movie 1: Dai Katsugeki!! Yuki Hime Shinobu Houjou Dattebayo!\n",
      "\t Digimon Adventure 02\n",
      "\t Pokemon Movie 01: Mewtwo no Gyakushuu\n",
      "\t Bleach: Memories in the Rain\n",
      "\t Naruto Movie 2: Dai Gekitotsu! Maboroshi no Chiteiiseki Dattebayo!\n",
      "\t Bleach: The Sealed Sword Frenzy\n",
      "\t Final Fantasy: The Spirits Within\n",
      "\t Naruto Movie 3: Dai Koufun! Mikazuki Jima no Animaru Panikku Dattebayo!\n",
      "\t Bishoujo Senshi Sailor Moon R\n",
      "Cluster #10\n",
      "\t Death Note\n",
      "\t Code Geass: Hangyaku no Lelouch\n",
      "\t Fullmetal Alchemist\n",
      "\t Bleach\n",
      "\t Naruto\n",
      "\t Code Geass: Hangyaku no Lelouch R2\n",
      "\t Fullmetal Alchemist: Brotherhood\n",
      "\t Ouran Koukou Host Club\n",
      "\t Naruto: Shippuuden\n",
      "\t Highschool of the Dead\n",
      "Cluster #11\n",
      "\t Highschool of the Dead: Drifters of the Dead\n",
      "\t Black Bullet\n",
      "\t Date A Live\n",
      "\t Mahouka Koukou no Rettousei\n",
      "\t Campione! Matsurowanu Kamigami to Kamigoroshi no Maou\n",
      "\t C³\n",
      "\t Hagure Yuusha no Aesthetica\n",
      "\t Code:Breaker\n",
      "\t Dakara Boku wa, H ga Dekinai.\n",
      "\t Arcana Famiglia\n"
     ]
    }
   ],
   "source": [
    "for cluster in range(n_clusters):\n",
    "    print(f'Cluster #{cluster}')\n",
    "    animes = []\n",
    "    for animeidx in np.where(kmeans.labels_ == cluster)[0]:\n",
    "        animeid = train_set.idx2uanimeid[animeidx]\n",
    "        rating_count = ratings_df.loc[ratings_df['anime_id'] == animeid].shape[0]\n",
    "        animes.append((anime_names[animeid], rating_count))\n",
    "    for anime in sorted(animes,key=lambda tup:tup[1],reverse=True)[:10]:\n",
    "        print('\\t', anime[0])"
   ]
  },
  {
   "cell_type": "code",
   "execution_count": 55,
   "metadata": {},
   "outputs": [],
   "source": [
    "torch.save(model.state_dict(), \"models/collaborative_weights.pth\")"
   ]
  },
  {
   "cell_type": "code",
   "execution_count": 56,
   "metadata": {},
   "outputs": [
    {
     "data": {
      "text/plain": [
       "MatrixFactorization(\n",
       "  (user_factors): Embedding(268664, 32)\n",
       "  (item_factors): Embedding(13125, 32)\n",
       ")"
      ]
     },
     "execution_count": 56,
     "metadata": {},
     "output_type": "execute_result"
    }
   ],
   "source": [
    "model.load_state_dict(torch.load('models/collaborative_weights.pth'))\n",
    "model.eval()  "
   ]
  },
  {
   "cell_type": "code",
   "execution_count": 57,
   "metadata": {},
   "outputs": [
    {
     "name": "stdout",
     "output_type": "stream",
     "text": [
      "Recommended shows based on Naruto : ['Naruto: Shippuuden', 'Bleach', 'One Piece', 'Soul Eater', 'Death Note', 'Katekyo Hitman Reborn!', 'Lucky☆Star', 'Fullmetal Alchemist: Brotherhood', 'Naruto: Takigakure no Shitou - Ore ga Eiyuu Dattebayo!', 'Fairy Tail']\n"
     ]
    }
   ],
   "source": [
    "def recommend_anime(input_show_name, model, train_set, anime_names, top_n=10):\n",
    "    # Create a mapping from show name to anime ID\n",
    "    name_to_id = {name: aid for aid, name in anime_names.items()}\n",
    "    \n",
    "    # Check if the input show is in the dataset\n",
    "    if input_show_name not in name_to_id:\n",
    "        print(\"Show not found in the dataset.\")\n",
    "        return []\n",
    "    \n",
    "    # Get the anime ID from the input show name\n",
    "    selected_anime_id = name_to_id[input_show_name]\n",
    "    \n",
    "    # Convert the anime ID to its corresponding index using train_set.animeid2idx\n",
    "    if selected_anime_id not in train_set.animeid2idx:\n",
    "        print(\"Anime ID not found in the mapping.\")\n",
    "        return []\n",
    "    anime_idx = train_set.animeid2idx[selected_anime_id]\n",
    "    \n",
    "    # Retrieve the embedding of the selected show\n",
    "    selected_embedding = model.item_factors.weight[anime_idx]\n",
    "    \n",
    "    # Retrieve all item embeddings\n",
    "    all_embeddings = model.item_factors.weight  # shape: (n_items, n_factors)\n",
    "    \n",
    "    # Compute similarity scores; using dot product is a simple approach:\n",
    "    similarities = torch.matmul(all_embeddings, selected_embedding)\n",
    "    \n",
    "    # Convert scores to a NumPy array for sorting\n",
    "    similarities = similarities.detach().cpu().numpy()\n",
    "    \n",
    "    # Get indices sorted in descending order of similarity\n",
    "    sorted_indices = similarities.argsort()[::-1]\n",
    "    \n",
    "    # Exclude the index of the selected show itself and take the top_n recommendations\n",
    "    recommended_indices = [idx for idx in sorted_indices if idx != anime_idx][:top_n]\n",
    "    \n",
    "    # Map the indices back to anime IDs and then to names using train_set.idx2uanimeid and anime_names dictionary\n",
    "    recommended_anime_ids = [train_set.idx2uanimeid[idx] for idx in recommended_indices]\n",
    "    recommended_shows = [anime_names.get(aid, \"Unknown\") for aid in recommended_anime_ids]\n",
    "    \n",
    "    return recommended_shows\n",
    "\n",
    "input_show = \"Naruto\"  \n",
    "recommendations = recommend_anime(input_show, model, train_set, anime_names, top_n=10)\n",
    "print(\"Recommended shows based on\", input_show, \":\", recommendations)\n"
   ]
  },
  {
   "cell_type": "code",
   "execution_count": 58,
   "metadata": {},
   "outputs": [],
   "source": [
    "import pickle\n",
    "with open('models/mappings.pkl', 'wb') as f:\n",
    "    pickle.dump({\n",
    "        'userid2idx': train_set.userid2idx,\n",
    "        'animeid2idx': train_set.animeid2idx,\n",
    "        'idx2uanimeid': train_set.idx2uanimeid\n",
    "    }, f)\n"
   ]
  },
  {
   "cell_type": "code",
   "execution_count": null,
   "metadata": {},
   "outputs": [],
   "source": []
  }
 ],
 "metadata": {
  "kernelspec": {
   "display_name": ".venv",
   "language": "python",
   "name": "python3"
  },
  "language_info": {
   "codemirror_mode": {
    "name": "ipython",
    "version": 3
   },
   "file_extension": ".py",
   "mimetype": "text/x-python",
   "name": "python",
   "nbconvert_exporter": "python",
   "pygments_lexer": "ipython3",
   "version": "3.12.3"
  }
 },
 "nbformat": 4,
 "nbformat_minor": 2
}
